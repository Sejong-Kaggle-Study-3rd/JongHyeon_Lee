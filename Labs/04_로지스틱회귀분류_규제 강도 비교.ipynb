{
  "nbformat": 4,
  "nbformat_minor": 0,
  "metadata": {
    "colab": {
      "name": "04_로지스틱회귀분류_규제 강도 비교",
      "provenance": []
    },
    "kernelspec": {
      "name": "python3",
      "display_name": "Python 3"
    }
  },
  "cells": [
    {
      "cell_type": "markdown",
      "metadata": {
        "id": "NiKS_1oPBdH7"
      },
      "source": [
        "##04_로지스틱회귀분류_규제 강도 비교"
      ]
    },
    {
      "cell_type": "code",
      "metadata": {
        "id": "bjZaMxVHBK2j"
      },
      "source": [
        "import pandas as pd\r\n",
        "import numpy as np"
      ],
      "execution_count": null,
      "outputs": []
    },
    {
      "cell_type": "markdown",
      "metadata": {
        "id": "i9jCIYMMB8hS"
      },
      "source": [
        "###1. 데이터셋 불러오기\r\n",
        "  - y 값은 이미 범주형이므로 데이터 카테고리 실수화 생략"
      ]
    },
    {
      "cell_type": "code",
      "metadata": {
        "colab": {
          "base_uri": "https://localhost:8080/",
          "height": 259
        },
        "id": "a4f4tn0nB6LF",
        "outputId": "1c9ccb47-662c-4b97-fb2d-e21993d8508a"
      },
      "source": [
        "dat_wine=pd.read_csv('http://archive.ics.uci.edu/ml/machine-learning-databases/wine/wine.data',header=None)\r\n",
        "\r\n",
        "dat_wine.head()\r\n",
        "dat_wine.columns = ['class label', 'alchohol', 'malic acid', 'ash',\r\n",
        "                    'alcalinity of ash', 'magnesium', 'total phenols', \r\n",
        "                    'flavanoids', 'nonflavanoid phenols', \r\n",
        "                    'proanthocyanins', 'color intensity', 'hue', \r\n",
        "                    'OD208', 'proline'] # column names\r\n",
        "print('class label: ', np.unique(dat_wine['class label']))\r\n",
        "dat_wine.head()"
      ],
      "execution_count": null,
      "outputs": [
        {
          "output_type": "stream",
          "text": [
            "class label:  [1 2 3]\n"
          ],
          "name": "stdout"
        },
        {
          "output_type": "execute_result",
          "data": {
            "text/html": [
              "<div>\n",
              "<style scoped>\n",
              "    .dataframe tbody tr th:only-of-type {\n",
              "        vertical-align: middle;\n",
              "    }\n",
              "\n",
              "    .dataframe tbody tr th {\n",
              "        vertical-align: top;\n",
              "    }\n",
              "\n",
              "    .dataframe thead th {\n",
              "        text-align: right;\n",
              "    }\n",
              "</style>\n",
              "<table border=\"1\" class=\"dataframe\">\n",
              "  <thead>\n",
              "    <tr style=\"text-align: right;\">\n",
              "      <th></th>\n",
              "      <th>class label</th>\n",
              "      <th>alchohol</th>\n",
              "      <th>malic acid</th>\n",
              "      <th>ash</th>\n",
              "      <th>alcalinity of ash</th>\n",
              "      <th>magnesium</th>\n",
              "      <th>total phenols</th>\n",
              "      <th>flavanoids</th>\n",
              "      <th>nonflavanoid phenols</th>\n",
              "      <th>proanthocyanins</th>\n",
              "      <th>color intensity</th>\n",
              "      <th>hue</th>\n",
              "      <th>OD208</th>\n",
              "      <th>proline</th>\n",
              "    </tr>\n",
              "  </thead>\n",
              "  <tbody>\n",
              "    <tr>\n",
              "      <th>0</th>\n",
              "      <td>1</td>\n",
              "      <td>14.23</td>\n",
              "      <td>1.71</td>\n",
              "      <td>2.43</td>\n",
              "      <td>15.6</td>\n",
              "      <td>127</td>\n",
              "      <td>2.80</td>\n",
              "      <td>3.06</td>\n",
              "      <td>0.28</td>\n",
              "      <td>2.29</td>\n",
              "      <td>5.64</td>\n",
              "      <td>1.04</td>\n",
              "      <td>3.92</td>\n",
              "      <td>1065</td>\n",
              "    </tr>\n",
              "    <tr>\n",
              "      <th>1</th>\n",
              "      <td>1</td>\n",
              "      <td>13.20</td>\n",
              "      <td>1.78</td>\n",
              "      <td>2.14</td>\n",
              "      <td>11.2</td>\n",
              "      <td>100</td>\n",
              "      <td>2.65</td>\n",
              "      <td>2.76</td>\n",
              "      <td>0.26</td>\n",
              "      <td>1.28</td>\n",
              "      <td>4.38</td>\n",
              "      <td>1.05</td>\n",
              "      <td>3.40</td>\n",
              "      <td>1050</td>\n",
              "    </tr>\n",
              "    <tr>\n",
              "      <th>2</th>\n",
              "      <td>1</td>\n",
              "      <td>13.16</td>\n",
              "      <td>2.36</td>\n",
              "      <td>2.67</td>\n",
              "      <td>18.6</td>\n",
              "      <td>101</td>\n",
              "      <td>2.80</td>\n",
              "      <td>3.24</td>\n",
              "      <td>0.30</td>\n",
              "      <td>2.81</td>\n",
              "      <td>5.68</td>\n",
              "      <td>1.03</td>\n",
              "      <td>3.17</td>\n",
              "      <td>1185</td>\n",
              "    </tr>\n",
              "    <tr>\n",
              "      <th>3</th>\n",
              "      <td>1</td>\n",
              "      <td>14.37</td>\n",
              "      <td>1.95</td>\n",
              "      <td>2.50</td>\n",
              "      <td>16.8</td>\n",
              "      <td>113</td>\n",
              "      <td>3.85</td>\n",
              "      <td>3.49</td>\n",
              "      <td>0.24</td>\n",
              "      <td>2.18</td>\n",
              "      <td>7.80</td>\n",
              "      <td>0.86</td>\n",
              "      <td>3.45</td>\n",
              "      <td>1480</td>\n",
              "    </tr>\n",
              "    <tr>\n",
              "      <th>4</th>\n",
              "      <td>1</td>\n",
              "      <td>13.24</td>\n",
              "      <td>2.59</td>\n",
              "      <td>2.87</td>\n",
              "      <td>21.0</td>\n",
              "      <td>118</td>\n",
              "      <td>2.80</td>\n",
              "      <td>2.69</td>\n",
              "      <td>0.39</td>\n",
              "      <td>1.82</td>\n",
              "      <td>4.32</td>\n",
              "      <td>1.04</td>\n",
              "      <td>2.93</td>\n",
              "      <td>735</td>\n",
              "    </tr>\n",
              "  </tbody>\n",
              "</table>\n",
              "</div>"
            ],
            "text/plain": [
              "   class label  alchohol  malic acid  ...   hue  OD208  proline\n",
              "0            1     14.23        1.71  ...  1.04   3.92     1065\n",
              "1            1     13.20        1.78  ...  1.05   3.40     1050\n",
              "2            1     13.16        2.36  ...  1.03   3.17     1185\n",
              "3            1     14.37        1.95  ...  0.86   3.45     1480\n",
              "4            1     13.24        2.59  ...  1.04   2.93      735\n",
              "\n",
              "[5 rows x 14 columns]"
            ]
          },
          "metadata": {
            "tags": []
          },
          "execution_count": 10
        }
      ]
    },
    {
      "cell_type": "markdown",
      "metadata": {
        "id": "2p2j_byDMQMS"
      },
      "source": [
        "###3. 데이터 분할"
      ]
    },
    {
      "cell_type": "code",
      "metadata": {
        "id": "hxabz0h1MOUd"
      },
      "source": [
        "from sklearn.model_selection import train_test_split\r\n",
        "X = dat_wine.iloc[:,1:].values\r\n",
        "y = dat_wine.iloc[:,0].values\r\n",
        "X_train, X_test, y_train, y_test = train_test_split(X, y, test_size = 0.3, random_state = 1, stratify = y)"
      ],
      "execution_count": null,
      "outputs": []
    },
    {
      "cell_type": "markdown",
      "metadata": {
        "id": "RHuRIu6hM6D2"
      },
      "source": [
        "###4. 입력 데이터의 표준화"
      ]
    },
    {
      "cell_type": "code",
      "metadata": {
        "id": "CZMMqMk0M5ca"
      },
      "source": [
        "from sklearn.preprocessing import StandardScaler\r\n",
        "std = StandardScaler()\r\n",
        "X_train_std = std.fit_transform(X_train)\r\n",
        "X_test_std = std.fit_transform(X_test)"
      ],
      "execution_count": null,
      "outputs": []
    },
    {
      "cell_type": "markdown",
      "metadata": {
        "id": "rrkZDflUNQHC"
      },
      "source": [
        "###5. 모델 추정: Logistic Regression\r\n",
        "Logistic Regression with L2 or L1 Regularization\r\n",
        "\r\n"
      ]
    },
    {
      "cell_type": "code",
      "metadata": {
        "id": "hvJeeIS9M97R"
      },
      "source": [
        "from sklearn.linear_model import LogisticRegression\r\n",
        "\r\n",
        "# L2 with various Cs\r\n",
        "lr2_10 = LogisticRegression(penalty = 'l2', C = 10.0, solver = 'saga') # L2 with C(=1/λ)=10\r\n",
        "lr2_1 = LogisticRegression(penalty = 'l2', C = 1.0, solver = 'saga') # L2 with C(=1/λ)=1\r\n",
        "lr2_0_1 = LogisticRegression(penalty = 'l2', C = 0.1, solver = 'saga') # L2 with C(=1/λ)=0.1\r\n",
        "\r\n",
        "# L1 with various Cs\r\n",
        "lr1_10 = LogisticRegression(penalty = 'l1', C = 10.0, solver = 'saga') # L1 with C(=1/λ)=10\r\n",
        "lr1_1 = LogisticRegression(penalty = 'l1', C = 1.0, solver = 'saga') # L1 with C(=1/λ)=1\r\n",
        "lr1_0_1 = LogisticRegression(penalty = 'l1', C = 0.1, solver = 'saga') # L1 with C(=1/λ)=0.1"
      ],
      "execution_count": null,
      "outputs": []
    },
    {
      "cell_type": "markdown",
      "metadata": {
        "id": "wpwpJ1bsPKcG"
      },
      "source": [
        "###6. 결과 분석\r\n",
        "규제화 방법(L2 or L1)과 규제강도(λ)를 바꿔가며 정확도 계산 및 비교"
      ]
    },
    {
      "cell_type": "code",
      "metadata": {
        "colab": {
          "base_uri": "https://localhost:8080/"
        },
        "id": "7vni3CGANzaK",
        "outputId": "8200c120-035e-40a5-c3b0-f7ebe59ffe7c"
      },
      "source": [
        "lr2_10.fit(X_train_std, y_train)\r\n",
        "print('Training accuracy with L2 and λ=0.1:', lr2_10.score(X_train_std, y_train))\r\n",
        "print('Test accuracy with L2 and λ=0.1:', lr2_10.score(X_test_std, y_test))\r\n",
        "\r\n",
        "lr2_1.fit(X_train_std, y_train)\r\n",
        "print('Training accuracy with L2 and λ=1:', lr2_1.score(X_train_std, y_train))\r\n",
        "print('Test accuracy with L2 and λ=1:', lr2_1.score(X_test_std, y_test))\r\n",
        "\r\n",
        "lr2_0_1.fit(X_train_std, y_train)\r\n",
        "print('Training accuracy with L2 and λ=10:', lr2_0_1.score(X_train_std, y_train))\r\n",
        "print('Test accuracy with L2 and λ=10:', lr2_0_1.score(X_test_std, y_test))\r\n",
        "\r\n",
        "lr1_10.fit(X_train_std, y_train)\r\n",
        "print('Training accuracy with L1 and λ=0.1:', lr1_10.score(X_train_std, y_train))\r\n",
        "print('Test accuracy with L1 and λ=0.1:', lr1_10.score(X_test_std, y_test))\r\n",
        "\r\n",
        "lr1_1.fit(X_train_std, y_train)\r\n",
        "print('Training accuracy with L1 and λ=1:', lr1_1.score(X_train_std, y_train))\r\n",
        "print('Test accuracy with L1 and λ=1:', lr1_1.score(X_test_std, y_test))\r\n",
        "\r\n",
        "lr1_0_1.fit(X_train_std, y_train)\r\n",
        "print('Training accuracy with L1 and λ=10:', lr1_0_1.score(X_train_std, y_train))\r\n",
        "print('Test accuracy with L1 and λ=10:', lr1_0_1.score(X_test_std, y_test))"
      ],
      "execution_count": null,
      "outputs": [
        {
          "output_type": "stream",
          "text": [
            "Training accuracy with L2 and λ=0.1: 1.0\n",
            "Test accuracy with L2 and λ=0.1: 0.9629629629629629\n",
            "Training accuracy with L2 and λ=1: 1.0\n",
            "Test accuracy with L2 and λ=1: 0.9814814814814815\n",
            "Training accuracy with L2 and λ=10: 1.0\n",
            "Test accuracy with L2 and λ=10: 0.9814814814814815\n",
            "Training accuracy with L1 and λ=0.1: 1.0\n",
            "Test accuracy with L1 and λ=0.1: 0.9814814814814815\n",
            "Training accuracy with L1 and λ=1: 1.0\n",
            "Test accuracy with L1 and λ=1: 0.9814814814814815\n",
            "Training accuracy with L1 and λ=10: 0.967741935483871\n",
            "Test accuracy with L1 and λ=10: 0.9629629629629629\n"
          ],
          "name": "stdout"
        },
        {
          "output_type": "stream",
          "text": [
            "/usr/local/lib/python3.7/dist-packages/sklearn/linear_model/_sag.py:330: ConvergenceWarning: The max_iter was reached which means the coef_ did not converge\n",
            "  \"the coef_ did not converge\", ConvergenceWarning)\n",
            "/usr/local/lib/python3.7/dist-packages/sklearn/linear_model/_sag.py:330: ConvergenceWarning: The max_iter was reached which means the coef_ did not converge\n",
            "  \"the coef_ did not converge\", ConvergenceWarning)\n",
            "/usr/local/lib/python3.7/dist-packages/sklearn/linear_model/_sag.py:330: ConvergenceWarning: The max_iter was reached which means the coef_ did not converge\n",
            "  \"the coef_ did not converge\", ConvergenceWarning)\n",
            "/usr/local/lib/python3.7/dist-packages/sklearn/linear_model/_sag.py:330: ConvergenceWarning: The max_iter was reached which means the coef_ did not converge\n",
            "  \"the coef_ did not converge\", ConvergenceWarning)\n"
          ],
          "name": "stderr"
        }
      ]
    },
    {
      "cell_type": "markdown",
      "metadata": {
        "id": "eY2zZWlcRyhm"
      },
      "source": [
        "L2 규제의 규제 강도(C=1/λ)를 바꿔가며 계수 추정치 관찰"
      ]
    },
    {
      "cell_type": "code",
      "metadata": {
        "colab": {
          "base_uri": "https://localhost:8080/"
        },
        "id": "RRN3ycirRuDE",
        "outputId": "2ffd7bc8-dcc7-4706-86c4-805276950a39"
      },
      "source": [
        "#모델의 기울기\r\n",
        "print(lr2_10.intercept_)\r\n",
        "print(lr2_1.intercept_)\r\n",
        "print(lr2_0_1.intercept_)\r\n",
        "\r\n",
        "#모델의 절편\r\n",
        "print(lr2_10.coef_)\r\n",
        "print(lr2_1.coef_)\r\n",
        "print(lr2_0_1.coef_)"
      ],
      "execution_count": null,
      "outputs": [
        {
          "output_type": "stream",
          "text": [
            "[ 0.31860509  0.64346784 -0.96207293]\n",
            "[ 0.28376708  0.60390172 -0.8876688 ]\n",
            "[ 0.06843359  0.45685509 -0.52528868]\n",
            "[[ 1.25788632  0.17760598  0.35657628 -1.54761812  0.13757124  0.37280048\n",
            "   0.91050525 -0.3079761   0.03435118  0.1528233   0.08933145  0.99168296\n",
            "   1.31331094]\n",
            " [-1.56479148 -0.4383257  -1.27003584  1.24535438 -0.34090466 -0.51257479\n",
            "   0.82362412  0.41488584  0.42061542 -1.32437357  1.14215782  0.04271079\n",
            "  -1.69749997]\n",
            " [ 0.30690516  0.26071972  0.91345956  0.30226374  0.20333342  0.13977431\n",
            "  -1.73412938 -0.10690974 -0.45496659  1.17155027 -1.23148927 -1.03439375\n",
            "   0.38418902]]\n",
            "[[ 0.75467373  0.06156123  0.233273   -0.89235189  0.02628102  0.29428773\n",
            "   0.560916   -0.20729873  0.13438551  0.12796929  0.10222944  0.61792633\n",
            "   0.90942118]\n",
            " [-0.98659744 -0.32322533 -0.65172223  0.66768203 -0.22947405 -0.20700797\n",
            "   0.43825474  0.19827681  0.24418201 -0.78011296  0.63731846  0.0857639\n",
            "  -1.03439577]\n",
            " [ 0.23192371  0.26166409  0.41844922  0.22466985  0.20319302 -0.08727976\n",
            "  -0.99917073  0.00902192 -0.37856752  0.65214367 -0.7395479  -0.70369024\n",
            "   0.12497458]]\n",
            "[[ 0.41029153 -0.03150938  0.13677012 -0.41133992  0.05382752  0.22360053\n",
            "   0.31670101 -0.15967591  0.11370513  0.07038052  0.11107543  0.30980343\n",
            "   0.51690413]\n",
            " [-0.54265256 -0.20155696 -0.25666505  0.2807185  -0.14836652 -0.0406024\n",
            "   0.12453182  0.08291214  0.10087468 -0.44573322  0.27319364  0.09645459\n",
            "  -0.51870876]\n",
            " [ 0.13236103  0.23306633  0.11989493  0.13062142  0.094539   -0.18299812\n",
            "  -0.44123283  0.07676377 -0.21457981  0.3753527  -0.38426907 -0.40625802\n",
            "   0.00180463]]\n"
          ],
          "name": "stdout"
        }
      ]
    },
    {
      "cell_type": "markdown",
      "metadata": {
        "id": "ivnI9jVwSt2c"
      },
      "source": [
        "L1 규제의 규제강도(C=1/λ)를 바꿔가며 계수 추정치 관찰"
      ]
    },
    {
      "cell_type": "code",
      "metadata": {
        "colab": {
          "base_uri": "https://localhost:8080/"
        },
        "id": "cV08fBIKSsBG",
        "outputId": "0858304b-34ef-4019-8c41-fcc7ee7862ae"
      },
      "source": [
        "#모델의 기울기\r\n",
        "print(lr1_10.intercept_)\r\n",
        "print(lr1_1.intercept_)\r\n",
        "print(lr1_0_1.intercept_)\r\n",
        "\r\n",
        "#모델의 절편\r\n",
        "print(lr1_10.coef_)\r\n",
        "print(lr1_1.coef_)\r\n",
        "print(lr1_0_1.coef_)"
      ],
      "execution_count": null,
      "outputs": [
        {
          "output_type": "stream",
          "text": [
            "[ 0.34752147  0.65468189 -1.00220336]\n",
            "[ 0.28973949  0.53659442 -0.82633391]\n",
            "[ 0.05084395  0.30693006 -0.35777401]\n",
            "[[ 1.21569089  0.          0.20294765 -1.60177534  0.          0.20391338\n",
            "   0.79431772 -0.13182987  0.          0.          0.          0.9194363\n",
            "   1.51657738]\n",
            " [-1.80439471 -0.40141874 -1.48865361  1.07153443 -0.32317319 -0.42415058\n",
            "   0.67400058  0.39069184  0.21116892 -1.40320993  1.17333606  0.\n",
            "  -1.98759694]\n",
            " [ 0.06120671  0.17626697  0.75854917  0.00512603  0.20963114  0.\n",
            "  -1.99573033  0.         -0.39259069  1.15392494 -1.22653394 -0.96209286\n",
            "   0.        ]]\n",
            "[[ 0.02872355  0.          0.         -1.17742433  0.          0.\n",
            "   0.02959819  0.          0.          0.          0.          0.62434593\n",
            "   0.96314921]\n",
            " [-1.57124778 -0.14944645 -0.76643108  0.03893103 -0.06807047  0.\n",
            "   0.          0.13559967  0.         -1.04316161  0.21990128  0.\n",
            "  -1.22147589]\n",
            " [ 0.          0.          0.          0.          0.          0.\n",
            "  -2.0828414   0.         -0.03416089  0.23106959 -0.80126525 -0.66957334\n",
            "   0.        ]]\n",
            "[[ 0.          0.          0.         -0.04186434  0.          0.\n",
            "   0.23306842  0.          0.          0.          0.          0.\n",
            "   0.84030896]\n",
            " [-0.83481805  0.          0.          0.          0.          0.\n",
            "   0.          0.          0.         -0.42339579  0.          0.\n",
            "  -0.2065965 ]\n",
            " [ 0.          0.          0.          0.          0.          0.\n",
            "  -0.60112704  0.          0.          0.10484215 -0.35222211 -0.52141047\n",
            "   0.        ]]\n"
          ],
          "name": "stdout"
        }
      ]
    },
    {
      "cell_type": "code",
      "metadata": {
        "id": "hoq-8vo1TDXO"
      },
      "source": [
        ""
      ],
      "execution_count": null,
      "outputs": []
    }
  ]
}