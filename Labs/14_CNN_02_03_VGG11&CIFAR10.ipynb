{
  "nbformat": 4,
  "nbformat_minor": 0,
  "metadata": {
    "colab": {
      "name": "14_CNN_02_03_VGG11&CIFAR10",
      "provenance": [],
      "collapsed_sections": []
    },
    "kernelspec": {
      "name": "python3",
      "display_name": "Python 3"
    },
    "language_info": {
      "name": "python"
    },
    "accelerator": "GPU"
  },
  "cells": [
    {
      "cell_type": "markdown",
      "metadata": {
        "id": "Ml9VveYqpk8P"
      },
      "source": [
        "#14_CNN_VGG11&CIFAR10"
      ]
    },
    {
      "cell_type": "markdown",
      "metadata": {
        "id": "g8dma-vnk8Nw"
      },
      "source": [
        "###ML 라이브러리: Pytorch(GPU)"
      ]
    },
    {
      "cell_type": "code",
      "metadata": {
        "id": "gSmmAf-zpJZW"
      },
      "source": [
        "import torch\n",
        "import torchvision\n",
        "import torchvision.transforms as transforms\n",
        "import torch.optim as optim\n",
        "import time\n",
        "import torch.nn.functional as F\n",
        "import torch.nn as nn\n",
        "import matplotlib.pyplot as plt\n",
        " \n",
        "from torchvision import models"
      ],
      "execution_count": 1,
      "outputs": []
    },
    {
      "cell_type": "markdown",
      "metadata": {
        "id": "YEpDQzcqclib"
      },
      "source": [
        "GPU 사용을 명시적으로 보여주기 & Random Seed 고정하기"
      ]
    },
    {
      "cell_type": "code",
      "metadata": {
        "id": "i__V9okq-vax"
      },
      "source": [
        "device = 'cuda' if torch.cuda.is_available() else 'cpu'\n",
        "\n",
        "torch.manual_seed(777)\n",
        "if device == 'cuda':\n",
        "    torch.cuda.manual_seed_all(777)"
      ],
      "execution_count": 2,
      "outputs": []
    },
    {
      "cell_type": "markdown",
      "metadata": {
        "id": "Ii39sjb4cnt5"
      },
      "source": [
        "학습 파라미터 설정"
      ]
    },
    {
      "cell_type": "code",
      "metadata": {
        "id": "9l6Wt88W1vSe"
      },
      "source": [
        "learning_rate = 0.001\n",
        "training_epochs = 10\n",
        "batch_size = 32"
      ],
      "execution_count": 3,
      "outputs": []
    },
    {
      "cell_type": "markdown",
      "metadata": {
        "id": "ZcN3aMjvd3Rm"
      },
      "source": [
        "##1. 데이터셋 불러오기"
      ]
    },
    {
      "cell_type": "code",
      "metadata": {
        "id": "oHYM2QwF11mK"
      },
      "source": [
        "transform = transforms.Compose(\n",
        "      [transforms.Resize((224, 224)),\n",
        "       transforms.ToTensor(), \n",
        "      transforms.Normalize((0.5, 0.5, 0.5), (0.5, 0.5, 0.5))])"
      ],
      "execution_count": 4,
      "outputs": []
    },
    {
      "cell_type": "code",
      "metadata": {
        "colab": {
          "base_uri": "https://localhost:8080/"
        },
        "id": "AzR7pU9m2JDU",
        "outputId": "c2308d5c-e05a-4bd7-b947-cd96c0f19d7e"
      },
      "source": [
        "train_set = torchvision.datasets.CIFAR10(root = './data', train = True, download = True, transform = transform)\n",
        "\n",
        "train_loader = torch.utils.data.DataLoader(train_set, batch_size = batch_size, shuffle = True)"
      ],
      "execution_count": 5,
      "outputs": [
        {
          "output_type": "stream",
          "text": [
            "Files already downloaded and verified\n"
          ],
          "name": "stdout"
        }
      ]
    },
    {
      "cell_type": "code",
      "metadata": {
        "colab": {
          "base_uri": "https://localhost:8080/"
        },
        "id": "WgBRxWEU2-Kc",
        "outputId": "d9660245-c892-44bc-c4ef-63bdd87fe83b"
      },
      "source": [
        "test_set = torchvision.datasets.CIFAR10(root = './data', train = False, download = True, transform = transform)\n",
        "\n",
        "test_loader = torch.utils.data.DataLoader(test_set, batch_size = batch_size, shuffle = False)"
      ],
      "execution_count": 6,
      "outputs": [
        {
          "output_type": "stream",
          "text": [
            "Files already downloaded and verified\n"
          ],
          "name": "stdout"
        }
      ]
    },
    {
      "cell_type": "markdown",
      "metadata": {
        "id": "OyWTncPzhidk"
      },
      "source": [
        "##5. 모델 추정"
      ]
    },
    {
      "cell_type": "markdown",
      "metadata": {
        "id": "fFnmVIasm2gx"
      },
      "source": [
        "###모델 정의: VGG11(사전학습 모델)"
      ]
    },
    {
      "cell_type": "code",
      "metadata": {
        "colab": {
          "base_uri": "https://localhost:8080/"
        },
        "id": "wIj0O13o_4tt",
        "outputId": "68504df7-a07c-41ca-a308-0f052ed90162"
      },
      "source": [
        "vgg11 = models.vgg11(pretrained = True) # pretrained = True : 사전학습 모델 사용한다 default = False\n",
        "vgg11.to(device)"
      ],
      "execution_count": 7,
      "outputs": [
        {
          "output_type": "execute_result",
          "data": {
            "text/plain": [
              "VGG(\n",
              "  (features): Sequential(\n",
              "    (0): Conv2d(3, 64, kernel_size=(3, 3), stride=(1, 1), padding=(1, 1))\n",
              "    (1): ReLU(inplace=True)\n",
              "    (2): MaxPool2d(kernel_size=2, stride=2, padding=0, dilation=1, ceil_mode=False)\n",
              "    (3): Conv2d(64, 128, kernel_size=(3, 3), stride=(1, 1), padding=(1, 1))\n",
              "    (4): ReLU(inplace=True)\n",
              "    (5): MaxPool2d(kernel_size=2, stride=2, padding=0, dilation=1, ceil_mode=False)\n",
              "    (6): Conv2d(128, 256, kernel_size=(3, 3), stride=(1, 1), padding=(1, 1))\n",
              "    (7): ReLU(inplace=True)\n",
              "    (8): Conv2d(256, 256, kernel_size=(3, 3), stride=(1, 1), padding=(1, 1))\n",
              "    (9): ReLU(inplace=True)\n",
              "    (10): MaxPool2d(kernel_size=2, stride=2, padding=0, dilation=1, ceil_mode=False)\n",
              "    (11): Conv2d(256, 512, kernel_size=(3, 3), stride=(1, 1), padding=(1, 1))\n",
              "    (12): ReLU(inplace=True)\n",
              "    (13): Conv2d(512, 512, kernel_size=(3, 3), stride=(1, 1), padding=(1, 1))\n",
              "    (14): ReLU(inplace=True)\n",
              "    (15): MaxPool2d(kernel_size=2, stride=2, padding=0, dilation=1, ceil_mode=False)\n",
              "    (16): Conv2d(512, 512, kernel_size=(3, 3), stride=(1, 1), padding=(1, 1))\n",
              "    (17): ReLU(inplace=True)\n",
              "    (18): Conv2d(512, 512, kernel_size=(3, 3), stride=(1, 1), padding=(1, 1))\n",
              "    (19): ReLU(inplace=True)\n",
              "    (20): MaxPool2d(kernel_size=2, stride=2, padding=0, dilation=1, ceil_mode=False)\n",
              "  )\n",
              "  (avgpool): AdaptiveAvgPool2d(output_size=(7, 7))\n",
              "  (classifier): Sequential(\n",
              "    (0): Linear(in_features=25088, out_features=4096, bias=True)\n",
              "    (1): ReLU(inplace=True)\n",
              "    (2): Dropout(p=0.5, inplace=False)\n",
              "    (3): Linear(in_features=4096, out_features=4096, bias=True)\n",
              "    (4): ReLU(inplace=True)\n",
              "    (5): Dropout(p=0.5, inplace=False)\n",
              "    (6): Linear(in_features=4096, out_features=1000, bias=True)\n",
              "  )\n",
              ")"
            ]
          },
          "metadata": {
            "tags": []
          },
          "execution_count": 7
        }
      ]
    },
    {
      "cell_type": "code",
      "metadata": {
        "colab": {
          "base_uri": "https://localhost:8080/"
        },
        "id": "4qTS4tgMAZX6",
        "outputId": "80bee5af-3e55-48ee-c94a-8e2f4db6b017"
      },
      "source": [
        "print(vgg11)"
      ],
      "execution_count": 8,
      "outputs": [
        {
          "output_type": "stream",
          "text": [
            "VGG(\n",
            "  (features): Sequential(\n",
            "    (0): Conv2d(3, 64, kernel_size=(3, 3), stride=(1, 1), padding=(1, 1))\n",
            "    (1): ReLU(inplace=True)\n",
            "    (2): MaxPool2d(kernel_size=2, stride=2, padding=0, dilation=1, ceil_mode=False)\n",
            "    (3): Conv2d(64, 128, kernel_size=(3, 3), stride=(1, 1), padding=(1, 1))\n",
            "    (4): ReLU(inplace=True)\n",
            "    (5): MaxPool2d(kernel_size=2, stride=2, padding=0, dilation=1, ceil_mode=False)\n",
            "    (6): Conv2d(128, 256, kernel_size=(3, 3), stride=(1, 1), padding=(1, 1))\n",
            "    (7): ReLU(inplace=True)\n",
            "    (8): Conv2d(256, 256, kernel_size=(3, 3), stride=(1, 1), padding=(1, 1))\n",
            "    (9): ReLU(inplace=True)\n",
            "    (10): MaxPool2d(kernel_size=2, stride=2, padding=0, dilation=1, ceil_mode=False)\n",
            "    (11): Conv2d(256, 512, kernel_size=(3, 3), stride=(1, 1), padding=(1, 1))\n",
            "    (12): ReLU(inplace=True)\n",
            "    (13): Conv2d(512, 512, kernel_size=(3, 3), stride=(1, 1), padding=(1, 1))\n",
            "    (14): ReLU(inplace=True)\n",
            "    (15): MaxPool2d(kernel_size=2, stride=2, padding=0, dilation=1, ceil_mode=False)\n",
            "    (16): Conv2d(512, 512, kernel_size=(3, 3), stride=(1, 1), padding=(1, 1))\n",
            "    (17): ReLU(inplace=True)\n",
            "    (18): Conv2d(512, 512, kernel_size=(3, 3), stride=(1, 1), padding=(1, 1))\n",
            "    (19): ReLU(inplace=True)\n",
            "    (20): MaxPool2d(kernel_size=2, stride=2, padding=0, dilation=1, ceil_mode=False)\n",
            "  )\n",
            "  (avgpool): AdaptiveAvgPool2d(output_size=(7, 7))\n",
            "  (classifier): Sequential(\n",
            "    (0): Linear(in_features=25088, out_features=4096, bias=True)\n",
            "    (1): ReLU(inplace=True)\n",
            "    (2): Dropout(p=0.5, inplace=False)\n",
            "    (3): Linear(in_features=4096, out_features=4096, bias=True)\n",
            "    (4): ReLU(inplace=True)\n",
            "    (5): Dropout(p=0.5, inplace=False)\n",
            "    (6): Linear(in_features=4096, out_features=1000, bias=True)\n",
            "  )\n",
            ")\n"
          ],
          "name": "stdout"
        }
      ]
    },
    {
      "cell_type": "markdown",
      "metadata": {
        "id": "zPvynWWwKEk_"
      },
      "source": [
        "CIFAR10의 클래스 개수가 10개 이므로 vgg10가 분류하는 클래스 개수를 10개로 바꿔준다<br>\n",
        "- vgg11.classifier[6]은 (classifier)의 (6): Linear를 의미한다\n",
        "- (6): Linear의 out_featur를 1,000에서 10으로 바꿔준다"
      ]
    },
    {
      "cell_type": "code",
      "metadata": {
        "id": "iPzT2fXVAjhG"
      },
      "source": [
        "vgg11.classifier[6].out_features = 10"
      ],
      "execution_count": 9,
      "outputs": []
    },
    {
      "cell_type": "markdown",
      "metadata": {
        "id": "E9UwRHuSLKhR"
      },
      "source": [
        "사전학습 모델 사용시 주의 사항\n",
        "- 반드시 로드한 가중치는 변경되지 않도록 한다\n",
        "- VGG11 모델 중 FC 이전까지의 파라미터를 고정한다"
      ]
    },
    {
      "cell_type": "code",
      "metadata": {
        "id": "GtOogg90J5zK"
      },
      "source": [
        "# .required_grad = False : 가중치 갱신x(파라미터 고정)\n",
        "# = True : 가중치 갱신(학습 중)\n",
        "for parameter in vgg11.features.parameters():\n",
        "    parameter.required_grad = False"
      ],
      "execution_count": 10,
      "outputs": []
    },
    {
      "cell_type": "markdown",
      "metadata": {
        "id": "MK5JMQ_Ti2QG"
      },
      "source": [
        "###모델 학습"
      ]
    },
    {
      "cell_type": "markdown",
      "metadata": {
        "id": "YrdiSU_IPW07"
      },
      "source": [
        "Cross Entropy Loss & SGD"
      ]
    },
    {
      "cell_type": "code",
      "metadata": {
        "id": "zBgoB1miMRaG"
      },
      "source": [
        "loss = nn.CrossEntropyLoss().to(device)\n",
        "optimizer = optim.SGD(vgg11.classifier.parameters(), lr = learning_rate, momentum = 0.9)"
      ],
      "execution_count": 11,
      "outputs": []
    },
    {
      "cell_type": "markdown",
      "metadata": {
        "id": "t50izj_wM3I2"
      },
      "source": [
        "Training Functinon"
      ]
    },
    {
      "cell_type": "code",
      "metadata": {
        "id": "xtppSL4YM53E"
      },
      "source": [
        "def train(model, train_data_lodaer):\n",
        "    model.train()\n",
        "\n",
        "    train_running_loss = 0.0\n",
        "    train_running_correct = 0\n",
        "\n",
        "    for i, data in enumerate(train_data_lodaer):\n",
        "        data, target = data[0].to(device), data[1].to(device)\n",
        "\n",
        "        # Gradient Initialization\n",
        "        optimizer.zero_grad()\n",
        "\n",
        "        # Forward 계산\n",
        "        hypothesis = model(data)\n",
        "\n",
        "        # Cost : Error 계산\n",
        "        cost = loss(hypothesis, target)\n",
        "\n",
        "        # Backpropagation\n",
        "        cost.backward()\n",
        "\n",
        "        # Cost로 가중치(W, b) 갱신\n",
        "        optimizer.step()\n",
        "\n",
        "        train_running_loss += cost.item()\n",
        "        _, preds = torch.max(hypothesis.data, 1)\n",
        "        train_running_correct += (preds == target).sum().item()\n",
        "\n",
        "    train_loss = train_running_loss/len(train_data_lodaer.dataset)\n",
        "    train_accuracy = 100. * train_running_correct/len(train_data_lodaer.dataset)\n",
        "      \n",
        "    print(f'Train Loss: {train_loss:.4f}, Train Acc: {train_accuracy:.2f}')\n",
        "    \n",
        "    return train_loss, train_accuracy"
      ],
      "execution_count": 12,
      "outputs": []
    },
    {
      "cell_type": "markdown",
      "metadata": {
        "id": "z7N9NXfiMuA5"
      },
      "source": [
        "Validation Function"
      ]
    },
    {
      "cell_type": "code",
      "metadata": {
        "id": "CFWOrMfsMq1I"
      },
      "source": [
        "def validate(model, test_data_loader):\n",
        "    model.eval()\n",
        "\n",
        "    val_running_loss = 0.0\n",
        "    val_running_correct = 0\n",
        "\n",
        "    for int, data in enumerate(test_data_loader):\n",
        "        data, target = data[0].to(device), data[1].to(device)\n",
        "\n",
        "        # Forward 계산\n",
        "        hypothesis = model(data)\n",
        "\n",
        "        # Cost : Error 계산\n",
        "        cost = loss(hypothesis, target)\n",
        "\n",
        "        val_running_loss += cost.item()\n",
        "        _, preds = torch.max(hypothesis.data, 1)\n",
        "        val_running_correct += (preds == target).sum().item()\n",
        "    \n",
        "    val_loss = val_running_loss / len(test_data_loader.dataset)\n",
        "    val_accuracy = 100. * val_running_correct / len(test_data_loader.dataset)\n",
        "\n",
        "    return val_loss, val_accuracy"
      ],
      "execution_count": 15,
      "outputs": []
    },
    {
      "cell_type": "markdown",
      "metadata": {
        "id": "QJ_KBn3KU3kN"
      },
      "source": [
        "모델 학습"
      ]
    },
    {
      "cell_type": "code",
      "metadata": {
        "id": "iDv2gsiaUVJh"
      },
      "source": [
        "train_loss, train_accuracy = [], []\n",
        "val_loss, val_accuracy = [], []\n",
        "\n",
        "start = time.time()\n",
        "for epoch in range(training_epochs):\n",
        "    # Train\n",
        "    train_epoch_loss, train_epoch_accuracy = train(vgg11, train_loader)\n",
        "\n",
        "    train_loss.append(train_epoch_loss)\n",
        "    train_accuracy.append(train_epoch_accuracy)\n",
        "\n",
        "    # Validate\n",
        "    val_epoch_loss, val_epoch_accuracy = validate(vgg11, test_loader)\n",
        "\n",
        "    val_loss.append(val_epoch_loss)\n",
        "    val_accuracy.append(val_epoch_accuracy)\n",
        "\n",
        "    print(train_accuracy, val_accuracy)\n",
        "\n",
        "end = time.time()\n",
        "print((end - start)/60, 'minute')"
      ],
      "execution_count": null,
      "outputs": []
    },
    {
      "cell_type": "markdown",
      "metadata": {
        "id": "SJa85CjapKpl"
      },
      "source": [
        "##6. 결과 분석"
      ]
    },
    {
      "cell_type": "markdown",
      "metadata": {
        "id": "R2Wj-QcFeSvz"
      },
      "source": [
        "Accuracy"
      ]
    },
    {
      "cell_type": "code",
      "metadata": {
        "id": "fA2f4bf5WH_7"
      },
      "source": [
        "plt.figure(figsize = (10, 7))\n",
        "plt.plot(train_accuracy, color = 'green', label = 'train accuracy')\n",
        "plt.plot(val_accuracy, color = 'blue', label = 'validation accuracy')\n",
        "plt.legend()\n",
        "plt.savefid('accuracy.png')\n",
        "plt.show()"
      ],
      "execution_count": null,
      "outputs": []
    },
    {
      "cell_type": "markdown",
      "metadata": {
        "id": "Kl8ZaCA5eU_c"
      },
      "source": [
        "Loss"
      ]
    },
    {
      "cell_type": "code",
      "metadata": {
        "id": "AxpPErY9X-V2"
      },
      "source": [
        "plt.figure(figsize = (10, 7))\n",
        "plt.plot(train_loss, color = 'orange', label = 'train loss')\n",
        "plt.plot(val_loss, color = 'red', label = 'validation loss')\n",
        "plt.legend()\n",
        "plt.savefid('loss.png')\n",
        "plt.show()"
      ],
      "execution_count": null,
      "outputs": []
    }
  ]
}