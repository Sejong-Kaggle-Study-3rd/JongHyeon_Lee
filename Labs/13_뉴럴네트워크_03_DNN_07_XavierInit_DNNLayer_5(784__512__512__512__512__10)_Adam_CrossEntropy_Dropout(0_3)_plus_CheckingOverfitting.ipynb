{
  "nbformat": 4,
  "nbformat_minor": 0,
  "metadata": {
    "accelerator": "GPU",
    "colab": {
      "name": "13_뉴럴네트워크_03_DNN_07_XavierInit/DNNLayer#5(784->512->512->512->512->10)/Adam/CrossEntropy/Dropout(0.3)_plus.CheckingOverfitting",
      "provenance": [],
      "collapsed_sections": []
    },
    "kernelspec": {
      "display_name": "Python 3",
      "name": "python3"
    },
    "language_info": {
      "name": "python"
    }
  },
  "cells": [
    {
      "cell_type": "markdown",
      "metadata": {
        "id": "oejBbNxeap6Q"
      },
      "source": [
        "#DNN_Xavier Init/DNN Layer#5(784->512->512->512->512->10)/Adam/Cross Entropy/Dropout(0.3)\n",
        "plus. Checking Overfitting: 학습진행도에 따른 Train data와 Test data의 Accuracy와 Error<br>\n",
        "손글씨 분류기"
      ]
    },
    {
      "cell_type": "markdown",
      "metadata": {
        "id": "jp0Wmd6BbyB5"
      },
      "source": [
        "###ML 라이브러리: Pytorch(GPU)"
      ]
    },
    {
      "cell_type": "code",
      "metadata": {
        "id": "h752_PJhZV55"
      },
      "source": [
        "import torch\n",
        "# torch.vision 라이브러리: 유명한 datasets, 모델 아키텍터, 이미지 transformation(영상 전처리)\n",
        "import torchvision.datasets as data\n",
        "import torchvision.transforms as transforms\n",
        "import random"
      ],
      "execution_count": 1,
      "outputs": []
    },
    {
      "cell_type": "markdown",
      "metadata": {
        "id": "YEpDQzcqclib"
      },
      "source": [
        "GPU 사용을 명시적으로 보여주기 & Random Seed 고정하기"
      ]
    },
    {
      "cell_type": "code",
      "metadata": {
        "id": "eXgqtf-xcRsS"
      },
      "source": [
        "device = 'cuda' if torch.cuda.is_available() else 'cpu'\n",
        "\n",
        "random.seed(777) #파이썬의 Random Seed\n",
        "torch.manual_seed(777) #torch의 Random Seed\n",
        "if device == 'cuda':\n",
        "  torch.cuda.manual_seed_all(777)"
      ],
      "execution_count": 2,
      "outputs": []
    },
    {
      "cell_type": "markdown",
      "metadata": {
        "id": "Ii39sjb4cnt5"
      },
      "source": [
        "학습 파라미터 설정"
      ]
    },
    {
      "cell_type": "code",
      "metadata": {
        "id": "awhGF08AcqAK"
      },
      "source": [
        "learning_rate = 0.001 #갱신 step의 정도\n",
        "training_epochs = 15 #epoch\n",
        "batch_size = 100 #batch\n",
        "drop_prob = 0.3 #Dropout 확률값"
      ],
      "execution_count": 3,
      "outputs": []
    },
    {
      "cell_type": "markdown",
      "metadata": {
        "id": "ZcN3aMjvd3Rm"
      },
      "source": [
        "##1. 데이터셋 불러오기"
      ]
    },
    {
      "cell_type": "code",
      "metadata": {
        "id": "FKOn1dNReSEn"
      },
      "source": [
        "#torchvision.datasets.MNIST(root = 'MNIST_data/', train = True, transform = transforms.ToTensor(), download = True)\n",
        "#root: 데이터셋의 위치\n",
        "#train = True: 학습 데이터, train = False: 테스트 데이터\n",
        "#transform = transforms.ToTensor(): 텐서로 영상 전처리\n",
        "#download = True: root에 데이터셋이 없으면 다운로드\n",
        "mnist_train = data.MNIST(root='MNIST_data/', train=True, transform=transforms.ToTensor(), download=True)\n",
        "\n",
        "mnist_test = data.MNIST(root='MNIST_data/', train=False, transform=transforms.ToTensor(), download=True)"
      ],
      "execution_count": 4,
      "outputs": []
    },
    {
      "cell_type": "markdown",
      "metadata": {
        "id": "6983BNuSlaVh"
      },
      "source": [
        "DataLoader: 데이터를 알맞게 나눠준다"
      ]
    },
    {
      "cell_type": "markdown",
      "metadata": {
        "id": "EmoonkU_4lD8"
      },
      "source": [
        "1. train_loader"
      ]
    },
    {
      "cell_type": "code",
      "metadata": {
        "id": "ZY2fdq9nf1Bj"
      },
      "source": [
        "train_loader = torch.utils.data.DataLoader(dataset=mnist_train, batch_size=batch_size, shuffle=True, drop_last=True)\n",
        "#dataset = mnist_train: 처리할 데이터\n",
        "#batch_size = batch_size: batch_size만큼씩 데이터를 잘라러 준다\n",
        "#shuffle = True: 데이터를 섞는다\n",
        "#drop_last: 모든 데이터 개수 % batch_size > 0 일 때 나머지 데이터를 버린다"
      ],
      "execution_count": 5,
      "outputs": []
    },
    {
      "cell_type": "markdown",
      "metadata": {
        "id": "Rl8diqQs4nQl"
      },
      "source": [
        "2. test_loader"
      ]
    },
    {
      "cell_type": "code",
      "metadata": {
        "id": "_tcZ6PXB4O_3"
      },
      "source": [
        "# Shuffle 끄기\n",
        "test_loader = torch.utils.data.DataLoader(dataset=mnist_test, batch_size=batch_size, shuffle=False, drop_last=True)"
      ],
      "execution_count": 6,
      "outputs": []
    },
    {
      "cell_type": "markdown",
      "metadata": {
        "id": "OyWTncPzhidk"
      },
      "source": [
        "##5. 모델 추정"
      ]
    },
    {
      "cell_type": "markdown",
      "metadata": {
        "id": "BKdu9VmghuxV"
      },
      "source": [
        "###모델 정의: DNN_Xavier Init/NN Layer#5(784->512->512->512->512->10)/Adam/Cross Entropy/Dropout(0.3)"
      ]
    },
    {
      "cell_type": "markdown",
      "metadata": {
        "id": "8pMnnqm6jTy0"
      },
      "source": [
        "NN Layer #5: 784 -> 512 -> 512 -> 512 -> 512 -> 10 & Dropout(0.3)"
      ]
    },
    {
      "cell_type": "code",
      "metadata": {
        "id": "Qc0IRA5ehT2d"
      },
      "source": [
        "linear1 = torch.nn.Linear(784, 512, bias = True) #784 dimension -> 256 dimension\n",
        "linear2 = torch.nn.Linear(512, 512, bias = True)\n",
        "linear3 = torch.nn.Linear(512, 512, bias = True)\n",
        "linear4 = torch.nn.Linear(512, 512, bias = True)\n",
        "linear5 = torch.nn.Linear(512, 10, bias = True) #256 dimension -> 10 class\n",
        "relu = torch.nn.ReLU()\n",
        "dropout = torch.nn.Dropout(p = drop_prob)"
      ],
      "execution_count": 7,
      "outputs": []
    },
    {
      "cell_type": "markdown",
      "metadata": {
        "id": "1Km8ciAyjHjo"
      },
      "source": [
        "Weight Initialization: Xavier Init"
      ]
    },
    {
      "cell_type": "code",
      "metadata": {
        "colab": {
          "base_uri": "https://localhost:8080/"
        },
        "id": "aZEpynOAiXUI",
        "outputId": "10064e1b-2f55-4f19-d971-ef3084695211"
      },
      "source": [
        "torch.nn.init.xavier_uniform_(linear1.weight)\n",
        "torch.nn.init.xavier_uniform_(linear2.weight)\n",
        "torch.nn.init.xavier_uniform_(linear3.weight)\n",
        "torch.nn.init.xavier_uniform_(linear4.weight)\n",
        "torch.nn.init.xavier_uniform_(linear5.weight)"
      ],
      "execution_count": 8,
      "outputs": [
        {
          "output_type": "execute_result",
          "data": {
            "text/plain": [
              "Parameter containing:\n",
              "tensor([[-0.0565,  0.0423, -0.0155,  ...,  0.1012,  0.0459, -0.0191],\n",
              "        [ 0.0772,  0.0452, -0.0638,  ...,  0.0476, -0.0638,  0.0528],\n",
              "        [ 0.0311, -0.1023, -0.0701,  ...,  0.0412, -0.1004,  0.0738],\n",
              "        ...,\n",
              "        [ 0.0334,  0.0187, -0.1021,  ...,  0.0280, -0.0583, -0.1018],\n",
              "        [-0.0506, -0.0939, -0.0467,  ..., -0.0554, -0.0325,  0.0640],\n",
              "        [-0.0183, -0.0123,  0.1025,  ..., -0.0214,  0.0220, -0.0741]],\n",
              "       requires_grad=True)"
            ]
          },
          "metadata": {
            "tags": []
          },
          "execution_count": 8
        }
      ]
    },
    {
      "cell_type": "markdown",
      "metadata": {
        "id": "bzyfRUVTjkZo"
      },
      "source": [
        ".Sequential로 모델을 순서대로 묶는다<br>\n",
        ".to(device): device = 'cuda' 모델을 gpu 메모리에 저장한다"
      ]
    },
    {
      "cell_type": "code",
      "metadata": {
        "id": "cuvKLJGyid76"
      },
      "source": [
        "# 마지막 layer에는 ReLU가 없는 것이 좋다\n",
        "# layer1(linear1 & ReLU) -> layer2(linear2 & ReLU) -> layer3(linear3 & ReLU) -> layer4(linear4 & ReLU) -> layer5(linear5)\n",
        "model = torch.nn.Sequential(linear1,relu,dropout,\n",
        "                            linear2,relu,dropout,\n",
        "                            linear3,relu,dropout,\n",
        "                            linear4,relu,dropout,\n",
        "                            linear5).to(device)"
      ],
      "execution_count": 9,
      "outputs": []
    },
    {
      "cell_type": "code",
      "metadata": {
        "colab": {
          "base_uri": "https://localhost:8080/"
        },
        "id": "G81wth_lwyM1",
        "outputId": "22ca0dfc-d8bb-436b-86e5-21bff0b8209c"
      },
      "source": [
        "model"
      ],
      "execution_count": 10,
      "outputs": [
        {
          "output_type": "execute_result",
          "data": {
            "text/plain": [
              "Sequential(\n",
              "  (0): Linear(in_features=784, out_features=512, bias=True)\n",
              "  (1): ReLU()\n",
              "  (2): Dropout(p=0.3, inplace=False)\n",
              "  (3): Linear(in_features=512, out_features=512, bias=True)\n",
              "  (4): ReLU()\n",
              "  (5): Dropout(p=0.3, inplace=False)\n",
              "  (6): Linear(in_features=512, out_features=512, bias=True)\n",
              "  (7): ReLU()\n",
              "  (8): Dropout(p=0.3, inplace=False)\n",
              "  (9): Linear(in_features=512, out_features=512, bias=True)\n",
              "  (10): ReLU()\n",
              "  (11): Dropout(p=0.3, inplace=False)\n",
              "  (12): Linear(in_features=512, out_features=10, bias=True)\n",
              ")"
            ]
          },
          "metadata": {
            "tags": []
          },
          "execution_count": 10
        }
      ]
    },
    {
      "cell_type": "markdown",
      "metadata": {
        "id": "MK5JMQ_Ti2QG"
      },
      "source": [
        "###모델 학습 & 학습진행도에 따른 Train data와 Test data의 Accuracy와 Error"
      ]
    },
    {
      "cell_type": "markdown",
      "metadata": {
        "id": "UqMCIKV3j0BE"
      },
      "source": [
        "Cross Entropy Loss & Adam"
      ]
    },
    {
      "cell_type": "code",
      "metadata": {
        "id": "qx1nJz0UizN0"
      },
      "source": [
        "loss = torch.nn.CrossEntropyLoss().to(device)\n",
        "optimizer = torch.optim.Adam(model.parameters(), lr=learning_rate) "
      ],
      "execution_count": 11,
      "outputs": []
    },
    {
      "cell_type": "code",
      "metadata": {
        "id": "0YlC5-PakhjE",
        "colab": {
          "base_uri": "https://localhost:8080/"
        },
        "outputId": "a55c0b49-9496-41fd-dcaa-9bb51d2c5ac2"
      },
      "source": [
        "plt_acc = [] # accuracy를 위한 좌표 평면\n",
        "plt_los = [] # error를 위한 좌표 평면\n",
        "\n",
        "# _batch = 전체 데이터 수 / batch_size\n",
        "train_total_batch = len(train_loader)\n",
        "test_total_batch = len(test_loader)\n",
        "\n",
        "for epoch in range(training_epochs):\n",
        "    avg_cost = 0\n",
        "\n",
        "    model.train() # 주의사항: Dropout = True(Dropout 활성화)\n",
        "    for X, Y in train_loader: #앞에서 알맞게 나눠둔 데이터를 X, Y에 넣어준다\n",
        "\n",
        "        # (mini batch_size, 1, 가로, 세로)\n",
        "        # (100, 1, 28, 28) 크기의 텐서를 (100, 28*28) 크기의 텐서로 바꿔준다\n",
        "        X = X.view(-1, 28 * 28).to(device) # 2D 데이터를 1D 데이터로 눌러준다\n",
        "        # One-hot Encoding되어 있지 않다\n",
        "        Y = Y.to(device)\n",
        "\n",
        "        #Gradient Initialization\n",
        "        optimizer.zero_grad()\n",
        "\n",
        "        # Forward 계산\n",
        "        hypothesis = model(X)\n",
        "\n",
        "        # Cost : Error 계산\n",
        "        cost = loss(hypothesis, Y)\n",
        "\n",
        "        # Backpropagation\n",
        "        cost.backward()\n",
        "\n",
        "        # Cost로 가중치(W, b) 갱신\n",
        "        optimizer.step()\n",
        "\n",
        "        #평균 Error 계산\n",
        "        avg_cost += cost / train_total_batch\n",
        "    \n",
        "    # 학습진행도(epoch, iteration)에 따른 Train data의 accuracy와 error\n",
        "    with torch.no_grad(): #모델 평가 중: 임시로 required_grad = False로 설정하는 것과 같다\n",
        "        model.eval()  # 주의사항: Dropout = False(Dropout 비활성화)\n",
        "\n",
        "        train_accuracy = 0\n",
        "        train_loss = 0\n",
        "\n",
        "        for i, (_X, _Y) in enumerate(train_loader):\n",
        "            _X = _X.view(-1, 28 * 28).to(device)\n",
        "            _Y = _Y.to(device)\n",
        "\n",
        "            prediction = model(_X)\n",
        "            correct_prediction = torch.argmax(prediction, 1) == _Y\n",
        "            train_loss += loss(prediction, _Y)\n",
        "            train_accuracy += correct_prediction.float().mean()\n",
        "\n",
        "        train_acc = train_accuracy.item()/train_total_batch\n",
        "        train_los = train_loss.item()/train_total_batch\n",
        "        print('Train Accuracy:', train_acc, 'Train Loss:', train_los )\n",
        "    \n",
        "\n",
        "    # 학습진행도(epoch, iteration)에 따른 Test data의 accuracy와 error\n",
        "    with torch.no_grad(): #모델 평가 중: 임시로 required_grad = False로 설정하는 것과 같다\n",
        "        model.eval()  # 주의사항: Dropout = False(Dropout 비활성화)\n",
        "\n",
        "        test_accuracy = 0\n",
        "        test_loss = 0\n",
        "\n",
        "        for i, (_X, _Y) in enumerate(test_loader):\n",
        "            _X = _X.view(-1, 28 * 28).to(device)\n",
        "            _Y = _Y.to(device)\n",
        "\n",
        "            prediction = model(_X)\n",
        "            correct_prediction = torch.argmax(prediction, 1) == _Y\n",
        "            test_loss += loss(prediction, _Y)\n",
        "            test_accuracy += correct_prediction.float().mean()\n",
        "        \n",
        "        test_acc = test_accuracy.item()/test_total_batch\n",
        "        test_los = test_loss.item()/test_total_batch\n",
        "        print('Test Accuracy:', test_acc, 'Test Loss:', test_los )\n",
        "\n",
        "\n",
        "    plt_acc.append([train_acc, test_acc])\n",
        "    plt_los.append([train_los, test_los])\n",
        "\n",
        "print('Learning finished')"
      ],
      "execution_count": 12,
      "outputs": [
        {
          "output_type": "stream",
          "text": [
            "Train Accuracy: 0.965266825358073 Train Loss: 0.11279496510823568\n",
            "Test Accuracy: 0.9620999908447265 Test Loss: 0.12531682968139649\n",
            "Train Accuracy: 0.9769160970052083 Train Loss: 0.07887170791625976\n",
            "Test Accuracy: 0.9722998046875 Test Loss: 0.09710775375366211\n",
            "Train Accuracy: 0.9814828491210937 Train Loss: 0.060828450520833334\n",
            "Test Accuracy: 0.9756999969482422 Test Loss: 0.08566385269165039\n",
            "Train Accuracy: 0.9866982014973958 Train Loss: 0.04270816485087077\n",
            "Test Accuracy: 0.9782999420166015 Test Loss: 0.07410688400268554\n",
            "Train Accuracy: 0.9886982218424479 Train Loss: 0.038049691518147785\n",
            "Test Accuracy: 0.9778001403808594 Test Loss: 0.07783629894256591\n",
            "Train Accuracy: 0.99011474609375 Train Loss: 0.03205962498982747\n",
            "Test Accuracy: 0.9811000061035157 Test Loss: 0.06662901401519776\n",
            "Train Accuracy: 0.9915151977539063 Train Loss: 0.027630898157755535\n",
            "Test Accuracy: 0.9794003295898438 Test Loss: 0.07485657215118408\n",
            "Train Accuracy: 0.9927151489257813 Train Loss: 0.023823019663492838\n",
            "Test Accuracy: 0.9818999481201172 Test Loss: 0.07283245086669922\n",
            "Train Accuracy: 0.9943485514322916 Train Loss: 0.018112556139628092\n",
            "Test Accuracy: 0.9829000854492187 Test Loss: 0.07014627456665039\n",
            "Train Accuracy: 0.994298807779948 Train Loss: 0.018823730150858562\n",
            "Test Accuracy: 0.9825000762939453 Test Loss: 0.06975245952606202\n",
            "Train Accuracy: 0.994132080078125 Train Loss: 0.018110750516255696\n",
            "Test Accuracy: 0.9818000793457031 Test Loss: 0.06999259948730469\n",
            "Train Accuracy: 0.994898681640625 Train Loss: 0.017106189727783203\n",
            "Test Accuracy: 0.9835999298095703 Test Loss: 0.0767955207824707\n",
            "Train Accuracy: 0.9950153605143229 Train Loss: 0.014570755958557129\n",
            "Test Accuracy: 0.9821002960205079 Test Loss: 0.07295302867889404\n",
            "Train Accuracy: 0.9961487833658854 Train Loss: 0.012988452116648357\n",
            "Test Accuracy: 0.9842999267578125 Test Loss: 0.06591679573059082\n",
            "Train Accuracy: 0.9969156901041667 Train Loss: 0.010955657958984375\n",
            "Test Accuracy: 0.9844999694824219 Test Loss: 0.06707485675811768\n",
            "Learning finished\n"
          ],
          "name": "stdout"
        }
      ]
    },
    {
      "cell_type": "markdown",
      "metadata": {
        "id": "SJa85CjapKpl"
      },
      "source": [
        "##6. 결과 분석"
      ]
    },
    {
      "cell_type": "markdown",
      "metadata": {
        "id": "rBb3hhItqQ-m"
      },
      "source": [
        "Accuracy"
      ]
    },
    {
      "cell_type": "code",
      "metadata": {
        "id": "7AUjKOSXpJ6s",
        "colab": {
          "base_uri": "https://localhost:8080/"
        },
        "outputId": "4f922e62-aabc-4664-c33f-9e3f365d8677"
      },
      "source": [
        "#앞서 모델 학습 과정에서는 required_grad = True로 되어있어 학습 중임을 나타낸다\n",
        "#False는 학습 중이 아님을, 모델 평가 중임을 나타낸다\n",
        "\n",
        "with torch.no_grad(): #임시로 required_grad = False로 설정하는 것과 같다\n",
        "\n",
        "  model.eval() # 주의사항: Dropout = False(Dropout 비활성화)\n",
        "\n",
        "  test_accuracy = 0\n",
        "\n",
        "  for i, (_X, _Y) in enumerate(test_loader):\n",
        "    _X = _X.view(-1, 28 * 28).to(device)\n",
        "    _Y = _Y.to(device)\n",
        "\n",
        "    prediction = model(_X)\n",
        "\n",
        "    correct_prediction = torch.argmax(prediction, 1) == _Y\n",
        "\n",
        "    test_accuracy += correct_prediction.float().mean()\n",
        "  \n",
        "  test_acc = test_accuracy.item() / test_total_batch\n",
        "\n",
        "  print('Test Accuracy:', test_acc)  "
      ],
      "execution_count": 13,
      "outputs": [
        {
          "output_type": "stream",
          "text": [
            "Test Accuracy: 0.9844999694824219\n"
          ],
          "name": "stdout"
        }
      ]
    },
    {
      "cell_type": "markdown",
      "metadata": {
        "id": "h5Qm-L9rEOPi"
      },
      "source": [
        "학습진행도에 따른 Test data와 Train data의 Accuracy와 Error"
      ]
    },
    {
      "cell_type": "code",
      "metadata": {
        "id": "b4_ZeOeXEry8"
      },
      "source": [
        "import matplotlib.pyplot as plt\n",
        "\n",
        "def plot_compare(loss_list: list, ylim=None, title=None) -> None:\n",
        "    bn = [i[0] for i in loss_list]\n",
        "    nn = [i[1] for i in loss_list]\n",
        "\n",
        "    plt.figure(figsize=(15, 10))\n",
        "    plt.plot(bn, label='train')\n",
        "    plt.plot(nn, label='test')\n",
        "    if ylim:\n",
        "        plt.ylim(ylim)\n",
        "\n",
        "    if title:\n",
        "        plt.title(title)\n",
        "    plt.legend()\n",
        "    plt.grid('on')\n",
        "    plt.show()"
      ],
      "execution_count": 14,
      "outputs": []
    },
    {
      "cell_type": "markdown",
      "metadata": {
        "id": "5sB14rBOEwrS"
      },
      "source": [
        "1. Accuracy"
      ]
    },
    {
      "cell_type": "code",
      "metadata": {
        "colab": {
          "base_uri": "https://localhost:8080/",
          "height": 607
        },
        "id": "hwHBR0vvEuq2",
        "outputId": "7b801e18-dc4f-4314-fd8b-fe0e9b0b5e96"
      },
      "source": [
        "plot_compare(plt_acc , [0.9, 1.0], title='Acc at Epoch')"
      ],
      "execution_count": 15,
      "outputs": [
        {
          "output_type": "display_data",
          "data": {
            "image/png": "[encoded data removed]",
            "text/plain": [
              "<Figure size 1080x720 with 1 Axes>"
            ]
          },
          "metadata": {
            "tags": [],
            "needs_background": "light"
          }
        }
      ]
    },
    {
      "cell_type": "markdown",
      "metadata": {
        "id": "jI5GTbeEEzJR"
      },
      "source": [
        "2. Error"
      ]
    },
    {
      "cell_type": "code",
      "metadata": {
        "colab": {
          "base_uri": "https://localhost:8080/",
          "height": 607
        },
        "id": "iXMspCXuE1Uf",
        "outputId": "08e34634-eb12-419c-a378-5db093f58edc"
      },
      "source": [
        "plot_compare(plt_los , [0.0, 1.0], title='Loss at Epoch')"
      ],
      "execution_count": 16,
      "outputs": [
        {
          "output_type": "display_data",
          "data": {
            "image/png": "[encoded data removed]",
            "text/plain": [
              "<Figure size 1080x720 with 1 Axes>"
            ]
          },
          "metadata": {
            "tags": [],
            "needs_background": "light"
          }
        }
      ]
    }
  ]
}