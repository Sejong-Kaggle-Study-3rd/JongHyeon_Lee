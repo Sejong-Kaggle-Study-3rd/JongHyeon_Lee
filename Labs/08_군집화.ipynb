{
  "nbformat": 4,
  "nbformat_minor": 0,
  "metadata": {
    "colab": {
      "name": "08_군집화",
      "provenance": [],
      "collapsed_sections": []
    },
    "kernelspec": {
      "name": "python3",
      "display_name": "Python 3"
    },
    "language_info": {
      "name": "python"
    }
  },
  "cells": [
    {
      "cell_type": "markdown",
      "metadata": {
        "id": "OEhmdrbaN_eR"
      },
      "source": [
        "##08_군집화"
      ]
    },
    {
      "cell_type": "markdown",
      "metadata": {
        "id": "LFJo22LROFLe"
      },
      "source": [
        "##계층적 군집화(Hierarchical Clustering)"
      ]
    },
    {
      "cell_type": "markdown",
      "metadata": {
        "id": "mNc0LSwNPPdg"
      },
      "source": [
        "###1. 데이터셋 불러오기"
      ]
    },
    {
      "cell_type": "code",
      "metadata": {
        "id": "EffJuuNOEYHB"
      },
      "source": [
        "import pandas as pd\n",
        "import numpy as np\n",
        "np.random.seed(123)\n",
        "features = ['X', 'Y', 'Z']\n",
        "id = ['ID0','ID1','ID2','ID3','ID4']\n",
        "\n",
        "X = np.random.random_sample([5, 3])*10"
      ],
      "execution_count": null,
      "outputs": []
    },
    {
      "cell_type": "code",
      "metadata": {
        "colab": {
          "base_uri": "https://localhost:8080/"
        },
        "id": "XvMJXywEPKNx",
        "outputId": "b96910f5-295c-4909-d2e4-9bdf8c3a4a37"
      },
      "source": [
        "df = pd.DataFrame(X, columns = features, index = id)\n",
        "print(df)"
      ],
      "execution_count": null,
      "outputs": [
        {
          "output_type": "stream",
          "text": [
            "            X         Y         Z\n",
            "ID0  6.964692  2.861393  2.268515\n",
            "ID1  5.513148  7.194690  4.231065\n",
            "ID2  9.807642  6.848297  4.809319\n",
            "ID3  3.921175  3.431780  7.290497\n",
            "ID4  4.385722  0.596779  3.980443\n"
          ],
          "name": "stdout"
        }
      ]
    },
    {
      "cell_type": "markdown",
      "metadata": {
        "id": "tBd6a1x1Pbps"
      },
      "source": [
        "###5. 모델 추정: 계층적 군집화"
      ]
    },
    {
      "cell_type": "markdown",
      "metadata": {
        "id": "O7TZo0HpP1Ah"
      },
      "source": [
        "계층적 군집화 with K = 3, Euclidean distance, Max distance"
      ]
    },
    {
      "cell_type": "code",
      "metadata": {
        "colab": {
          "base_uri": "https://localhost:8080/"
        },
        "id": "RAuIvdMePOp8",
        "outputId": "6c3d3326-f298-439b-bc30-fb0e583295a6"
      },
      "source": [
        "from sklearn.cluster import AgglomerativeClustering\n",
        "agg = AgglomerativeClustering(n_clusters = 3, affinity = 'euclidean', linkage = 'complete')\n",
        "labels = agg.fit_predict(X)\n",
        "\n",
        "print('Cluster labels: %s' %labels)"
      ],
      "execution_count": null,
      "outputs": [
        {
          "output_type": "stream",
          "text": [
            "Cluster labels: [1 0 0 2 1]\n"
          ],
          "name": "stdout"
        }
      ]
    },
    {
      "cell_type": "markdown",
      "metadata": {
        "id": "cxPtYgqOQa3u"
      },
      "source": [
        "계층적 군집화 with K = 2, Euclidean distacne, Max distance"
      ]
    },
    {
      "cell_type": "code",
      "metadata": {
        "colab": {
          "base_uri": "https://localhost:8080/"
        },
        "id": "h0BT2ss_QiDy",
        "outputId": "46781bc2-6880-4e56-93a3-bc7ae9df8e25"
      },
      "source": [
        "agg = AgglomerativeClustering(n_clusters=2, affinity='euclidean', linkage='complete')\n",
        "labels = agg.fit_predict(X)\n",
        "\n",
        "print('Cluter labels: %s' %labels)"
      ],
      "execution_count": null,
      "outputs": [
        {
          "output_type": "stream",
          "text": [
            "Cluter labels: [0 1 1 0 0]\n"
          ],
          "name": "stdout"
        }
      ]
    },
    {
      "cell_type": "markdown",
      "metadata": {
        "id": "yTLHNi8fOMQi"
      },
      "source": [
        "##분리형 군집화: K 평균 군집화(K-means Clustering)"
      ]
    },
    {
      "cell_type": "markdown",
      "metadata": {
        "id": "GbVxBN1PQ270"
      },
      "source": [
        "###1. 데이터셋 불러오기"
      ]
    },
    {
      "cell_type": "code",
      "metadata": {
        "id": "cfEKYvJYOdct"
      },
      "source": [
        "from sklearn.datasets import make_blobs\n",
        "X, y = make_blobs(n_samples = 200, n_features = 2, centers = 3, cluster_std = 0.5, shuffle = True, random_state = 0)"
      ],
      "execution_count": null,
      "outputs": []
    },
    {
      "cell_type": "code",
      "metadata": {
        "colab": {
          "base_uri": "https://localhost:8080/",
          "height": 265
        },
        "id": "m1w20FMQdM4Z",
        "outputId": "0f44f792-39f9-45a7-f8ba-70284a97e03b"
      },
      "source": [
        "import matplotlib.pyplot as plt\n",
        "plt.scatter(X[:,0], X[:,1], marker = 'o')\n",
        "plt.grid()\n",
        "plt.show()"
      ],
      "execution_count": null,
      "outputs": [
        {
          "output_type": "display_data",
          "data": {
            "image/png": "[encoded data removed]",
            "text/plain": [
              "<Figure size 432x288 with 1 Axes>"
            ]
          },
          "metadata": {
            "tags": [],
            "needs_background": "light"
          }
        }
      ]
    },
    {
      "cell_type": "markdown",
      "metadata": {
        "id": "3wMtBEX-dgSr"
      },
      "source": [
        "###5. 모델 추정: K 평균 군집화"
      ]
    },
    {
      "cell_type": "code",
      "metadata": {
        "id": "Pe1V0s-JdnQq"
      },
      "source": [
        "from sklearn.cluster import KMeans\n",
        "km = KMeans(n_clusters = 3, init = 'k-means++', n_init = 10, max_iter = 300, tol = 1e-04, random_state = 0) # n_clusters: 군집의 개수\n",
        "y_km = km.fit_predict(X)"
      ],
      "execution_count": null,
      "outputs": []
    },
    {
      "cell_type": "markdown",
      "metadata": {
        "id": "GUGMktywSzH6"
      },
      "source": [
        "Elbow method"
      ]
    },
    {
      "cell_type": "code",
      "metadata": {
        "id": "th1TXhb2SmVE"
      },
      "source": [
        "distortions = []\n",
        "for i in range(1, 11):\n",
        "  km = KMeans(n_clusters = i, n_init = 10, max_iter = 300, random_state = 0)\n",
        "  km.fit(X)\n",
        "  distortions.append(km.inertia_)"
      ],
      "execution_count": null,
      "outputs": []
    },
    {
      "cell_type": "code",
      "metadata": {
        "colab": {
          "base_uri": "https://localhost:8080/",
          "height": 279
        },
        "id": "Io_VrkWNTM-2",
        "outputId": "c8fdd7fa-af18-4224-91e1-90573db0f8f6"
      },
      "source": [
        "import matplotlib.pyplot as plt\n",
        "plt.plot(range(1, 11), distortions, marker = 'o')\n",
        "plt.xlabel('Number of clusters')\n",
        "plt.ylabel('SSE(K)')\n",
        "plt.show()"
      ],
      "execution_count": null,
      "outputs": [
        {
          "output_type": "display_data",
          "data": {
            "image/png": "[encoded data removed]",
            "text/plain": [
              "<Figure size 432x288 with 1 Axes>"
            ]
          },
          "metadata": {
            "tags": [],
            "needs_background": "light"
          }
        }
      ]
    },
    {
      "cell_type": "markdown",
      "metadata": {
        "id": "lqvUNxLmTkcr"
      },
      "source": [
        "###6. 결과 분석"
      ]
    },
    {
      "cell_type": "markdown",
      "metadata": {
        "id": "nMHZY2bUT3OT"
      },
      "source": [
        "Plotting results"
      ]
    },
    {
      "cell_type": "code",
      "metadata": {
        "colab": {
          "base_uri": "https://localhost:8080/",
          "height": 265
        },
        "id": "rZmJYRX5Ti31",
        "outputId": "95995a4e-aa85-40e2-e963-dd04f02b24a5"
      },
      "source": [
        "import matplotlib.pyplot as plt\n",
        "plt.scatter(X[y_km == 0, 0], X[y_km == 0, 1], s = 50, c = 'lightgreen', marker = 's', edgecolor = 'black', label = 'cluster 1')\n",
        "plt.scatter(X[y_km == 1, 0], X[y_km == 1, 1], s = 50, c = 'orange', marker = 'o', edgecolor = 'black', label = 'cluster 2')\n",
        "plt.scatter(X[y_km == 2, 0], X[y_km == 2, 1], s = 50, c = 'lightblue', marker = 'v', edgecolor = 'black', label = 'cluster 3')\n",
        "plt.scatter(km.cluster_centers_[:, 0], km.cluster_centers_[:, 1], s = 250, c = 'red', marker = '*', edgecolor = 'black', label = 'centroids')\n",
        "\n",
        "plt.legend(scatterpoints = 1)\n",
        "plt.grid()\n",
        "plt.show()"
      ],
      "execution_count": null,
      "outputs": [
        {
          "output_type": "display_data",
          "data": {
            "image/png": "[encoded data removed]",
            "text/plain": [
              "<Figure size 432x288 with 1 Axes>"
            ]
          },
          "metadata": {
            "tags": [],
            "needs_background": "light"
          }
        }
      ]
    },
    {
      "cell_type": "markdown",
      "metadata": {
        "id": "oRmDd2_XOck5"
      },
      "source": [
        "##분포 기반 군집화: DBSCAN(Density Based Clustering of Application with Noise)"
      ]
    },
    {
      "cell_type": "markdown",
      "metadata": {
        "id": "BUz-8fP1U9Mt"
      },
      "source": [
        "###1. 데이터셋 불러오기"
      ]
    },
    {
      "cell_type": "code",
      "metadata": {
        "id": "Q3iLv0x1Ovvu"
      },
      "source": [
        "from sklearn.datasets import make_moons\n",
        "X, y = make_moons(n_samples = 200, noise = 0.05, random_state = 0)"
      ],
      "execution_count": null,
      "outputs": []
    },
    {
      "cell_type": "code",
      "metadata": {
        "colab": {
          "base_uri": "https://localhost:8080/",
          "height": 265
        },
        "id": "FgV772WKVLak",
        "outputId": "4c22973f-6963-4ff9-f879-9ba18627c50b"
      },
      "source": [
        "import matplotlib.pyplot as plt\n",
        "plt.scatter(X[:, 0], X[:, 1])\n",
        "plt.show()"
      ],
      "execution_count": null,
      "outputs": [
        {
          "output_type": "display_data",
          "data": {
            "image/png": "[encoded data removed]",
            "text/plain": [
              "<Figure size 432x288 with 1 Axes>"
            ]
          },
          "metadata": {
            "tags": [],
            "needs_background": "light"
          }
        }
      ]
    },
    {
      "cell_type": "markdown",
      "metadata": {
        "id": "E5wEgBmyVWp5"
      },
      "source": [
        "###5. 모델 추정 및 6. 결과 분석: DBSCAN, HDBSCAN"
      ]
    },
    {
      "cell_type": "markdown",
      "metadata": {
        "id": "sD75TtJvVbfO"
      },
      "source": [
        "계층적 군집화, K 평균 군집화와 비교"
      ]
    },
    {
      "cell_type": "code",
      "metadata": {
        "id": "c-OuUbrJVTBB"
      },
      "source": [
        "# 계층적 군집화(Hierachical Clustering, Agglomerative Clustering)\n",
        "from sklearn.cluster import AgglomerativeClustering\n",
        "ac = AgglomerativeClustering(n_clusters = 2, linkage = 'complete')\n",
        "y_ac = ac.fit_predict(X)\n",
        "\n",
        "# K 평균 군집화(K-means Clustering)\n",
        "from sklearn.cluster import KMeans\n",
        "km = KMeans(n_clusters = 2, random_state = 0)\n",
        "y_km = km.fit_predict(X)"
      ],
      "execution_count": null,
      "outputs": []
    },
    {
      "cell_type": "code",
      "metadata": {
        "colab": {
          "base_uri": "https://localhost:8080/",
          "height": 227
        },
        "id": "BO8rj7GCWP6j",
        "outputId": "f07988a9-adc9-40a6-94bc-c607ab8f4a61"
      },
      "source": [
        "import matplotlib.pyplot as plt\n",
        "f, (ax1, ax2) = plt.subplots(1, 2, figsize = (8, 3))\n",
        "\n",
        "# 계층적 군집화(Hierachical Clustering, Agglomerative Clustering)\n",
        "ax1.scatter(X[y_ac == 0, 0], X[y_ac == 0, 1], marker = 'o', s = 40, label = 'cluster 1')\n",
        "ax1.scatter(X[y_ac == 1, 0], X[y_ac == 1, 1], marker = 's', s = 40, label = 'clusrer 2')\n",
        "ax1.set_title('Agglomerative Clustering')\n",
        "\n",
        "# K 평균 군집화(K-means Clustering)\n",
        "ax2.scatter(X[y_km == 0, 0], X[y_km == 0, 1], marker = 'o', s = 40, label = 'cluster 1')\n",
        "ax2.scatter(X[y_km == 1, 0], X[y_km == 1, 1], marker = 'o', s = 40, label = 'cluster 2')\n",
        "ax2.set_title('K-means Clustering')\n",
        "\n",
        "plt.legend()\n",
        "plt.show()"
      ],
      "execution_count": null,
      "outputs": [
        {
          "output_type": "display_data",
          "data": {
            "image/png": "[encoded data removed]",
            "text/plain": [
              "<Figure size 576x216 with 2 Axes>"
            ]
          },
          "metadata": {
            "tags": [],
            "needs_background": "light"
          }
        }
      ]
    },
    {
      "cell_type": "markdown",
      "metadata": {
        "id": "i25Jo5NtXxcI"
      },
      "source": [
        "DBSCAN"
      ]
    },
    {
      "cell_type": "code",
      "metadata": {
        "id": "ksfeoH9QX0ie"
      },
      "source": [
        "from sklearn.cluster import DBSCAN\n",
        "db = DBSCAN(eps = 0.2, min_samples = 5, metric = 'euclidean')\n",
        "y_db = db.fit_predict(X)"
      ],
      "execution_count": null,
      "outputs": []
    },
    {
      "cell_type": "code",
      "metadata": {
        "colab": {
          "base_uri": "https://localhost:8080/",
          "height": 265
        },
        "id": "gqllyjfIYAzN",
        "outputId": "a8b46299-5cd5-4ada-bd3b-09eec710578d"
      },
      "source": [
        "plt.scatter(X[y_db == 0, 0], X[y_db == 0, 1], marker = 'o', s = 40, label = 'cluster 1')\n",
        "plt.scatter(X[y_db == 1, 0], X[y_db == 1, 1], marker = 's', s = 40, label = 'cluster 2')\n",
        "plt.legend()\n",
        "plt.show()"
      ],
      "execution_count": null,
      "outputs": [
        {
          "output_type": "display_data",
          "data": {
            "image/png": "[encoded data removed]",
            "text/plain": [
              "<Figure size 432x288 with 1 Axes>"
            ]
          },
          "metadata": {
            "tags": [],
            "needs_background": "light"
          }
        }
      ]
    },
    {
      "cell_type": "markdown",
      "metadata": {
        "id": "jZYVLnTFYWlH"
      },
      "source": [
        "HDBSCAN"
      ]
    },
    {
      "cell_type": "code",
      "metadata": {
        "colab": {
          "base_uri": "https://localhost:8080/"
        },
        "id": "VRFEp8_8Yp8r",
        "outputId": "0dcf3cbe-e4b2-4ed1-b72f-3281b65ed00e"
      },
      "source": [
        "pip install hdbscan"
      ],
      "execution_count": null,
      "outputs": [
        {
          "output_type": "stream",
          "text": [
            "Collecting hdbscan\n",
            "\u001b[?25l  Downloading https://files.pythonhosted.org/packages/32/bb/59a75bc5ac66a9b4f9b8f979e4545af0e98bb1ca4e6ae96b3b956b554223/hdbscan-0.8.27.tar.gz (6.4MB)\n",
            "\u001b[K     |████████████████████████████████| 6.4MB 8.5MB/s \n",
            "\u001b[?25h  Installing build dependencies ... \u001b[?25l\u001b[?25hdone\n",
            "  Getting requirements to build wheel ... \u001b[?25l\u001b[?25hdone\n",
            "    Preparing wheel metadata ... \u001b[?25l\u001b[?25hdone\n",
            "Requirement already satisfied: six in /usr/local/lib/python3.7/dist-packages (from hdbscan) (1.15.0)\n",
            "Requirement already satisfied: joblib>=1.0 in /usr/local/lib/python3.7/dist-packages (from hdbscan) (1.0.1)\n",
            "Requirement already satisfied: scikit-learn>=0.20 in /usr/local/lib/python3.7/dist-packages (from hdbscan) (0.22.2.post1)\n",
            "Requirement already satisfied: scipy>=1.0 in /usr/local/lib/python3.7/dist-packages (from hdbscan) (1.4.1)\n",
            "Requirement already satisfied: cython>=0.27 in /usr/local/lib/python3.7/dist-packages (from hdbscan) (0.29.22)\n",
            "Requirement already satisfied: numpy>=1.16 in /usr/local/lib/python3.7/dist-packages (from hdbscan) (1.19.5)\n",
            "Building wheels for collected packages: hdbscan\n",
            "  Building wheel for hdbscan (PEP 517) ... \u001b[?25l\u001b[?25hdone\n",
            "  Created wheel for hdbscan: filename=hdbscan-0.8.27-cp37-cp37m-linux_x86_64.whl size=2311689 sha256=1183fae6cda7264e4fe3e57c83afb83e1fb36f3c84164cc6679cdc22bd6bc6f7\n",
            "  Stored in directory: /root/.cache/pip/wheels/42/63/fb/314ad6c3b270887a3ecb588b8e5aac50b0fad38ff89bb6dff2\n",
            "Successfully built hdbscan\n",
            "Installing collected packages: hdbscan\n",
            "Successfully installed hdbscan-0.8.27\n"
          ],
          "name": "stdout"
        }
      ]
    },
    {
      "cell_type": "code",
      "metadata": {
        "id": "XONQVSKaYX4X"
      },
      "source": [
        "import hdbscan\n",
        "hdb = hdbscan.HDBSCAN(min_samples = 10)\n",
        "y_hdb = hdb.fit_predict(X)"
      ],
      "execution_count": null,
      "outputs": []
    },
    {
      "cell_type": "code",
      "metadata": {
        "colab": {
          "base_uri": "https://localhost:8080/",
          "height": 265
        },
        "id": "V1O3mfzKYjbe",
        "outputId": "f37b4b9a-aecc-4b2f-c08e-90486e935741"
      },
      "source": [
        "plt.scatter(X[y_hdb==0,0], X[y_hdb==0,1], marker='o', s=40, label='cluster 1')\n",
        "plt.scatter(X[y_hdb==1,0], X[y_hdb==1,1], marker='s', s=40, label='cluster 2')\n",
        "\n",
        "plt.legend()\n",
        "plt.show()"
      ],
      "execution_count": null,
      "outputs": [
        {
          "output_type": "display_data",
          "data": {
            "image/png": "[encoded data removed]",
            "text/plain": [
              "<Figure size 432x288 with 1 Axes>"
            ]
          },
          "metadata": {
            "tags": [],
            "needs_background": "light"
          }
        }
      ]
    },
    {
      "cell_type": "markdown",
      "metadata": {
        "id": "NdRSszcOZfep"
      },
      "source": [
        "##plus. K 평균 군집화로 손글씨 학습"
      ]
    },
    {
      "cell_type": "markdown",
      "metadata": {
        "id": "-fkdp8JSZpVJ"
      },
      "source": [
        "###1. 데이터셋 불러오기"
      ]
    },
    {
      "cell_type": "code",
      "metadata": {
        "colab": {
          "base_uri": "https://localhost:8080/"
        },
        "id": "VRDsdJ6HZosD",
        "outputId": "e12e6199-50e7-40d5-db12-f32ae710de5f"
      },
      "source": [
        "from sklearn.datasets import load_digits\n",
        "digits = load_digits()\n",
        "digits.data.shape # (관측치 개수, 특성병수 개수)"
      ],
      "execution_count": null,
      "outputs": [
        {
          "output_type": "execute_result",
          "data": {
            "text/plain": [
              "(1797, 64)"
            ]
          },
          "metadata": {
            "tags": []
          },
          "execution_count": 20
        }
      ]
    },
    {
      "cell_type": "markdown",
      "metadata": {
        "id": "XaGyvByZaBWl"
      },
      "source": [
        "###5. 모델 추정: K 평균 군집화"
      ]
    },
    {
      "cell_type": "code",
      "metadata": {
        "id": "533war75aAXo"
      },
      "source": [
        "from sklearn.cluster import KMeans\n",
        "km = KMeans(n_clusters = 10, random_state = 0) # n_cluters: 군집의 개수\n",
        "clusters = km.fit_predict(digits.data)\n",
        "aa = km.cluster_centers_.shape # kmeans.cluster_centers_: 각 군집의 개수"
      ],
      "execution_count": null,
      "outputs": []
    },
    {
      "cell_type": "markdown",
      "metadata": {
        "id": "FgabwwUtbQhi"
      },
      "source": [
        "###6. 결과 분석"
      ]
    },
    {
      "cell_type": "markdown",
      "metadata": {
        "id": "fGPP881EbVMR"
      },
      "source": [
        "각 군집 중심값의 이미지(순서X)"
      ]
    },
    {
      "cell_type": "code",
      "metadata": {
        "colab": {
          "base_uri": "https://localhost:8080/",
          "height": 197
        },
        "id": "72eqjyala18R",
        "outputId": "90464647-7b91-4f01-bf53-9e99ae02a471"
      },
      "source": [
        "import matplotlib.pyplot as plt\n",
        "fig, ax = plt.subplots(2, 5, figsize = (8, 3))\n",
        "centers = km.cluster_centers_.reshape(10, 8, 8)\n",
        "for axi, center in zip(ax.flat, centers):\n",
        "  axi.set(xticks = [], yticks = [])\n",
        "  axi.imshow(center, interpolation = 'nearest', cmap = plt.cm.binary)"
      ],
      "execution_count": null,
      "outputs": [
        {
          "output_type": "display_data",
          "data": {
            "image/png": "[encoded data removed]",
            "text/plain": [
              "<Figure size 576x216 with 10 Axes>"
            ]
          },
          "metadata": {
            "tags": []
          }
        }
      ]
    },
    {
      "cell_type": "code",
      "metadata": {
        "id": "dwUWB7T7b4hE"
      },
      "source": [
        "#정확도 계산\n",
        "import numpy as np\n",
        "from scipy.stats import mode\n",
        "labels = np.zeros_like(clusters)\n",
        "for i in range(10):\n",
        "  mask = (clusters == i)\n",
        "  labels[mask] = mode(digits.target[mask])[0] #군집 결과에 label 부여"
      ],
      "execution_count": null,
      "outputs": []
    },
    {
      "cell_type": "code",
      "metadata": {
        "colab": {
          "base_uri": "https://localhost:8080/"
        },
        "id": "rDBoNpgZceM5",
        "outputId": "8aa0fa14-217c-4dc6-e676-d53c4ed5c847"
      },
      "source": [
        "from sklearn. metrics import accuracy_score\n",
        "accuracy_score(digits.target, labels)"
      ],
      "execution_count": null,
      "outputs": [
        {
          "output_type": "execute_result",
          "data": {
            "text/plain": [
              "0.7952142459654981"
            ]
          },
          "metadata": {
            "tags": []
          },
          "execution_count": 24
        }
      ]
    },
    {
      "cell_type": "code",
      "metadata": {
        "colab": {
          "base_uri": "https://localhost:8080/"
        },
        "id": "BXrRmoBRctC_",
        "outputId": "e4b4b08e-3e81-49f5-f3c1-e8622bd2c207"
      },
      "source": [
        "# 혼합 행렬 -> 오분류표 작성\n",
        "from sklearn.metrics import confusion_matrix\n",
        "import seaborn as sns\n",
        "mat = confusion_matrix(digits.target, labels)\n",
        "print(mat)"
      ],
      "execution_count": null,
      "outputs": [
        {
          "output_type": "stream",
          "text": [
            "[[177   0   0   0   1   0   0   0   0   0]\n",
            " [  0  55  24   1   0   1   2   0  99   0]\n",
            " [  1   2 148  13   0   0   0   3   8   2]\n",
            " [  0   0   1 155   0   2   0   7   7  11]\n",
            " [  0   7   0   0 163   0   0   7   4   0]\n",
            " [  0   0   0   1   2 136   1   0   0  42]\n",
            " [  1   1   0   0   0   0 177   0   2   0]\n",
            " [  0   0   0   0   0   0   0 177   2   0]\n",
            " [  0   6   3   4   0   4   2   5 102  48]\n",
            " [  0  20   0   6   0   6   0   7   2 139]]\n"
          ],
          "name": "stdout"
        }
      ]
    }
  ]
}