{
  "nbformat": 4,
  "nbformat_minor": 0,
  "metadata": {
    "colab": {
      "name": "12_선형분류_01_이진분류",
      "provenance": [],
      "collapsed_sections": []
    },
    "kernelspec": {
      "name": "python3",
      "display_name": "Python 3"
    },
    "language_info": {
      "name": "python"
    }
  },
  "cells": [
    {
      "cell_type": "markdown",
      "metadata": {
        "id": "ImzfQcPgPmJH"
      },
      "source": [
        "#12_선형분류_이진분류"
      ]
    },
    {
      "cell_type": "markdown",
      "metadata": {
        "id": "vXIKbwjSGY_o"
      },
      "source": [
        "### ML/DL 라이브러리 불러오기"
      ]
    },
    {
      "cell_type": "code",
      "metadata": {
        "colab": {
          "base_uri": "https://localhost:8080/"
        },
        "id": "0Lixf0PLPWsC",
        "outputId": "41997c6f-122c-4fad-c6c0-8a9b60e30d5c"
      },
      "source": [
        "import torch\n",
        "import torch.optim as optim\n",
        "# random Seed 고정하기\n",
        "torch.manual_seed(1)"
      ],
      "execution_count": 1,
      "outputs": [
        {
          "output_type": "execute_result",
          "data": {
            "text/plain": [
              "<torch._C.Generator at 0x7fee624197b0>"
            ]
          },
          "metadata": {
            "tags": []
          },
          "execution_count": 1
        }
      ]
    },
    {
      "cell_type": "markdown",
      "metadata": {
        "id": "QRBHVo8SesEv"
      },
      "source": [
        "##1. 데이터셋불러오기"
      ]
    },
    {
      "cell_type": "code",
      "metadata": {
        "id": "Kn7c6E56eqbe"
      },
      "source": [
        "x_data = [[1, 2], [2, 3], [3, 1], [4, 3], [5, 3], [6, 2]]\n",
        "y_data = [[0], [0], [0], [1], [1], [1]]"
      ],
      "execution_count": 2,
      "outputs": []
    },
    {
      "cell_type": "code",
      "metadata": {
        "id": "ku_tWZjse98Y"
      },
      "source": [
        "x_train = torch.FloatTensor(x_data)\n",
        "y_train = torch.FloatTensor(y_data)"
      ],
      "execution_count": 3,
      "outputs": []
    },
    {
      "cell_type": "code",
      "metadata": {
        "colab": {
          "base_uri": "https://localhost:8080/"
        },
        "id": "pgAK3AQAfIeT",
        "outputId": "98a87318-aff9-4261-d800-bff222cffb0c"
      },
      "source": [
        "print(x_data)\n",
        "print(x_train)"
      ],
      "execution_count": 4,
      "outputs": [
        {
          "output_type": "stream",
          "text": [
            "[[1, 2], [2, 3], [3, 1], [4, 3], [5, 3], [6, 2]]\n",
            "tensor([[1., 2.],\n",
            "        [2., 3.],\n",
            "        [3., 1.],\n",
            "        [4., 3.],\n",
            "        [5., 3.],\n",
            "        [6., 2.]])\n"
          ],
          "name": "stdout"
        }
      ]
    },
    {
      "cell_type": "code",
      "metadata": {
        "colab": {
          "base_uri": "https://localhost:8080/"
        },
        "id": "6pOTz3IKfMn_",
        "outputId": "45550ed7-15c2-4fb4-8c34-6702923f36da"
      },
      "source": [
        "print(x_train.shape)\n",
        "print(y_train.shape)"
      ],
      "execution_count": 5,
      "outputs": [
        {
          "output_type": "stream",
          "text": [
            "torch.Size([6, 2])\n",
            "torch.Size([6, 1])\n"
          ],
          "name": "stdout"
        }
      ]
    },
    {
      "cell_type": "markdown",
      "metadata": {
        "id": "onCXvnxXfTu2"
      },
      "source": [
        "##5. 모델 학습: 이진분류 & Sigmoid"
      ]
    },
    {
      "cell_type": "markdown",
      "metadata": {
        "id": "2_cf4Qh5i6-o"
      },
      "source": [
        "Sigmoid Hypothesis\n",
        "$$ H(X) = \\frac{1}{1+e^{-W^T X}} $$"
      ]
    },
    {
      "cell_type": "markdown",
      "metadata": {
        "id": "U6TnQ-hZjCA2"
      },
      "source": [
        "Cost of Sigmoid Hypothesis\n",
        "$$ cost(W) = -\\frac{1}{m} \\sum y \\log\\left(H(x)\\right) + (1-y) \\left( \\log(1-H(x) \\right) $$"
      ]
    },
    {
      "cell_type": "markdown",
      "metadata": {
        "id": "O5dUPCaajOzF"
      },
      "source": [
        "Gradient Descent($\\alpha$ == learning rate)\n",
        "$$ W := W - \\alpha \\frac{\\partial}{\\partial W} cost(W) $$"
      ]
    },
    {
      "cell_type": "code",
      "metadata": {
        "colab": {
          "base_uri": "https://localhost:8080/"
        },
        "id": "2bVJM6zPhjTH",
        "outputId": "12fe1bd1-4be4-405d-ad9b-bbe0306ce025"
      },
      "source": [
        "#2차원 입력데이터 -> 출력 0 or 1\n",
        "\n",
        "# Initialization: W and b\n",
        "W = torch.zeros((2, 1), requires_grad = True)\n",
        "b = torch.zeros(1, requires_grad = True)\n",
        "\n",
        "# Opimizer\n",
        "optimizer = optim.SGD([W, b], lr = 1)\n",
        "\n",
        "# 파라미커 100번 갱신 반복하기\n",
        "nb_epochs = 1000\n",
        "for epoch in range(nb_epochs + 1):\n",
        "\n",
        "  # Sigmoid Hypothesis\n",
        "  hypothesis = torch.sigmoid(x_train.matmul(W)+b)\n",
        "\n",
        "  # Cost\n",
        "  cost = -(y_train*torch.log(hypothesis) + (1 - y_train) * torch.log(1 - hypothesis)).mean()\n",
        "\n",
        "  # Cost로 파라미터 W, b 갱신\n",
        "  optimizer.zero_grad() # Optimizer의 gradient을 0으로 초기화\n",
        "  cost.backward() # Cost로 optimizer 알고리즘 수행\n",
        "  optimizer.step() # W, b 갱신\n",
        "\n",
        "  #100번마다 갱신 상황 출력\n",
        "  if epoch % 100 == 0:\n",
        "    print('Epoch {:4d}/{} Cost: {:.6f}'.format(epoch, nb_epochs, cost.item()))"
      ],
      "execution_count": 6,
      "outputs": [
        {
          "output_type": "stream",
          "text": [
            "Epoch    0/1000 Cost: 0.693147\n",
            "Epoch  100/1000 Cost: 0.134722\n",
            "Epoch  200/1000 Cost: 0.080643\n",
            "Epoch  300/1000 Cost: 0.057900\n",
            "Epoch  400/1000 Cost: 0.045300\n",
            "Epoch  500/1000 Cost: 0.037261\n",
            "Epoch  600/1000 Cost: 0.031673\n",
            "Epoch  700/1000 Cost: 0.027556\n",
            "Epoch  800/1000 Cost: 0.024394\n",
            "Epoch  900/1000 Cost: 0.021888\n",
            "Epoch 1000/1000 Cost: 0.019852\n"
          ],
          "name": "stdout"
        }
      ]
    },
    {
      "cell_type": "markdown",
      "metadata": {
        "id": "jUQmNqpxjbLK"
      },
      "source": [
        "##6. 결과 분석"
      ]
    },
    {
      "cell_type": "markdown",
      "metadata": {
        "id": "3hV1uYcymFbf"
      },
      "source": [
        "Sigmoid Hypothesis"
      ]
    },
    {
      "cell_type": "code",
      "metadata": {
        "colab": {
          "base_uri": "https://localhost:8080/"
        },
        "id": "30D5EhUXi3dS",
        "outputId": "17b93bcc-a847-4f6e-a709-2114f7d9d663"
      },
      "source": [
        "hypothesis = torch.sigmoid(x_train.matmul(W) + b)\n",
        "\n",
        "print(hypothesis[:5])"
      ],
      "execution_count": 7,
      "outputs": [
        {
          "output_type": "stream",
          "text": [
            "tensor([[2.7648e-04],\n",
            "        [3.1608e-02],\n",
            "        [3.8977e-02],\n",
            "        [9.5622e-01],\n",
            "        [9.9823e-01]], grad_fn=<SliceBackward>)\n"
          ],
          "name": "stdout"
        }
      ]
    },
    {
      "cell_type": "markdown",
      "metadata": {
        "id": "sm93YCLjmILC"
      },
      "source": [
        "0.5 기준으로 예측값을 0 or 1로 나누기"
      ]
    },
    {
      "cell_type": "code",
      "metadata": {
        "colab": {
          "base_uri": "https://localhost:8080/"
        },
        "id": "Kho5Hjo4lHt3",
        "outputId": "577bd7dc-0214-468c-d09e-474bc3376169"
      },
      "source": [
        "prediction = hypothesis >= torch.FloatTensor([0.5])\n",
        "\n",
        "print(prediction[:5])"
      ],
      "execution_count": 8,
      "outputs": [
        {
          "output_type": "stream",
          "text": [
            "tensor([[False],\n",
            "        [False],\n",
            "        [False],\n",
            "        [ True],\n",
            "        [ True]])\n"
          ],
          "name": "stdout"
        }
      ]
    },
    {
      "cell_type": "markdown",
      "metadata": {
        "id": "lQFIv1ogmxPc"
      },
      "source": [
        "정답"
      ]
    },
    {
      "cell_type": "code",
      "metadata": {
        "colab": {
          "base_uri": "https://localhost:8080/"
        },
        "id": "6F-FRnNllPPT",
        "outputId": "499b8f20-92be-4cd6-9f47-ccc5559545a2"
      },
      "source": [
        "print(y_train)"
      ],
      "execution_count": 9,
      "outputs": [
        {
          "output_type": "stream",
          "text": [
            "tensor([[0.],\n",
            "        [0.],\n",
            "        [0.],\n",
            "        [1.],\n",
            "        [1.],\n",
            "        [1.]])\n"
          ],
          "name": "stdout"
        }
      ]
    },
    {
      "cell_type": "markdown",
      "metadata": {
        "id": "1ImjQxhcmzIN"
      },
      "source": [
        "채점"
      ]
    },
    {
      "cell_type": "code",
      "metadata": {
        "colab": {
          "base_uri": "https://localhost:8080/"
        },
        "id": "TM1YFaO5l6gR",
        "outputId": "23ac470e-b798-414b-b87c-79fdc4ffb494"
      },
      "source": [
        "correct_prediction = prediction.float() == y_train\n",
        "\n",
        "print(correct_prediction[:5])"
      ],
      "execution_count": 10,
      "outputs": [
        {
          "output_type": "stream",
          "text": [
            "tensor([[True],\n",
            "        [True],\n",
            "        [True],\n",
            "        [True],\n",
            "        [True]])\n"
          ],
          "name": "stdout"
        }
      ]
    },
    {
      "cell_type": "markdown",
      "metadata": {
        "id": "cjnts6Nzm3M5"
      },
      "source": [
        "정확도"
      ]
    },
    {
      "cell_type": "code",
      "metadata": {
        "colab": {
          "base_uri": "https://localhost:8080/"
        },
        "id": "HxGhEvIKm7vt",
        "outputId": "3f9f662e-a61e-42d9-9eaa-040e54a65760"
      },
      "source": [
        "accuracy = correct_prediction.sum().item() / len(correct_prediction)\n",
        "print('The model has an accuracy of {:2.2f}% for the training set'.format(accuracy * 100))"
      ],
      "execution_count": 11,
      "outputs": [
        {
          "output_type": "stream",
          "text": [
            "The model has an accuracy of 100.00% for the training set\n"
          ],
          "name": "stdout"
        }
      ]
    },
    {
      "cell_type": "markdown",
      "metadata": {
        "id": "P96Co7CKnxSG"
      },
      "source": [
        "만약 100시간 공부하고 5번 수업에 참여했을때 Pass? or Nonpass?"
      ]
    },
    {
      "cell_type": "code",
      "metadata": {
        "colab": {
          "base_uri": "https://localhost:8080/"
        },
        "id": "4yiDK1iAoAy7",
        "outputId": "61c46a5f-477b-4b10-8ae3-0c0a7e1ed35e"
      },
      "source": [
        "# 새로운 데이터\n",
        "XX = [[100, 5]]\n",
        "xx= torch.FloatTensor(XX)\n",
        "\n",
        "# 모델이 넣기\n",
        "hypothesis = torch.sigmoid(xx.matmul(W)+b)\n",
        "\n",
        "# 예측\n",
        "prediction = hypothesis >= torch.FloatTensor([0.5])\n",
        "\n",
        "print(prediction)"
      ],
      "execution_count": 12,
      "outputs": [
        {
          "output_type": "stream",
          "text": [
            "tensor([[True]])\n"
          ],
          "name": "stdout"
        }
      ]
    }
  ]
}