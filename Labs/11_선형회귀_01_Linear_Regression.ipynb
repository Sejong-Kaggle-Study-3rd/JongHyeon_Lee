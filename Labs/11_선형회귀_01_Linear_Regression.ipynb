{
  "nbformat": 4,
  "nbformat_minor": 0,
  "metadata": {
    "colab": {
      "name": "11_선형회귀_01_Linear Regression",
      "provenance": [],
      "collapsed_sections": []
    },
    "kernelspec": {
      "name": "python3",
      "display_name": "Python 3"
    },
    "language_info": {
      "name": "python"
    }
  },
  "cells": [
    {
      "cell_type": "markdown",
      "metadata": {
        "id": "8ITkbG30FmwU"
      },
      "source": [
        "##11_선형회귀_Linear Regression"
      ]
    },
    {
      "cell_type": "markdown",
      "metadata": {
        "id": "vXIKbwjSGY_o"
      },
      "source": [
        "### ML/DL 라이브러리 불러오기"
      ]
    },
    {
      "cell_type": "markdown",
      "metadata": {
        "id": "mimfJSmNGImk"
      },
      "source": [
        "PyTorch"
      ]
    },
    {
      "cell_type": "code",
      "metadata": {
        "id": "413LvbgfFkgr"
      },
      "source": [
        "import torch\n",
        "import torch.optim as optim"
      ],
      "execution_count": null,
      "outputs": []
    },
    {
      "cell_type": "markdown",
      "metadata": {
        "id": "PyW2RLrgGzeb"
      },
      "source": [
        "Random Seed 고정하기"
      ]
    },
    {
      "cell_type": "code",
      "metadata": {
        "colab": {
          "base_uri": "https://localhost:8080/"
        },
        "id": "MWFQ_JbvGtgb",
        "outputId": "7bad0188-009b-4744-e8f4-a1be069d5be8"
      },
      "source": [
        "torch.manual_seed(1)"
      ],
      "execution_count": null,
      "outputs": [
        {
          "output_type": "execute_result",
          "data": {
            "text/plain": [
              "<torch._C.Generator at 0x7f8cd0c19950>"
            ]
          },
          "metadata": {
            "tags": []
          },
          "execution_count": 2
        }
      ]
    },
    {
      "cell_type": "markdown",
      "metadata": {
        "id": "YjprzUZmHR-J"
      },
      "source": [
        "###1. 데이터셋 불러오기"
      ]
    },
    {
      "cell_type": "markdown",
      "metadata": {
        "id": "f9nDocW8HdAx"
      },
      "source": [
        "(x1, y1) = (1, 1)   (x2, y2) = (2, 2)   (x3, y3) = (3, 3)\n"
      ]
    },
    {
      "cell_type": "code",
      "metadata": {
        "id": "yXD2epOrHRD3"
      },
      "source": [
        "x_train = torch.FloatTensor([[1], [2], [3]])\n",
        "y_train = torch.FloatTensor([[1], [2], [3]])"
      ],
      "execution_count": null,
      "outputs": []
    },
    {
      "cell_type": "code",
      "metadata": {
        "colab": {
          "base_uri": "https://localhost:8080/"
        },
        "id": "2NKH_G6wHvRz",
        "outputId": "50d21410-e9cd-49d5-f10a-8d3cace6e0ba"
      },
      "source": [
        "print(x_train)\n",
        "print(x_train.shape)"
      ],
      "execution_count": null,
      "outputs": [
        {
          "output_type": "stream",
          "text": [
            "tensor([[1.],\n",
            "        [2.],\n",
            "        [3.]])\n",
            "torch.Size([3, 1])\n"
          ],
          "name": "stdout"
        }
      ]
    },
    {
      "cell_type": "code",
      "metadata": {
        "colab": {
          "base_uri": "https://localhost:8080/"
        },
        "id": "XAoECmhFHz75",
        "outputId": "38a4f670-f50a-42f6-ed83-61e5d7f1f080"
      },
      "source": [
        "print(y_train)\n",
        "print(y_train.shape)"
      ],
      "execution_count": null,
      "outputs": [
        {
          "output_type": "stream",
          "text": [
            "tensor([[1.],\n",
            "        [2.],\n",
            "        [3.]])\n",
            "torch.Size([3, 1])\n"
          ],
          "name": "stdout"
        }
      ]
    },
    {
      "cell_type": "markdown",
      "metadata": {
        "id": "Cu6b1T2WILbF"
      },
      "source": [
        "기본적으로 Pytorch는 NCHW 형태이다<br>\n",
        "N: n-count(batch)<br>\n",
        "C: Channel<br>\n",
        "H: Height<br>\n",
        "W: Width<br>"
      ]
    },
    {
      "cell_type": "markdown",
      "metadata": {
        "id": "woPwppjvJLSS"
      },
      "source": [
        "###5. 모델 추정"
      ]
    },
    {
      "cell_type": "markdown",
      "metadata": {
        "id": "QMzdCzYIJN5i"
      },
      "source": [
        "####Weight Initialization"
      ]
    },
    {
      "cell_type": "code",
      "metadata": {
        "colab": {
          "base_uri": "https://localhost:8080/"
        },
        "id": "GSBxMi0vJI5l",
        "outputId": "5b516636-68f4-4d2a-fbe9-c6180a2f6538"
      },
      "source": [
        "# 1x1 행렬, 0으로 초기화\n",
        "W = torch.zeros(1, requires_grad = True) #requires_grad=True : 학습용 변수라고 명시적 초기화\n",
        "\n",
        "print(W)"
      ],
      "execution_count": null,
      "outputs": [
        {
          "output_type": "stream",
          "text": [
            "tensor([0.], requires_grad=True)\n"
          ],
          "name": "stdout"
        }
      ]
    },
    {
      "cell_type": "code",
      "metadata": {
        "colab": {
          "base_uri": "https://localhost:8080/"
        },
        "id": "qRPferh9JdZn",
        "outputId": "24f38861-c2b7-4c49-cfd5-d70db8b7a5fe"
      },
      "source": [
        "b = torch.zeros(1, requires_grad = True)\n",
        "\n",
        "print"
      ],
      "execution_count": null,
      "outputs": [
        {
          "output_type": "stream",
          "text": [
            "tensor([0.], requires_grad=True)\n"
          ],
          "name": "stdout"
        }
      ]
    },
    {
      "cell_type": "markdown",
      "metadata": {
        "id": "eyR3iFR8LDWz"
      },
      "source": [
        "####Hypothesis"
      ]
    },
    {
      "cell_type": "markdown",
      "metadata": {
        "id": "TxkbKyjvRq4I"
      },
      "source": [
        "$$ H(x) = Wx + b $$"
      ]
    },
    {
      "cell_type": "code",
      "metadata": {
        "colab": {
          "base_uri": "https://localhost:8080/"
        },
        "id": "GxgOslg1J-kT",
        "outputId": "282cbe81-8366-483e-8502-90dc70e413a6"
      },
      "source": [
        "hypothesis = x_train * W +b\n",
        "\n",
        "print(hypothesis)"
      ],
      "execution_count": null,
      "outputs": [
        {
          "output_type": "stream",
          "text": [
            "tensor([[0.],\n",
            "        [0.],\n",
            "        [0.]], grad_fn=<AddBackward0>)\n"
          ],
          "name": "stdout"
        }
      ]
    },
    {
      "cell_type": "markdown",
      "metadata": {
        "id": "44oB0JgfLHE6"
      },
      "source": [
        "####Cost"
      ]
    },
    {
      "cell_type": "markdown",
      "metadata": {
        "id": "3oSpkGseRs90"
      },
      "source": [
        "$$ cost(W, b) = \\frac{1}{m} \\sum^m_{i=1} \\left( H(x^{(i)}) - y^{(i)} \\right)^2 $$"
      ]
    },
    {
      "cell_type": "code",
      "metadata": {
        "colab": {
          "base_uri": "https://localhost:8080/"
        },
        "id": "-nFujd90LHXk",
        "outputId": "a1f7e7b4-997e-4ab8-cb0f-21e7af3d3e64"
      },
      "source": [
        "cost = torch.mean((hypothesis - y_train) ** 2)\n",
        "print(cost)"
      ],
      "execution_count": null,
      "outputs": [
        {
          "output_type": "stream",
          "text": [
            "tensor(4.6667, grad_fn=<MeanBackward0>)\n"
          ],
          "name": "stdout"
        }
      ]
    },
    {
      "cell_type": "markdown",
      "metadata": {
        "id": "ikyNyOnELypY"
      },
      "source": [
        "#### Gradient Descent"
      ]
    },
    {
      "cell_type": "code",
      "metadata": {
        "id": "1LecAdgKL3wZ"
      },
      "source": [
        "optimizer = optim.SGD([W, b], lr = 0.01) #lr(learning rate) = alpha"
      ],
      "execution_count": null,
      "outputs": []
    },
    {
      "cell_type": "markdown",
      "metadata": {
        "id": "bog9ZI14Rux1"
      },
      "source": [
        "$$ W := W - \\alpha \\frac{\\partial}{\\partial W} cost(W, b) $$"
      ]
    },
    {
      "cell_type": "markdown",
      "metadata": {
        "id": "MwQFkVIpNpdE"
      },
      "source": [
        "Optimizer 초기화"
      ]
    },
    {
      "cell_type": "code",
      "metadata": {
        "id": "esoq3kdRNouD"
      },
      "source": [
        "optimizer.zero_grad()"
      ],
      "execution_count": null,
      "outputs": []
    },
    {
      "cell_type": "markdown",
      "metadata": {
        "id": "KzZ0uPSZNyGb"
      },
      "source": [
        "cost 계산 = 미분값 계산하기"
      ]
    },
    {
      "cell_type": "code",
      "metadata": {
        "id": "rplodXPXNwDg"
      },
      "source": [
        "cost.backward()"
      ],
      "execution_count": null,
      "outputs": []
    },
    {
      "cell_type": "markdown",
      "metadata": {
        "id": "E030OoLiN5kz"
      },
      "source": [
        "Optimizer 갱신 = W, b 갱신"
      ]
    },
    {
      "cell_type": "code",
      "metadata": {
        "id": "FXtxOcdpN4qV"
      },
      "source": [
        "optimizer.step()"
      ],
      "execution_count": null,
      "outputs": []
    },
    {
      "cell_type": "markdown",
      "metadata": {
        "id": "5wkWHzX6OGLq"
      },
      "source": [
        "갱신 전 후 비교"
      ]
    },
    {
      "cell_type": "code",
      "metadata": {
        "colab": {
          "base_uri": "https://localhost:8080/"
        },
        "id": "NxZz_eLxODoD",
        "outputId": "c97ff188-9ea8-449b-caa6-9ec7a7c06fd8"
      },
      "source": [
        "hypothesis = x_train * W + b\n",
        "\n",
        "print(hypothesis)"
      ],
      "execution_count": null,
      "outputs": [
        {
          "output_type": "stream",
          "text": [
            "tensor([[0.1333],\n",
            "        [0.2267],\n",
            "        [0.3200]], grad_fn=<AddBackward0>)\n"
          ],
          "name": "stdout"
        }
      ]
    },
    {
      "cell_type": "code",
      "metadata": {
        "colab": {
          "base_uri": "https://localhost:8080/"
        },
        "id": "ZiMF1z0DOOP2",
        "outputId": "cdd6d0c1-268f-46de-f11b-52bea09afd65"
      },
      "source": [
        "cost = torch.mean((hypothesis - y_train)**2)\n",
        "\n",
        "print(cost)"
      ],
      "execution_count": null,
      "outputs": [
        {
          "output_type": "stream",
          "text": [
            "tensor(3.6927, grad_fn=<MeanBackward0>)\n"
          ],
          "name": "stdout"
        }
      ]
    },
    {
      "cell_type": "markdown",
      "metadata": {
        "id": "cgfopzutOapJ"
      },
      "source": [
        "### Full Code with 갱신 반복"
      ]
    },
    {
      "cell_type": "code",
      "metadata": {
        "colab": {
          "base_uri": "https://localhost:8080/"
        },
        "id": "uG13wzigOkkS",
        "outputId": "02ff524e-75b2-445b-fa30-6006aa240679"
      },
      "source": [
        "# 데이터셋 불러오기\n",
        "x_train = torch.FloatTensor([[1], [2], [3]])\n",
        "y_train = torch.FloatTensor([[1], [2], [3]])\n",
        "\n",
        "# 모델 초기화\n",
        "W = torch.zeros(1, requires_grad=True)\n",
        "b = torch.zeros(1, requires_grad=True)\n",
        "\n",
        "# Optimizer 설정\n",
        "optimizer = optim.SGD([W, b], lr=0.01)\n",
        "\n",
        "# 파라미터 갱신 1000번 갱신 반복하기\n",
        "nb_epochs = 1000\n",
        "for epoch in range(nb_epochs + 1):\n",
        "\n",
        "  # Hypothesis\n",
        "  hypothesis = x_train * W + b\n",
        "\n",
        "  # Cost\n",
        "  cost = torch.mean((hypothesis - y_train) ** 2)\n",
        "\n",
        "  # Cost로 파라미터 W, b 갱신\n",
        "  optimizer.zero_grad()\n",
        "  cost.backward()\n",
        "  optimizer.step()\n",
        "\n",
        "  # 100번마다 갱신 상황 출력\n",
        "  if epoch % 100 == 0:\n",
        "    print('Epoch {:4d}/{} W: {:.3f}, b: {:.3f}, Cost: {:.6f}'.format(epoch, nb_epochs, W.item(), b.item(), cost.item()))\n"
      ],
      "execution_count": null,
      "outputs": [
        {
          "output_type": "stream",
          "text": [
            "Epoch    0/1000 W: 0.093, b: 0.040, Cost: 4.666667\n",
            "Epoch  100/1000 W: 0.873, b: 0.289, Cost: 0.012043\n",
            "Epoch  200/1000 W: 0.900, b: 0.227, Cost: 0.007442\n",
            "Epoch  300/1000 W: 0.921, b: 0.179, Cost: 0.004598\n",
            "Epoch  400/1000 W: 0.938, b: 0.140, Cost: 0.002842\n",
            "Epoch  500/1000 W: 0.951, b: 0.110, Cost: 0.001756\n",
            "Epoch  600/1000 W: 0.962, b: 0.087, Cost: 0.001085\n",
            "Epoch  700/1000 W: 0.970, b: 0.068, Cost: 0.000670\n",
            "Epoch  800/1000 W: 0.976, b: 0.054, Cost: 0.000414\n",
            "Epoch  900/1000 W: 0.981, b: 0.042, Cost: 0.000256\n",
            "Epoch 1000/1000 W: 0.985, b: 0.033, Cost: 0.000158\n"
          ],
          "name": "stdout"
        }
      ]
    }
  ]
}