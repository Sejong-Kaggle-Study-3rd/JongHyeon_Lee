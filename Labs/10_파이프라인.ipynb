{
  "nbformat": 4,
  "nbformat_minor": 0,
  "metadata": {
    "colab": {
      "name": "10_파이프라인",
      "provenance": [],
      "collapsed_sections": []
    },
    "kernelspec": {
      "name": "python3",
      "display_name": "Python 3"
    },
    "language_info": {
      "name": "python"
    }
  },
  "cells": [
    {
      "cell_type": "markdown",
      "metadata": {
        "id": "gNbW6Uc86Vd1"
      },
      "source": [
        "##10_파이프라인"
      ]
    },
    {
      "cell_type": "markdown",
      "metadata": {
        "id": "DHcp4mmoisXs"
      },
      "source": [
        "###1. 데이터셋 불러오기"
      ]
    },
    {
      "cell_type": "code",
      "metadata": {
        "id": "xY1loyaHvVom",
        "colab": {
          "base_uri": "https://localhost:8080/",
          "height": 204
        },
        "outputId": "c249e85f-b74d-4ad6-9c30-55aa63d2323a"
      },
      "source": [
        "import pandas as pd\n",
        "#https://www.kaggle.com/kartikmohan1999/universal-bank/data?select=UniversalBank.csv\n",
        "bank_df = pd.read_csv('UniversalBank.csv')\n",
        "bank_df.head()"
      ],
      "execution_count": null,
      "outputs": [
        {
          "output_type": "execute_result",
          "data": {
            "text/html": [
              "<div>\n",
              "<style scoped>\n",
              "    .dataframe tbody tr th:only-of-type {\n",
              "        vertical-align: middle;\n",
              "    }\n",
              "\n",
              "    .dataframe tbody tr th {\n",
              "        vertical-align: top;\n",
              "    }\n",
              "\n",
              "    .dataframe thead th {\n",
              "        text-align: right;\n",
              "    }\n",
              "</style>\n",
              "<table border=\"1\" class=\"dataframe\">\n",
              "  <thead>\n",
              "    <tr style=\"text-align: right;\">\n",
              "      <th></th>\n",
              "      <th>ID</th>\n",
              "      <th>Age</th>\n",
              "      <th>Experience</th>\n",
              "      <th>Income</th>\n",
              "      <th>ZIP Code</th>\n",
              "      <th>Family</th>\n",
              "      <th>CCAvg</th>\n",
              "      <th>Education</th>\n",
              "      <th>Mortgage</th>\n",
              "      <th>Personal Loan</th>\n",
              "      <th>Securities Account</th>\n",
              "      <th>CD Account</th>\n",
              "      <th>Online</th>\n",
              "      <th>CreditCard</th>\n",
              "    </tr>\n",
              "  </thead>\n",
              "  <tbody>\n",
              "    <tr>\n",
              "      <th>0</th>\n",
              "      <td>1</td>\n",
              "      <td>25</td>\n",
              "      <td>1</td>\n",
              "      <td>49</td>\n",
              "      <td>91107</td>\n",
              "      <td>4</td>\n",
              "      <td>1.6</td>\n",
              "      <td>1</td>\n",
              "      <td>0</td>\n",
              "      <td>0</td>\n",
              "      <td>1</td>\n",
              "      <td>0</td>\n",
              "      <td>0</td>\n",
              "      <td>0</td>\n",
              "    </tr>\n",
              "    <tr>\n",
              "      <th>1</th>\n",
              "      <td>2</td>\n",
              "      <td>45</td>\n",
              "      <td>19</td>\n",
              "      <td>34</td>\n",
              "      <td>90089</td>\n",
              "      <td>3</td>\n",
              "      <td>1.5</td>\n",
              "      <td>1</td>\n",
              "      <td>0</td>\n",
              "      <td>0</td>\n",
              "      <td>1</td>\n",
              "      <td>0</td>\n",
              "      <td>0</td>\n",
              "      <td>0</td>\n",
              "    </tr>\n",
              "    <tr>\n",
              "      <th>2</th>\n",
              "      <td>3</td>\n",
              "      <td>39</td>\n",
              "      <td>15</td>\n",
              "      <td>11</td>\n",
              "      <td>94720</td>\n",
              "      <td>1</td>\n",
              "      <td>1.0</td>\n",
              "      <td>1</td>\n",
              "      <td>0</td>\n",
              "      <td>0</td>\n",
              "      <td>0</td>\n",
              "      <td>0</td>\n",
              "      <td>0</td>\n",
              "      <td>0</td>\n",
              "    </tr>\n",
              "    <tr>\n",
              "      <th>3</th>\n",
              "      <td>4</td>\n",
              "      <td>35</td>\n",
              "      <td>9</td>\n",
              "      <td>100</td>\n",
              "      <td>94112</td>\n",
              "      <td>1</td>\n",
              "      <td>2.7</td>\n",
              "      <td>2</td>\n",
              "      <td>0</td>\n",
              "      <td>0</td>\n",
              "      <td>0</td>\n",
              "      <td>0</td>\n",
              "      <td>0</td>\n",
              "      <td>0</td>\n",
              "    </tr>\n",
              "    <tr>\n",
              "      <th>4</th>\n",
              "      <td>5</td>\n",
              "      <td>35</td>\n",
              "      <td>8</td>\n",
              "      <td>45</td>\n",
              "      <td>91330</td>\n",
              "      <td>4</td>\n",
              "      <td>1.0</td>\n",
              "      <td>2</td>\n",
              "      <td>0</td>\n",
              "      <td>0</td>\n",
              "      <td>0</td>\n",
              "      <td>0</td>\n",
              "      <td>0</td>\n",
              "      <td>1</td>\n",
              "    </tr>\n",
              "  </tbody>\n",
              "</table>\n",
              "</div>"
            ],
            "text/plain": [
              "   ID  Age  Experience  ...  CD Account  Online  CreditCard\n",
              "0   1   25           1  ...           0       0           0\n",
              "1   2   45          19  ...           0       0           0\n",
              "2   3   39          15  ...           0       0           0\n",
              "3   4   35           9  ...           0       0           0\n",
              "4   5   35           8  ...           0       0           1\n",
              "\n",
              "[5 rows x 14 columns]"
            ]
          },
          "metadata": {
            "tags": []
          },
          "execution_count": 1
        }
      ]
    },
    {
      "cell_type": "markdown",
      "metadata": {
        "id": "r9Q3_ECjiwsX"
      },
      "source": [
        "학습에 사용할 특성변수 선택하기"
      ]
    },
    {
      "cell_type": "code",
      "metadata": {
        "id": "U9yAGTZItUwn"
      },
      "source": [
        "X = bank_df.drop(['ID', 'ZIP Code', 'Personal Loan'], axis = 1)\n",
        "y = bank_df['Personal Loan']"
      ],
      "execution_count": null,
      "outputs": []
    },
    {
      "cell_type": "markdown",
      "metadata": {
        "id": "YDi0c5_7i5Tq"
      },
      "source": [
        "###3. 데이터 분할"
      ]
    },
    {
      "cell_type": "code",
      "metadata": {
        "id": "f16mkT4xtZcK"
      },
      "source": [
        "from sklearn.model_selection import train_test_split\n",
        "X_train, X_test, y_train, y_test = train_test_split(X, y, test_size = 0.3, random_state = 1, stratify = y)"
      ],
      "execution_count": null,
      "outputs": []
    },
    {
      "cell_type": "markdown",
      "metadata": {
        "id": "UIarXA-7i_sl"
      },
      "source": [
        "###5. 모델 추정 및 결과 분석"
      ]
    },
    {
      "cell_type": "markdown",
      "metadata": {
        "id": "mSyurOFyw5_w"
      },
      "source": [
        "####1. 결정트리"
      ]
    },
    {
      "cell_type": "markdown",
      "metadata": {
        "id": "Q2ZAPOm1wtC1"
      },
      "source": [
        "결정 트리"
      ]
    },
    {
      "cell_type": "code",
      "metadata": {
        "id": "PqH-0Tm0vQKQ"
      },
      "source": [
        "from sklearn.tree import DecisionTreeClassifier\n",
        "tree = DecisionTreeClassifier(max_depth = None, criterion = 'gini', random_state = 1)\n",
        "\n",
        "tree.fit(X_train, y_train)\n",
        "\n",
        "y_pred = tree.predict(X_test)"
      ],
      "execution_count": null,
      "outputs": []
    },
    {
      "cell_type": "markdown",
      "metadata": {
        "id": "GsSImNh-wwTk"
      },
      "source": [
        "결정 트리의 결과 분석"
      ]
    },
    {
      "cell_type": "code",
      "metadata": {
        "colab": {
          "base_uri": "https://localhost:8080/"
        },
        "id": "K0whLtZbvckW",
        "outputId": "12975d6f-2e8b-4e09-d0f1-ed030de3ebc1"
      },
      "source": [
        "from sklearn.metrics import accuracy_score, precision_score, recall_score, f1_score, roc_auc_score\n",
        "\n",
        "print('잘못 분류된 샘플의 개수: %d' %(y_test != y_pred).sum())\n",
        "print('정확도: %.3f' %accuracy_score(y_test, y_pred))\n",
        "print('정밀도: %.3f' %precision_score(y_true = y_test, y_pred = y_pred))\n",
        "print('재현율: %.3f' %recall_score(y_true = y_test, y_pred = y_pred))\n",
        "print('F1: %.3f' %f1_score(y_true = y_test, y_pred = y_pred))"
      ],
      "execution_count": null,
      "outputs": [
        {
          "output_type": "stream",
          "text": [
            "잘못 분류된 샘플의 개수: 28\n",
            "정확도: 0.981\n",
            "정밀도: 0.914\n",
            "재현율: 0.889\n",
            "F1: 0.901\n"
          ],
          "name": "stdout"
        }
      ]
    },
    {
      "cell_type": "markdown",
      "metadata": {
        "id": "D48Q6qvtxABR"
      },
      "source": [
        "교차 검증 및 결과 분석"
      ]
    },
    {
      "cell_type": "code",
      "metadata": {
        "colab": {
          "base_uri": "https://localhost:8080/"
        },
        "id": "EdrlvxF1wrDb",
        "outputId": "5bd8c315-b3c3-4634-9982-054d29a705b9"
      },
      "source": [
        "from sklearn.model_selection import cross_validate\n",
        "import numpy as np\n",
        "\n",
        "scores = cross_validate(estimator = tree, X = X_train, y = y_train,\n",
        "                        scoring = ['accuracy'], cv = 10, n_jobs = -1, return_train_score = False)\n",
        "\n",
        "print('CV 정확도 점수: %s' %scores['test_accuracy'])\n",
        "print('CV 정확도: %.3f +/- %.3f' %(np.mean(scores['test_accuracy']), np.std(scores['test_accuracy'])))"
      ],
      "execution_count": null,
      "outputs": [
        {
          "output_type": "stream",
          "text": [
            "CV 정확도 점수: [0.99428571 0.98       0.97714286 0.98285714 0.97714286 0.97714286\n",
            " 0.99428571 0.98571429 0.96857143 0.98      ]\n",
            "CV 정확도: 0.982 +/- 0.008\n"
          ],
          "name": "stdout"
        }
      ]
    },
    {
      "cell_type": "markdown",
      "metadata": {
        "id": "7cpFLnb2x47c"
      },
      "source": [
        "####2. 파이프라인 적용: 결정 트리"
      ]
    },
    {
      "cell_type": "code",
      "metadata": {
        "id": "pGj3-D_7x2b4"
      },
      "source": [
        "from sklearn.tree import DecisionTreeClassifier\n",
        "from sklearn.pipeline import make_pipeline\n",
        "\n",
        "pipe_tree1 = make_pipeline(DecisionTreeClassifier())"
      ],
      "execution_count": null,
      "outputs": []
    },
    {
      "cell_type": "markdown",
      "metadata": {
        "id": "U4Z-wlt6yVo-"
      },
      "source": [
        "교차 검증"
      ]
    },
    {
      "cell_type": "code",
      "metadata": {
        "colab": {
          "base_uri": "https://localhost:8080/"
        },
        "id": "B2bfy3WsyWeK",
        "outputId": "bb4c9213-28db-4f64-eed8-42ce1d8c0731"
      },
      "source": [
        "from sklearn.model_selection import GridSearchCV\n",
        "\n",
        "param_range1 = [1, 2, 3, 4, 5, 6, 7, 8, 9, 10]\n",
        "param_range2 = [10, 20, 30, 40, 50]\n",
        "\n",
        "param_grid = [{'decisiontreeclassifier__max_depth': param_range1,\n",
        "               'decisiontreeclassifier__min_samples_leaf': param_range2}]\n",
        "\n",
        "gs = GridSearchCV(estimator = pipe_tree1, param_grid = param_grid, scoring = 'accuracy', cv = 10, n_jobs = -1)\n",
        "\n",
        "gs = gs.fit(X_train, y_train)\n",
        "\n",
        "print(gs.best_score_)\n",
        "print(gs.best_params_)"
      ],
      "execution_count": null,
      "outputs": [
        {
          "output_type": "stream",
          "text": [
            "0.9851428571428571\n",
            "{'decisiontreeclassifier__max_depth': 5, 'decisiontreeclassifier__min_samples_leaf': 10}\n"
          ],
          "name": "stdout"
        }
      ]
    },
    {
      "cell_type": "markdown",
      "metadata": {
        "id": "tzVKCl0tzW1T"
      },
      "source": [
        "파이프라인 모델의 결과 분석"
      ]
    },
    {
      "cell_type": "code",
      "metadata": {
        "colab": {
          "base_uri": "https://localhost:8080/"
        },
        "id": "mCHQpXp4zWNh",
        "outputId": "27d503bc-fff7-437b-c075-45c5b90609e4"
      },
      "source": [
        "from sklearn.metrics import confusion_matrix, classification_report\n",
        "\n",
        "best_tree = gs.best_estimator_\n",
        "best_tree.fit(X_train, y_train)\n",
        "y_pred = best_tree.predict(X_test)\n",
        "\n",
        "print('Classification Report')\n",
        "print(classification_report(y_test, y_pred))"
      ],
      "execution_count": null,
      "outputs": [
        {
          "output_type": "stream",
          "text": [
            "Classification Report\n",
            "              precision    recall  f1-score   support\n",
            "\n",
            "           0       0.99      0.99      0.99      1356\n",
            "           1       0.93      0.87      0.90       144\n",
            "\n",
            "    accuracy                           0.98      1500\n",
            "   macro avg       0.96      0.93      0.94      1500\n",
            "weighted avg       0.98      0.98      0.98      1500\n",
            "\n"
          ],
          "name": "stdout"
        }
      ]
    },
    {
      "cell_type": "markdown",
      "metadata": {
        "id": "ocDmuH21z9Ua"
      },
      "source": [
        "####3. 파이프라인: 표준화 + 주성분 분석 + 결정 트리"
      ]
    },
    {
      "cell_type": "code",
      "metadata": {
        "id": "JDf7XCy80d9v"
      },
      "source": [
        "from sklearn.preprocessing import StandardScaler\n",
        "from sklearn.decomposition import PCA\n",
        "from sklearn.tree import DecisionTreeClassifier\n",
        "from sklearn.pipeline import make_pipeline\n",
        "\n",
        "pipe_tree2 = make_pipeline(StandardScaler(), PCA(n_components = 10), DecisionTreeClassifier())"
      ],
      "execution_count": null,
      "outputs": []
    },
    {
      "cell_type": "markdown",
      "metadata": {
        "id": "f02i8dff02Qw"
      },
      "source": [
        "교차 검증"
      ]
    },
    {
      "cell_type": "code",
      "metadata": {
        "colab": {
          "base_uri": "https://localhost:8080/"
        },
        "id": "z95R5feR0zeW",
        "outputId": "c540bacd-f326-40d4-ab59-94400a6186de"
      },
      "source": [
        "from sklearn.model_selection import GridSearchCV\n",
        "\n",
        "param_range1 = [1, 2, 3, 4, 5, 6, 7, 8, 9, 10]\n",
        "param_range2 = [10, 20, 30, 40, 50]\n",
        "\n",
        "param_grid = [{'decisiontreeclassifier__max_depth': param_range1,\n",
        "               'decisiontreeclassifier__min_samples_leaf': param_range2}]\n",
        "\n",
        "gs = GridSearchCV(estimator = pipe_tree2, param_grid = param_grid, scoring = 'accuracy', cv = 10, n_jobs = -1)\n",
        "\n",
        "gs = gs.fit(X_train, y_train)\n",
        "\n",
        "print(gs.best_score_)\n",
        "print(gs.best_params_)"
      ],
      "execution_count": null,
      "outputs": [
        {
          "output_type": "stream",
          "text": [
            "0.9465714285714284\n",
            "{'decisiontreeclassifier__max_depth': 9, 'decisiontreeclassifier__min_samples_leaf': 10}\n"
          ],
          "name": "stdout"
        }
      ]
    },
    {
      "cell_type": "markdown",
      "metadata": {
        "id": "5IVdPOoA04nn"
      },
      "source": [
        "파이프라인 모델 결과 분석"
      ]
    },
    {
      "cell_type": "code",
      "metadata": {
        "colab": {
          "base_uri": "https://localhost:8080/"
        },
        "id": "aVC2qJ4S1PHt",
        "outputId": "898a8316-1e27-44d3-908e-de2538d70d44"
      },
      "source": [
        "from sklearn.metrics import confusion_matrix, classification_report\n",
        "\n",
        "best_tree = gs.best_estimator_\n",
        "best_tree.fit(X_train, y_train)\n",
        "y_pred = best_tree.predict(X_test)\n",
        "\n",
        "print('Classification Report')\n",
        "print(classification_report(y_test, y_pred))"
      ],
      "execution_count": null,
      "outputs": [
        {
          "output_type": "stream",
          "text": [
            "Classification Report\n",
            "              precision    recall  f1-score   support\n",
            "\n",
            "           0       0.96      0.98      0.97      1356\n",
            "           1       0.75      0.58      0.65       144\n",
            "\n",
            "    accuracy                           0.94      1500\n",
            "   macro avg       0.86      0.78      0.81      1500\n",
            "weighted avg       0.94      0.94      0.94      1500\n",
            "\n"
          ],
          "name": "stdout"
        }
      ]
    }
  ]
}