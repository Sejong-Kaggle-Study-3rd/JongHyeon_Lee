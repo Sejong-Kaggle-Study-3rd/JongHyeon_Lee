{
  "nbformat": 4,
  "nbformat_minor": 0,
  "metadata": {
    "colab": {
      "name": "04_로지스틱회귀분류",
      "provenance": []
    },
    "kernelspec": {
      "name": "python3",
      "display_name": "Python 3"
    }
  },
  "cells": [
    {
      "cell_type": "markdown",
      "metadata": {
        "id": "qImfwYqx69PC"
      },
      "source": [
        "##04_로지스틱회귀분류"
      ]
    },
    {
      "cell_type": "markdown",
      "metadata": {
        "id": "Fv7YDwpN8GX8"
      },
      "source": [
        "###1. 데이터셋 불러오기: seaborn 라이브러리"
      ]
    },
    {
      "cell_type": "code",
      "metadata": {
        "id": "oPfAlQVX4d6f"
      },
      "source": [
        "import seaborn as sns\r\n",
        "iris = sns.load_dataset('iris')\r\n",
        "\r\n",
        "X = iris.drop('species', axis = 1) # 'species'열 drop하고 input X를 정의\r\n",
        "y = iris['species']"
      ],
      "execution_count": null,
      "outputs": []
    },
    {
      "cell_type": "markdown",
      "metadata": {
        "id": "Eb31g8TF8Ozp"
      },
      "source": [
        "###2. 데이터 카테고리 실수화"
      ]
    },
    {
      "cell_type": "code",
      "metadata": {
        "id": "uXETYy0k7tEa"
      },
      "source": [
        "# y data를 범주형으로 전환\r\n",
        "from sklearn.preprocessing import LabelEncoder\r\n",
        "classle = LabelEncoder()\r\n",
        "y = classle.fit_transform(iris['species'].values) # species 열의 문자열을 categorical 값으로 전환"
      ],
      "execution_count": null,
      "outputs": []
    },
    {
      "cell_type": "markdown",
      "metadata": {
        "id": "Y_LG8kYl8tpJ"
      },
      "source": [
        "###3. 데이터 분할"
      ]
    },
    {
      "cell_type": "code",
      "metadata": {
        "id": "hFWQGyrr8rtM"
      },
      "source": [
        "from sklearn.model_selection import train_test_split\r\n",
        "X_train, X_test, y_train, y_test = train_test_split(X, y, test_size = 0.3, random_state = 1, stratify = y)"
      ],
      "execution_count": null,
      "outputs": []
    },
    {
      "cell_type": "markdown",
      "metadata": {
        "id": "_YIKyxmx9CZK"
      },
      "source": [
        "###4. 입력 데이터의 표준화"
      ]
    },
    {
      "cell_type": "code",
      "metadata": {
        "id": "x6s7yK3-9AUC"
      },
      "source": [
        "from sklearn.preprocessing import StandardScaler\r\n",
        "sc = StandardScaler()\r\n",
        "sc.fit(X_train)\r\n",
        "\r\n",
        "X_train_std = sc.transform(X_train)\r\n",
        "X_test_std = sc.transform(X_test)"
      ],
      "execution_count": null,
      "outputs": []
    },
    {
      "cell_type": "markdown",
      "metadata": {
        "id": "NkeAs5d79aFv"
      },
      "source": [
        "###5. 모델 추정: Logistic Regression"
      ]
    },
    {
      "cell_type": "code",
      "metadata": {
        "colab": {
          "base_uri": "https://localhost:8080/"
        },
        "id": "nJsEoy-w9X6W",
        "outputId": "b69e4ce4-8efa-4d01-9215-bc1bca46e438"
      },
      "source": [
        "from sklearn.linear_model import LogisticRegression\r\n",
        "Logit = LogisticRegression(C = 1e2, random_state = 1) # C = 1/λ, 디폴트: L2, One-versus-Rest\r\n",
        "Logit.fit(X_train, y_train)\r\n",
        "y_train_pred = Logit.predict(X_train)\r\n",
        "y_test_pred = Logit.predict(X_test)"
      ],
      "execution_count": null,
      "outputs": [
        {
          "output_type": "stream",
          "text": [
            "/usr/local/lib/python3.7/dist-packages/sklearn/linear_model/_logistic.py:940: ConvergenceWarning: lbfgs failed to converge (status=1):\n",
            "STOP: TOTAL NO. of ITERATIONS REACHED LIMIT.\n",
            "\n",
            "Increase the number of iterations (max_iter) or scale the data as shown in:\n",
            "    https://scikit-learn.org/stable/modules/preprocessing.html\n",
            "Please also refer to the documentation for alternative solver options:\n",
            "    https://scikit-learn.org/stable/modules/linear_model.html#logistic-regression\n",
            "  extra_warning_msg=_LOGISTIC_SOLVER_CONVERGENCE_MSG)\n"
          ],
          "name": "stderr"
        }
      ]
    },
    {
      "cell_type": "markdown",
      "metadata": {
        "id": "q5vXk2AwAAEb"
      },
      "source": [
        "###6. 결과 분석"
      ]
    },
    {
      "cell_type": "code",
      "metadata": {
        "colab": {
          "base_uri": "https://localhost:8080/"
        },
        "id": "FY-RP-yT-20M",
        "outputId": "971eb199-1614-4943-8119-8556bd77ba47"
      },
      "source": [
        "#정확도 계산\r\n",
        "from sklearn.metrics import accuracy_score\r\n",
        "print(accuracy_score(y_train, y_train_pred))\r\n",
        "print(accuracy_score(y_test, y_test_pred))\r\n",
        "\r\n",
        "#혼합 행렬 -> 오분류표 작성\r\n",
        "from sklearn.metrics import confusion_matrix\r\n",
        "print(confusion_matrix(y_test, y_test_pred))"
      ],
      "execution_count": null,
      "outputs": [
        {
          "output_type": "stream",
          "text": [
            "0.9809523809523809\n",
            "1.0\n",
            "[[15  0  0]\n",
            " [ 0 15  0]\n",
            " [ 0  0 15]]\n"
          ],
          "name": "stdout"
        }
      ]
    }
  ]
}