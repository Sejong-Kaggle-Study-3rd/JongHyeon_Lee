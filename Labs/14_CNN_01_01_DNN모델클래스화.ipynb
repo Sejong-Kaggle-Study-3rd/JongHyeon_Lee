{
  "nbformat": 4,
  "nbformat_minor": 0,
  "metadata": {
    "colab": {
      "name": "14_CNN_01_DNN모델클래스화",
      "provenance": [],
      "collapsed_sections": []
    },
    "kernelspec": {
      "name": "python3",
      "display_name": "Python 3"
    },
    "language_info": {
      "name": "python"
    },
    "accelerator": "GPU"
  },
  "cells": [
    {
      "cell_type": "markdown",
      "metadata": {
        "id": "xKoluxwWOPeO"
      },
      "source": [
        "#14_CNN_DNN모델클래스화"
      ]
    },
    {
      "cell_type": "markdown",
      "metadata": {
        "id": "jp0Wmd6BbyB5"
      },
      "source": [
        "###ML 라이브러리: Pytorch(GPU)"
      ]
    },
    {
      "cell_type": "code",
      "metadata": {
        "id": "A2sNrk6DNEzF"
      },
      "source": [
        "import torch\n",
        "import torchvision.datasets as data\n",
        "import torchvision.transforms as transforms\n",
        "import random"
      ],
      "execution_count": null,
      "outputs": []
    },
    {
      "cell_type": "markdown",
      "metadata": {
        "id": "YEpDQzcqclib"
      },
      "source": [
        "GPU 사용을 명시적으로 보여주기 & Random Seed 고정하기"
      ]
    },
    {
      "cell_type": "code",
      "metadata": {
        "id": "f6VxUA9Lid6e"
      },
      "source": [
        "device = 'cuda' if torch.cuda.is_available() else 'cpu'\n",
        "\n",
        "random.seed(777)\n",
        "torch.manual_seed(777)\n",
        "if device == 'cuda':\n",
        "  torch.cuda.manual_seed_all(777)"
      ],
      "execution_count": null,
      "outputs": []
    },
    {
      "cell_type": "markdown",
      "metadata": {
        "id": "Ii39sjb4cnt5"
      },
      "source": [
        "학습 파라미터 설정"
      ]
    },
    {
      "cell_type": "code",
      "metadata": {
        "id": "_-5R9AS6i5vL"
      },
      "source": [
        "learning_rate = 0.001\n",
        "training_epochs = 15\n",
        "batch_size = 100"
      ],
      "execution_count": null,
      "outputs": []
    },
    {
      "cell_type": "markdown",
      "metadata": {
        "id": "ZcN3aMjvd3Rm"
      },
      "source": [
        "##1. 데이터셋 불러오기"
      ]
    },
    {
      "cell_type": "code",
      "metadata": {
        "id": "svMY5jXujEr8"
      },
      "source": [
        "mnist_train = data.MNIST(root = 'MNIST_data/', train = True, transform = transforms.ToTensor(), download = True)\n",
        "\n",
        "mnist_test = data.MNIST(root = 'MNIST_data/', train = False, transform = transforms.ToTensor(), download = True)"
      ],
      "execution_count": null,
      "outputs": []
    },
    {
      "cell_type": "markdown",
      "metadata": {
        "id": "6983BNuSlaVh"
      },
      "source": [
        "DataLoader: 데이터를 알맞게 나눠준다"
      ]
    },
    {
      "cell_type": "code",
      "metadata": {
        "id": "IS_XUGU4jdKa"
      },
      "source": [
        "data_loader = torch.utils.data.DataLoader(dataset = mnist_train, batch_size = batch_size, shuffle = True, drop_last = True)\n",
        "#dataset = mnist_train: 처리할 데이터\n",
        "#batch_size = batch_size: batch_size만큼씩 데이터를 잘라러 준다\n",
        "#shuffle = True: 데이터를 섞는다\n",
        "#drop_last: 모든 데이터 개수 % batch_size > 0 일 때 나머지 데이터를 버린다"
      ],
      "execution_count": null,
      "outputs": []
    },
    {
      "cell_type": "markdown",
      "metadata": {
        "id": "OyWTncPzhidk"
      },
      "source": [
        "##5. 모델 추정"
      ]
    },
    {
      "cell_type": "markdown",
      "metadata": {
        "id": "fHPwlzXg0DQ0"
      },
      "source": [
        "###모델 정의: DNN 모델 클래스화"
      ]
    },
    {
      "cell_type": "markdown",
      "metadata": {
        "id": "O3tSAQH3PPpa"
      },
      "source": [
        "DNN 모델 클래스화"
      ]
    },
    {
      "cell_type": "code",
      "metadata": {
        "id": "7ydKe9Vg0Jtj"
      },
      "source": [
        "class NN(torch.nn.Module):\n",
        "    #모델의 구조와 동작을 정의하는 생성자(객체가 생성될때 호출)\n",
        "    def __init__(self):\n",
        "        #super()함수를 부르면 여기서 만든 클래스는 nn.Module 클래스의 속성을 가지고 초기화된다\n",
        "        super(NN, self).__init__()\n",
        "        \n",
        "        #NN Layer & ReLU\n",
        "        self.linear1 = torch.nn.Linear(784, 512, bias = True)\n",
        "        self.linear2 = torch.nn.Linear(512, 512, bias = True)\n",
        "        self.linear3 = torch.nn.Linear(512, 512, bias = True)\n",
        "        self.linear4 = torch.nn.Linear(512, 512, bias = True)\n",
        "        self.linear5 = torch.nn.Linear(512, 10, bias = True)\n",
        "        self.relu = torch.nn.ReLU()\n",
        "\n",
        "        #Weight Initialization: Xavier Init\n",
        "        torch.nn.init.xavier_uniform_(self.linear1.weight)\n",
        "        torch.nn.init.xavier_uniform_(self.linear2.weight)\n",
        "        torch.nn.init.xavier_uniform_(self.linear3.weight)\n",
        "        torch.nn.init.xavier_uniform_(self.linear4.weight)\n",
        "        torch.nn.init.xavier_uniform_(self.linear5.weight)\n",
        "    \n",
        "    #forward() 함수는 모델이 학습데이터를 입력 받아서 forward 연산을 진행시키는 함수\n",
        "    #torch.nn.Squential()과 유사\n",
        "    #이 함수는 모델 객체를 데이터와 함께 호출하면 자동으로 실행된다\n",
        "    # ex. model이란 이름의 객체를 생성하고 model(입력 데이터)와 같은 형식으로 객체를 호출하면 자동으로 forward 연산이 수행된다\n",
        "    #H(x) 식에서 입력 x로부터 예측된 y를 얻는 것을 forward 연산이라고 한다\n",
        "    def forward(self, x):\n",
        "        out = self.linear1(x)\n",
        "        out = self.relu(out)\n",
        "        out = self.linear2(out)\n",
        "        out = self.relu(out)\n",
        "        out = self.linear3(out)\n",
        "        out = self.relu(out)\n",
        "        out = self.linear4(out)\n",
        "        out = self.relu(out)\n",
        "        out = self.linear5(out)\n",
        "        return out"
      ],
      "execution_count": null,
      "outputs": []
    },
    {
      "cell_type": "markdown",
      "metadata": {
        "id": "yhifnu4MPTBv"
      },
      "source": [
        "DNN 모델 클래스 호출"
      ]
    },
    {
      "cell_type": "code",
      "metadata": {
        "id": "R3XjdMvvPMqG"
      },
      "source": [
        "#NN() 클래스를 호출하여 model 정의\n",
        "model = NN().to(device)"
      ],
      "execution_count": null,
      "outputs": []
    },
    {
      "cell_type": "markdown",
      "metadata": {
        "id": "MK5JMQ_Ti2QG"
      },
      "source": [
        "###모델 학습"
      ]
    },
    {
      "cell_type": "markdown",
      "metadata": {
        "id": "YrdiSU_IPW07"
      },
      "source": [
        "Cross Entropy Loss & Adam Optimizer"
      ]
    },
    {
      "cell_type": "code",
      "metadata": {
        "id": "DqLd4LgGOgpA"
      },
      "source": [
        "loss = torch.nn.CrossEntropyLoss().to(device)\n",
        "optimizer = torch.optim.Adam(model.parameters(), lr = learning_rate)"
      ],
      "execution_count": null,
      "outputs": []
    },
    {
      "cell_type": "code",
      "metadata": {
        "colab": {
          "base_uri": "https://localhost:8080/"
        },
        "id": "zFJh3RzaP9lZ",
        "outputId": "034854b5-f312-4e5a-d666-9bf6245d8c39"
      },
      "source": [
        "total_batch = len(data_loader)\n",
        "\n",
        "for epoch in range(training_epochs):\n",
        "    avg_cost = 0\n",
        "\n",
        "    for X, Y in data_loader: #앞에서 알맞게 나눠둔 데이터를 X, Y에 넣어준다\n",
        "\n",
        "        # (mini batch_size, 1, 가로, 세로)\n",
        "        # (100, 1, 28, 28) 크기의 텐서를 (1000, 28*28) 크기의 텐서로 바꿔준다\n",
        "        X= X.view(-1, 28 * 28).to(device) # 2D 데이터를 1D 데이터로 눌러준다\n",
        "        # One-hot Encoding되어 있지 않다\n",
        "        Y = Y.to(device)\n",
        "\n",
        "        # Gradient Initialization\n",
        "        optimizer.zero_grad()\n",
        "\n",
        "        # Forward 계산\n",
        "        hypothesis = model(X)\n",
        "\n",
        "        # Cost : Error 계산\n",
        "        cost = loss(hypothesis, Y)\n",
        "\n",
        "        # Backpropagation\n",
        "        cost.backward()\n",
        "\n",
        "        # Cost로 가중치(W, b) 갱신\n",
        "        optimizer.step()\n",
        "\n",
        "        # 평균 Error 계산\n",
        "        avg_cost += cost / total_batch\n",
        "\n",
        "    print('Epoch:', '%04d' % (epoch + 1), 'cost =', '{:.9f}'.format(avg_cost))\n",
        "\n",
        "print('Learning Finished')"
      ],
      "execution_count": null,
      "outputs": [
        {
          "output_type": "stream",
          "text": [
            "Epoch: 0001 cost = 0.211102009\n",
            "Epoch: 0002 cost = 0.091821641\n",
            "Epoch: 0003 cost = 0.063954882\n",
            "Epoch: 0004 cost = 0.050993722\n",
            "Epoch: 0005 cost = 0.041720200\n",
            "Epoch: 0006 cost = 0.036938973\n",
            "Epoch: 0007 cost = 0.030179033\n",
            "Epoch: 0008 cost = 0.022753322\n",
            "Epoch: 0009 cost = 0.024053456\n",
            "Epoch: 0010 cost = 0.022215230\n",
            "Epoch: 0011 cost = 0.019339055\n",
            "Epoch: 0012 cost = 0.015723050\n",
            "Epoch: 0013 cost = 0.020411827\n",
            "Epoch: 0014 cost = 0.018291520\n",
            "Epoch: 0015 cost = 0.013467304\n",
            "Learning Finished\n"
          ],
          "name": "stdout"
        }
      ]
    },
    {
      "cell_type": "markdown",
      "metadata": {
        "id": "SJa85CjapKpl"
      },
      "source": [
        "##6. 결과 분석"
      ]
    },
    {
      "cell_type": "markdown",
      "metadata": {
        "id": "rBb3hhItqQ-m"
      },
      "source": [
        "Accuracy"
      ]
    },
    {
      "cell_type": "code",
      "metadata": {
        "id": "7AUjKOSXpJ6s",
        "colab": {
          "base_uri": "https://localhost:8080/"
        },
        "outputId": "2fcaeae0-c68f-4795-a9ec-601731966258"
      },
      "source": [
        "#앞서 모델 학습 과정에서는 required_grad = True로 되어있어 학습 중임을 나타낸다\n",
        "#False는 학습 중이 아님을, 모델 평가 중임을 나타낸다\n",
        "\n",
        "with torch.no_grad(): #임시로 required_grad = False로 설정하는 것과 같다\n",
        "\n",
        "  X_test = mnist_test.test_data.view(-1, 28 * 28).float().to(device)\n",
        "  Y_test = mnist_test.test_labels.to(device)\n",
        "\n",
        "  prediction = model(X_test)\n",
        "\n",
        "  correct_prediction = torch.argmax(prediction, 1) == Y_test\n",
        "\n",
        "  accuracy = correct_prediction.float().mean()\n",
        "\n",
        "  print('Accuracy:', accuracy.item())"
      ],
      "execution_count": null,
      "outputs": [
        {
          "output_type": "stream",
          "text": [
            "Accuracy: 0.9807999730110168\n"
          ],
          "name": "stdout"
        },
        {
          "output_type": "stream",
          "text": [
            "/usr/local/lib/python3.7/dist-packages/torchvision/datasets/mnist.py:69: UserWarning: test_data has been renamed data\n",
            "  warnings.warn(\"test_data has been renamed data\")\n",
            "/usr/local/lib/python3.7/dist-packages/torchvision/datasets/mnist.py:59: UserWarning: test_labels has been renamed targets\n",
            "  warnings.warn(\"test_labels has been renamed targets\")\n"
          ],
          "name": "stderr"
        }
      ]
    },
    {
      "cell_type": "markdown",
      "metadata": {
        "id": "OpE3pqifqS7p"
      },
      "source": [
        "Random Test: 한 데이터만"
      ]
    },
    {
      "cell_type": "code",
      "metadata": {
        "id": "s_qTZSJgqNfG",
        "colab": {
          "base_uri": "https://localhost:8080/"
        },
        "outputId": "6935c6f5-8100-4853-8d56-b9a46d523ae3"
      },
      "source": [
        "r = random.randint(0, len(mnist_test) - 1)\n",
        "X_single_data = mnist_test.test_data[r:r + 1].view(-1, 28 * 28).float().to(device)\n",
        "Y_single_data = mnist_test.test_labels[r:r + 1].to(device)\n",
        "\n",
        "print('Label: ', Y_single_data.item())\n",
        "single_prediction = model(X_single_data)\n",
        "print('Prediction: ', torch.argmax(single_prediction, 1).item())"
      ],
      "execution_count": null,
      "outputs": [
        {
          "output_type": "stream",
          "text": [
            "Label:  8\n",
            "Prediction:  8\n"
          ],
          "name": "stdout"
        },
        {
          "output_type": "stream",
          "text": [
            "/usr/local/lib/python3.7/dist-packages/torchvision/datasets/mnist.py:69: UserWarning: test_data has been renamed data\n",
            "  warnings.warn(\"test_data has been renamed data\")\n",
            "/usr/local/lib/python3.7/dist-packages/torchvision/datasets/mnist.py:59: UserWarning: test_labels has been renamed targets\n",
            "  warnings.warn(\"test_labels has been renamed targets\")\n"
          ],
          "name": "stderr"
        }
      ]
    },
    {
      "cell_type": "markdown",
      "metadata": {
        "id": "cmnZcqMHqnLK"
      },
      "source": [
        "Random Test한 데이터 시각화하기"
      ]
    },
    {
      "cell_type": "code",
      "metadata": {
        "colab": {
          "base_uri": "https://localhost:8080/",
          "height": 283
        },
        "id": "CbowjGKZSAne",
        "outputId": "2a835bfb-3ac3-4ffe-af96-8f1da12a9ac7"
      },
      "source": [
        "import matplotlib.pyplot as plt\n",
        "plt.imshow(X_single_data.reshape(28,28).cpu()) # 1D -> 2D\n",
        "print(Y_single_data)"
      ],
      "execution_count": null,
      "outputs": [
        {
          "output_type": "stream",
          "text": [
            "tensor([8], device='cuda:0')\n"
          ],
          "name": "stdout"
        },
        {
          "output_type": "display_data",
          "data": {
            "image/png": "[encoded data removed]",
            "text/plain": [
              "<Figure size 432x288 with 1 Axes>"
            ]
          },
          "metadata": {
            "tags": [],
            "needs_background": "light"
          }
        }
      ]
    }
  ]
}