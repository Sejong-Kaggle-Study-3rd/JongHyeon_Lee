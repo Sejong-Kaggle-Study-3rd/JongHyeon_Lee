{
  "nbformat": 4,
  "nbformat_minor": 0,
  "metadata": {
    "colab": {
      "name": "13_뉴럴네트워크_02_NN_03_MLP 확장(더 깊고 넓게)",
      "provenance": [],
      "collapsed_sections": []
    },
    "kernelspec": {
      "name": "python3",
      "display_name": "Python 3"
    },
    "language_info": {
      "name": "python"
    }
  },
  "cells": [
    {
      "cell_type": "markdown",
      "metadata": {
        "id": "BpV9Ms6pp_he"
      },
      "source": [
        "#NN_MLP(Multi-Layered Perceptron) & XOR"
      ]
    },
    {
      "cell_type": "markdown",
      "metadata": {
        "id": "rZeebh6CqViW"
      },
      "source": [
        "###ML 라이브러리: PyTorch(CPU 모드)"
      ]
    },
    {
      "cell_type": "code",
      "metadata": {
        "colab": {
          "base_uri": "https://localhost:8080/"
        },
        "id": "uLYKJNUGX3Cf",
        "outputId": "26cfc05c-7861-4ae1-fc62-b93b5ba00eed"
      },
      "source": [
        "import torch\n",
        "\n",
        "torch.manual_seed(777)"
      ],
      "execution_count": null,
      "outputs": [
        {
          "output_type": "execute_result",
          "data": {
            "text/plain": [
              "<torch._C.Generator at 0x7f3ee19cf8b0>"
            ]
          },
          "metadata": {
            "tags": []
          },
          "execution_count": 2
        }
      ]
    },
    {
      "cell_type": "markdown",
      "metadata": {
        "id": "b2F9ieZhqtkP"
      },
      "source": [
        "##1. 데이터셋 불러오기"
      ]
    },
    {
      "cell_type": "code",
      "metadata": {
        "id": "ZMtIPbwqqnnv"
      },
      "source": [
        "X = torch.FloatTensor([[0, 0], [0, 1], [1, 0], [1, 1]])\n",
        "Y= torch.FloatTensor([[0], [1], [1], [0]])"
      ],
      "execution_count": null,
      "outputs": []
    },
    {
      "cell_type": "code",
      "metadata": {
        "colab": {
          "base_uri": "https://localhost:8080/"
        },
        "id": "HdmMiYSVq-SQ",
        "outputId": "b171ff01-804c-42cf-b1a4-837b49f4cb4b"
      },
      "source": [
        "X"
      ],
      "execution_count": null,
      "outputs": [
        {
          "output_type": "execute_result",
          "data": {
            "text/plain": [
              "tensor([[0., 0.],\n",
              "        [0., 1.],\n",
              "        [1., 0.],\n",
              "        [1., 1.]])"
            ]
          },
          "metadata": {
            "tags": []
          },
          "execution_count": 4
        }
      ]
    },
    {
      "cell_type": "code",
      "metadata": {
        "colab": {
          "base_uri": "https://localhost:8080/"
        },
        "id": "r-xLy1xHrKR8",
        "outputId": "cef93890-f915-47f8-e1d0-9eadcff76895"
      },
      "source": [
        "Y"
      ],
      "execution_count": null,
      "outputs": [
        {
          "output_type": "execute_result",
          "data": {
            "text/plain": [
              "tensor([[0.],\n",
              "        [1.],\n",
              "        [1.],\n",
              "        [0.]])"
            ]
          },
          "metadata": {
            "tags": []
          },
          "execution_count": 5
        }
      ]
    },
    {
      "cell_type": "markdown",
      "metadata": {
        "id": "gwNRWXd9rM9b"
      },
      "source": [
        "##5. 모델 추정"
      ]
    },
    {
      "cell_type": "markdown",
      "metadata": {
        "id": "jLhcZtKprSq3"
      },
      "source": [
        "###NN 모델 정의"
      ]
    },
    {
      "cell_type": "markdown",
      "metadata": {
        "id": "NgNyrSCvziQE"
      },
      "source": [
        "더 깊고 넓게 만들기\n",
        "  - 깊게 = 은닉층 늘리기(모델의 가로)\n",
        "  - 넓게 = feature 개수 늘리기(모델의 세로)"
      ]
    },
    {
      "cell_type": "code",
      "metadata": {
        "id": "kh8lPkDwrSBf"
      },
      "source": [
        "linear1 = torch.nn.Linear(2, 10, bias = True) # + sigmoid: 첫번째 레이어\n",
        "linear2 = torch.nn.Linear(10, 10, bias = True) # + sigmoid: 두번째 레이어\n",
        "linear3 = torch.nn.Linear(10, 10, bias = True) # + sigmoid: 세번째 레이어\n",
        "linear4 = torch.nn.Linear(10, 1, bias = True) # + sigmoid: 네번째 레이어\n",
        "sigmoid = torch.nn.Sigmoid()"
      ],
      "execution_count": null,
      "outputs": []
    },
    {
      "cell_type": "code",
      "metadata": {
        "id": "_tbD9LKYrq9l"
      },
      "source": [
        "# layer(linear + sigmoid) 연결(순서 중요!!!)\n",
        "model = torch.nn.Sequential(linear1, sigmoid, linear2, sigmoid, linear3, sigmoid, linear4, sigmoid)"
      ],
      "execution_count": null,
      "outputs": []
    },
    {
      "cell_type": "code",
      "metadata": {
        "colab": {
          "base_uri": "https://localhost:8080/"
        },
        "id": "fRgmSGaysPj2",
        "outputId": "72ac012f-fc32-4395-dc7f-cc4f032a85ef"
      },
      "source": [
        "model"
      ],
      "execution_count": null,
      "outputs": [
        {
          "output_type": "execute_result",
          "data": {
            "text/plain": [
              "Sequential(\n",
              "  (0): Linear(in_features=2, out_features=10, bias=True)\n",
              "  (1): Sigmoid()\n",
              "  (2): Linear(in_features=10, out_features=10, bias=True)\n",
              "  (3): Sigmoid()\n",
              "  (4): Linear(in_features=10, out_features=10, bias=True)\n",
              "  (5): Sigmoid()\n",
              "  (6): Linear(in_features=10, out_features=1, bias=True)\n",
              "  (7): Sigmoid()\n",
              ")"
            ]
          },
          "metadata": {
            "tags": []
          },
          "execution_count": 8
        }
      ]
    },
    {
      "cell_type": "markdown",
      "metadata": {
        "id": "6myTnSkSsiC7"
      },
      "source": [
        "###모델 학습"
      ]
    },
    {
      "cell_type": "markdown",
      "metadata": {
        "id": "Bgbbu2JCsxSv"
      },
      "source": [
        "모델 학습의 환경설정: Loss Function과 Optimizer 결정"
      ]
    },
    {
      "cell_type": "code",
      "metadata": {
        "id": "Wzxyvfhvsgvd"
      },
      "source": [
        "loss = torch.nn.BCELoss() # Binary Cross Entropy Loss\n",
        "optimizer = torch.optim.SGD(model.parameters(), lr = 1)"
      ],
      "execution_count": null,
      "outputs": []
    },
    {
      "cell_type": "code",
      "metadata": {
        "colab": {
          "base_uri": "https://localhost:8080/"
        },
        "id": "OjjDH4sOtLq9",
        "outputId": "e6a57ea8-3ae7-4aa8-87b0-78aa12800f67"
      },
      "source": [
        "for epoch in range(10000):\n",
        "\n",
        "  #Gradient Initialization\n",
        "  optimizer.zero_grad()\n",
        "\n",
        "  #Forward 계산\n",
        "  hypothesis = model(X)\n",
        "\n",
        "  #Cost: Error 계산\n",
        "  cost = loss(hypothesis, Y)\n",
        "\n",
        "  #Backpropagation\n",
        "  cost.backward()\n",
        "\n",
        "  #Cost로 가중치(W, b) 갱신\n",
        "  optimizer.step()\n",
        "\n",
        "  #100번마다 갱신 상황 출력\n",
        "  if epoch % 100 == 0:\n",
        "    print(epoch, cost.item())"
      ],
      "execution_count": null,
      "outputs": [
        {
          "output_type": "stream",
          "text": [
            "0 0.6948983669281006\n",
            "100 0.693155825138092\n",
            "200 0.6931535601615906\n",
            "300 0.6931513547897339\n",
            "400 0.693149209022522\n",
            "500 0.6931473016738892\n",
            "600 0.6931453943252563\n",
            "700 0.6931434273719788\n",
            "800 0.6931416988372803\n",
            "900 0.6931397914886475\n",
            "1000 0.6931380033493042\n",
            "1100 0.6931361556053162\n",
            "1200 0.6931343078613281\n",
            "1300 0.6931324005126953\n",
            "1400 0.6931304931640625\n",
            "1500 0.6931284666061401\n",
            "1600 0.6931264400482178\n",
            "1700 0.6931242942810059\n",
            "1800 0.6931220889091492\n",
            "1900 0.6931197047233582\n",
            "2000 0.6931172013282776\n",
            "2100 0.6931145191192627\n",
            "2200 0.6931115984916687\n",
            "2300 0.6931084394454956\n",
            "2400 0.6931051015853882\n",
            "2500 0.6931014657020569\n",
            "2600 0.6930974721908569\n",
            "2700 0.6930930018424988\n",
            "2800 0.6930879950523376\n",
            "2900 0.6930825114250183\n",
            "3000 0.6930763721466064\n",
            "3100 0.6930692195892334\n",
            "3200 0.6930612325668335\n",
            "3300 0.6930519342422485\n",
            "3400 0.6930410861968994\n",
            "3500 0.6930283904075623\n",
            "3600 0.6930132508277893\n",
            "3700 0.6929951310157776\n",
            "3800 0.6929728984832764\n",
            "3900 0.6929453015327454\n",
            "4000 0.6929103136062622\n",
            "4100 0.6928649544715881\n",
            "4200 0.6928046941757202\n",
            "4300 0.6927220225334167\n",
            "4400 0.6926040649414062\n",
            "4500 0.6924278736114502\n",
            "4600 0.6921480298042297\n",
            "4700 0.6916665434837341\n",
            "4800 0.6907395124435425\n",
            "4900 0.6886203289031982\n",
            "5000 0.682081937789917\n",
            "5100 0.6472537517547607\n",
            "5200 0.44976046681404114\n",
            "5300 0.04149127006530762\n",
            "5400 0.009744600392878056\n",
            "5500 0.005037061870098114\n",
            "5600 0.0032973974011838436\n",
            "5700 0.0024167709052562714\n",
            "5800 0.0018920635338872671\n",
            "5900 0.0015465316828340292\n",
            "6000 0.0013030901318416\n",
            "6100 0.0011229325318709016\n",
            "6200 0.000984618323855102\n",
            "6300 0.0008753174915909767\n",
            "6400 0.0007868925458751619\n",
            "6500 0.000713969231583178\n",
            "6600 0.0006529059028252959\n",
            "6700 0.0006009864155203104\n",
            "6800 0.0005564201856032014\n",
            "6900 0.0005177004495635629\n",
            "7000 0.0004838572640437633\n",
            "7100 0.00045396597124636173\n",
            "7200 0.0004273999948054552\n",
            "7300 0.00040363732841797173\n",
            "7400 0.0003823051229119301\n",
            "7500 0.00036301559885032475\n",
            "7600 0.00034545559901744127\n",
            "7700 0.00032949086744338274\n",
            "7800 0.00031486799707636237\n",
            "7900 0.0003014377725776285\n",
            "8000 0.00028906602528877556\n",
            "8100 0.0002776334877125919\n",
            "8200 0.0002670357935130596\n",
            "8300 0.00025716854725033045\n",
            "8400 0.00024801684776321054\n",
            "8500 0.00023941672407090664\n",
            "8600 0.000231397949391976\n",
            "8700 0.00022388600336853415\n",
            "8800 0.00021680633653886616\n",
            "8900 0.0002101440477417782\n",
            "9000 0.00020386932010296732\n",
            "9100 0.00019793742103502154\n",
            "9200 0.00019234837964177132\n",
            "9300 0.00018699780048336834\n",
            "9400 0.00018197516328655183\n",
            "9500 0.0001772208051988855\n",
            "9600 0.00017267513612750918\n",
            "9700 0.0001683679292909801\n",
            "9800 0.00016422469343524426\n",
            "9900 0.00016030504775699228\n"
          ],
          "name": "stdout"
        }
      ]
    },
    {
      "cell_type": "markdown",
      "metadata": {
        "id": "tQ18un1juhEO"
      },
      "source": [
        "##6. 결과 분석"
      ]
    },
    {
      "cell_type": "code",
      "metadata": {
        "colab": {
          "base_uri": "https://localhost:8080/"
        },
        "id": "AvoP2arbuevf",
        "outputId": "82a2069e-2d57-4814-934d-2eb2aa3a38e2"
      },
      "source": [
        "#앞서 모델 학습 과정에서는 required_grad = True로 되어있어 학습 중임을 나타낸다\n",
        "#False는 학습 중이 아님을, 모델 평가 중임을 나타낸다\n",
        "\n",
        "with torch.no_grad(): #임시로 required_grad = False로 설정하는 것과 같다\n",
        "\n",
        "  hypothesis = model(X)\n",
        "  predicted = (hypothesis > 0.5).float()\n",
        "  accuracy = (predicted == Y).float().mean()\n",
        "  \n",
        "  print('\\n Hypothesis: ', hypothesis.numpy(), '\\n Correct: ', predicted.numpy(), '\\n Accuracy: ', accuracy.item())\n"
      ],
      "execution_count": null,
      "outputs": [
        {
          "output_type": "stream",
          "text": [
            "\n",
            " Hypothesis:  [[1.1174288e-04]\n",
            " [9.9982870e-01]\n",
            " [9.9984229e-01]\n",
            " [1.8539377e-04]] \n",
            " Correct:  [[0.]\n",
            " [1.]\n",
            " [1.]\n",
            " [0.]] \n",
            " Accuracy:  1.0\n"
          ],
          "name": "stdout"
        }
      ]
    },
    {
      "cell_type": "markdown",
      "metadata": {
        "id": "VMV0f8V0xpnR"
      },
      "source": [
        "모델을 더 깊고 더 넓게 만들수록 모델의 성능이 향상된다"
      ]
    }
  ]
}