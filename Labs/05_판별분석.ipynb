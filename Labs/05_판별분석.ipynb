{
  "nbformat": 4,
  "nbformat_minor": 0,
  "metadata": {
    "colab": {
      "name": "05_판별분석",
      "provenance": [],
      "collapsed_sections": []
    },
    "kernelspec": {
      "name": "python3",
      "display_name": "Python 3"
    }
  },
  "cells": [
    {
      "cell_type": "markdown",
      "metadata": {
        "id": "X0plREx1A3QL"
      },
      "source": [
        "##05_판별분석"
      ]
    },
    {
      "cell_type": "markdown",
      "metadata": {
        "id": "pBM9m4TwA79t"
      },
      "source": [
        "###1. 데이터셋 불러오기"
      ]
    },
    {
      "cell_type": "code",
      "metadata": {
        "id": "TYOV8-DQAE2c"
      },
      "source": [
        "import seaborn as sns\r\n",
        "iris = sns.load_dataset('iris')\r\n",
        "X = iris.drop('species', axis = 1) # 'species'열을 drop하고 특성변수 X를 정의한다\r\n",
        "y_ = iris['species'] #'species'열을 label y로 정의한다"
      ],
      "execution_count": null,
      "outputs": []
    },
    {
      "cell_type": "code",
      "metadata": {
        "colab": {
          "base_uri": "https://localhost:8080/",
          "height": 204
        },
        "id": "0fqUenSBCctW",
        "outputId": "34c82b3f-2c8c-44c5-e8ef-2c588a72afe5"
      },
      "source": [
        "X.head()"
      ],
      "execution_count": null,
      "outputs": [
        {
          "output_type": "execute_result",
          "data": {
            "text/html": [
              "<div>\n",
              "<style scoped>\n",
              "    .dataframe tbody tr th:only-of-type {\n",
              "        vertical-align: middle;\n",
              "    }\n",
              "\n",
              "    .dataframe tbody tr th {\n",
              "        vertical-align: top;\n",
              "    }\n",
              "\n",
              "    .dataframe thead th {\n",
              "        text-align: right;\n",
              "    }\n",
              "</style>\n",
              "<table border=\"1\" class=\"dataframe\">\n",
              "  <thead>\n",
              "    <tr style=\"text-align: right;\">\n",
              "      <th></th>\n",
              "      <th>sepal_length</th>\n",
              "      <th>sepal_width</th>\n",
              "      <th>petal_length</th>\n",
              "      <th>petal_width</th>\n",
              "    </tr>\n",
              "  </thead>\n",
              "  <tbody>\n",
              "    <tr>\n",
              "      <th>0</th>\n",
              "      <td>5.1</td>\n",
              "      <td>3.5</td>\n",
              "      <td>1.4</td>\n",
              "      <td>0.2</td>\n",
              "    </tr>\n",
              "    <tr>\n",
              "      <th>1</th>\n",
              "      <td>4.9</td>\n",
              "      <td>3.0</td>\n",
              "      <td>1.4</td>\n",
              "      <td>0.2</td>\n",
              "    </tr>\n",
              "    <tr>\n",
              "      <th>2</th>\n",
              "      <td>4.7</td>\n",
              "      <td>3.2</td>\n",
              "      <td>1.3</td>\n",
              "      <td>0.2</td>\n",
              "    </tr>\n",
              "    <tr>\n",
              "      <th>3</th>\n",
              "      <td>4.6</td>\n",
              "      <td>3.1</td>\n",
              "      <td>1.5</td>\n",
              "      <td>0.2</td>\n",
              "    </tr>\n",
              "    <tr>\n",
              "      <th>4</th>\n",
              "      <td>5.0</td>\n",
              "      <td>3.6</td>\n",
              "      <td>1.4</td>\n",
              "      <td>0.2</td>\n",
              "    </tr>\n",
              "  </tbody>\n",
              "</table>\n",
              "</div>"
            ],
            "text/plain": [
              "   sepal_length  sepal_width  petal_length  petal_width\n",
              "0           5.1          3.5           1.4          0.2\n",
              "1           4.9          3.0           1.4          0.2\n",
              "2           4.7          3.2           1.3          0.2\n",
              "3           4.6          3.1           1.5          0.2\n",
              "4           5.0          3.6           1.4          0.2"
            ]
          },
          "metadata": {
            "tags": []
          },
          "execution_count": 2
        }
      ]
    },
    {
      "cell_type": "code",
      "metadata": {
        "colab": {
          "base_uri": "https://localhost:8080/"
        },
        "id": "HZjzL3WgChoE",
        "outputId": "411aed29-ba9f-4eed-c6a5-c085364a278f"
      },
      "source": [
        "y_.head()"
      ],
      "execution_count": null,
      "outputs": [
        {
          "output_type": "execute_result",
          "data": {
            "text/plain": [
              "0    setosa\n",
              "1    setosa\n",
              "2    setosa\n",
              "3    setosa\n",
              "4    setosa\n",
              "Name: species, dtype: object"
            ]
          },
          "metadata": {
            "tags": []
          },
          "execution_count": 3
        }
      ]
    },
    {
      "cell_type": "markdown",
      "metadata": {
        "id": "XD8vN3pGBdIZ"
      },
      "source": [
        "###2. 데이터 카테고리 실수화"
      ]
    },
    {
      "cell_type": "code",
      "metadata": {
        "id": "ekVsmyL6Bceq"
      },
      "source": [
        "from sklearn.preprocessing import LabelEncoder\r\n",
        "classle = LabelEncoder()\r\n",
        "y = classle.fit_transform(iris['species'].values) # 'species'열의 문자형을 범주형으로 전환하기"
      ],
      "execution_count": null,
      "outputs": []
    },
    {
      "cell_type": "markdown",
      "metadata": {
        "id": "sgUiWvQjB3mn"
      },
      "source": [
        "###3. 데이터 분할"
      ]
    },
    {
      "cell_type": "code",
      "metadata": {
        "id": "gX0OXYqoB2-G"
      },
      "source": [
        "from sklearn.model_selection import train_test_split\r\n",
        "X_train, X_test, y_train, y_test = train_test_split(X, y, test_size = 0.4, random_state = 123, stratify = y)"
      ],
      "execution_count": null,
      "outputs": []
    },
    {
      "cell_type": "markdown",
      "metadata": {
        "id": "Yrxg_t1rCM5y"
      },
      "source": [
        "###(생략) 4. 입력 데이터 표준화"
      ]
    },
    {
      "cell_type": "markdown",
      "metadata": {
        "id": "sucYo0FACxfa"
      },
      "source": [
        "###5. 모델 추정: LDA"
      ]
    },
    {
      "cell_type": "code",
      "metadata": {
        "id": "huU53bhBCKJX"
      },
      "source": [
        "from sklearn.discriminant_analysis import LinearDiscriminantAnalysis\r\n",
        "cld = LinearDiscriminantAnalysis(store_covariance = True)\r\n",
        "#cld = LinearDiscriminantAnalysis(n_components = 2, store_covariance = True)\r\n",
        "\r\n",
        "cld.fit(X_train, y_train)\r\n",
        "y_train_pred = cld.predict(X_train)\r\n",
        "y_test_pred = cld.predict(X_test)"
      ],
      "execution_count": null,
      "outputs": []
    },
    {
      "cell_type": "markdown",
      "metadata": {
        "id": "8mORkB9YDXoN"
      },
      "source": [
        "###6. 결과 분석"
      ]
    },
    {
      "cell_type": "code",
      "metadata": {
        "colab": {
          "base_uri": "https://localhost:8080/"
        },
        "id": "TDOpu_XcDXAV",
        "outputId": "d3435176-a23f-47b9-ae63-dba6cfff4913"
      },
      "source": [
        "#정확도 계산\r\n",
        "from sklearn.metrics import accuracy_score\r\n",
        "print(accuracy_score(y_train, y_train_pred))\r\n",
        "print(accuracy_score(y_test, y_test_pred))\r\n",
        "\r\n",
        "#분류 결과: 혼합행렬 -> 오분류표 작성\r\n",
        "from sklearn.metrics import confusion_matrix\r\n",
        "print(confusion_matrix(y_test, y_test_pred)) #각 행은 setosa, versicolor, virginica"
      ],
      "execution_count": null,
      "outputs": [
        {
          "output_type": "stream",
          "text": [
            "0.9777777777777777\n",
            "0.9833333333333333\n",
            "[[20  0  0]\n",
            " [ 0 19  1]\n",
            " [ 0  0 20]]\n"
          ],
          "name": "stdout"
        }
      ]
    },
    {
      "cell_type": "markdown",
      "metadata": {
        "id": "7htnl0wNEOh8"
      },
      "source": [
        "###5. 모델 추정: QDA"
      ]
    },
    {
      "cell_type": "code",
      "metadata": {
        "id": "BZf2XomxD_1T"
      },
      "source": [
        "from sklearn.discriminant_analysis import QuadraticDiscriminantAnalysis\r\n",
        "cqd = QuadraticDiscriminantAnalysis(store_covariance = True)\r\n",
        "\r\n",
        "cqd.fit(X_train, y_train)\r\n",
        "y_train_pred = cqd.predict(X_train)\r\n",
        "y_test_pred = cqd.predict(X_test)"
      ],
      "execution_count": null,
      "outputs": []
    },
    {
      "cell_type": "markdown",
      "metadata": {
        "id": "pErPwkgpEnBP"
      },
      "source": [
        "###6. 결과 분석"
      ]
    },
    {
      "cell_type": "code",
      "metadata": {
        "colab": {
          "base_uri": "https://localhost:8080/"
        },
        "id": "WBcHciNFEmZY",
        "outputId": "1af0e66e-23b6-4a4b-a375-b78bccdabc79"
      },
      "source": [
        "#정확도 계산\r\n",
        "from sklearn.metrics import accuracy_score\r\n",
        "print(accuracy_score(y_train, y_train_pred))\r\n",
        "print(accuracy_score(y_test, y_test_pred))\r\n",
        "\r\n",
        "#분류 결과: 혼합행렬 -> 오분류표 작성\r\n",
        "from sklearn.metrics import confusion_matrix\r\n",
        "print(confusion_matrix(y_test, y_test_pred)) #각 행은 setosa, versicolor, virginica"
      ],
      "execution_count": null,
      "outputs": [
        {
          "output_type": "stream",
          "text": [
            "0.9777777777777777\n",
            "0.9833333333333333\n",
            "[[20  0  0]\n",
            " [ 0 19  1]\n",
            " [ 0  0 20]]\n"
          ],
          "name": "stdout"
        }
      ]
    }
  ]
}