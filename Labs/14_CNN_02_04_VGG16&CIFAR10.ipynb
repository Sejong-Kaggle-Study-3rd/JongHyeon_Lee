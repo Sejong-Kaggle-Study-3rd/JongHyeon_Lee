{
  "nbformat": 4,
  "nbformat_minor": 0,
  "metadata": {
    "colab": {
      "name": "14_CNN_02_04_VGG16&CIFAR10",
      "provenance": [],
      "collapsed_sections": []
    },
    "kernelspec": {
      "name": "python3",
      "display_name": "Python 3"
    },
    "language_info": {
      "name": "python"
    }
  },
  "cells": [
    {
      "cell_type": "markdown",
      "metadata": {
        "id": "Ml9VveYqpk8P"
      },
      "source": [
        "#14_CNN_CNN&CIFAR10"
      ]
    },
    {
      "cell_type": "markdown",
      "metadata": {
        "id": "g8dma-vnk8Nw"
      },
      "source": [
        "###ML 라이브러리: Pytorch(GPU)"
      ]
    },
    {
      "cell_type": "code",
      "metadata": {
        "id": "gSmmAf-zpJZW"
      },
      "source": [
        "import torch\n",
        "import torchvision\n",
        "import torchvision.transforms as transforms\n",
        "import torch.optim as optim\n",
        "import time\n",
        "import torch.nn.functional as F\n",
        "import torch.nn as nn\n",
        "import matplotlib.pyplot as plt\n",
        " \n",
        "from torchvision import models"
      ],
      "execution_count": null,
      "outputs": []
    },
    {
      "cell_type": "markdown",
      "metadata": {
        "id": "YEpDQzcqclib"
      },
      "source": [
        "GPU 사용을 명시적으로 보여주기 & Random Seed 고정하기"
      ]
    },
    {
      "cell_type": "code",
      "metadata": {
        "id": "Svsgn6LrZCcP"
      },
      "source": [
        "device = 'cuda' if torch.cuda.is_available() else 'cpu'\n",
        "\n",
        "torch.manual_seed(777)\n",
        "if device == 'cuda':\n",
        "    torch.cuda.manual_seed_all(777)"
      ],
      "execution_count": null,
      "outputs": []
    },
    {
      "cell_type": "markdown",
      "metadata": {
        "id": "Ii39sjb4cnt5"
      },
      "source": [
        "학습 파라미터 설정"
      ]
    },
    {
      "cell_type": "code",
      "metadata": {
        "id": "9l6Wt88W1vSe"
      },
      "source": [
        "learning_rate = 0.001\n",
        "training_epochs = 10\n",
        "batch_size = 32"
      ],
      "execution_count": null,
      "outputs": []
    },
    {
      "cell_type": "markdown",
      "metadata": {
        "id": "ZcN3aMjvd3Rm"
      },
      "source": [
        "##1. 데이터셋 불러오기"
      ]
    },
    {
      "cell_type": "code",
      "metadata": {
        "id": "oHYM2QwF11mK"
      },
      "source": [
        "transform = transforms.Compose(\n",
        "      [transforms.Resize((224, 224)),\n",
        "       transforms.ToTensor(), \n",
        "      transforms.Normalize((0.5, 0.5, 0.5), (0.5, 0.5, 0.5))])"
      ],
      "execution_count": null,
      "outputs": []
    },
    {
      "cell_type": "code",
      "metadata": {
        "id": "AzR7pU9m2JDU"
      },
      "source": [
        "train_set = torchvision.datasets.CIFAR10(root = './data', train = True, download = True, transform = transform)\n",
        "\n",
        "train_loader = torch.utils.data.DataLoader(train_set, batch_size = batch_size, shuffle = True)"
      ],
      "execution_count": null,
      "outputs": []
    },
    {
      "cell_type": "code",
      "metadata": {
        "id": "WgBRxWEU2-Kc"
      },
      "source": [
        "test_set = torchvision.datasets.CIFAR10(root = './data', train = False, download = True, transform = transform)\n",
        "\n",
        "test_loader = torch.utils.data.DataLoader(test_set, batch_size = batch_size, shuffle = False)"
      ],
      "execution_count": null,
      "outputs": []
    },
    {
      "cell_type": "markdown",
      "metadata": {
        "id": "OyWTncPzhidk"
      },
      "source": [
        "##5. 모델 추정"
      ]
    },
    {
      "cell_type": "markdown",
      "metadata": {
        "id": "fFnmVIasm2gx"
      },
      "source": [
        "###모델 정의: VGG16(사전학습 모델)"
      ]
    },
    {
      "cell_type": "code",
      "metadata": {
        "id": "wIj0O13o_4tt"
      },
      "source": [
        "vgg16 = models.vgg16(pretrained = True) # pretrained = True : 사전학습 모델 사용한다 default = False\n",
        "vgg16.to(device)"
      ],
      "execution_count": null,
      "outputs": []
    },
    {
      "cell_type": "code",
      "metadata": {
        "id": "wC0Sjbv4ZsRN"
      },
      "source": [
        "print(vgg16)"
      ],
      "execution_count": null,
      "outputs": []
    },
    {
      "cell_type": "markdown",
      "metadata": {
        "id": "zPvynWWwKEk_"
      },
      "source": [
        "CIFAR10의 클래스 개수가 10개 이므로 vgg16가 분류하는 클래스 개수를 10개로 바꿔준다<br>\n",
        "- vgg16.classifier[6]은 (classifier)의 (6): Linear를 의미한다\n",
        "- (6): Linear의 out_featur를 1,000에서 10으로 바꿔준다"
      ]
    },
    {
      "cell_type": "code",
      "metadata": {
        "id": "iPzT2fXVAjhG"
      },
      "source": [
        "vgg16.classifier[6].out_features = 10"
      ],
      "execution_count": null,
      "outputs": []
    },
    {
      "cell_type": "markdown",
      "metadata": {
        "id": "E9UwRHuSLKhR"
      },
      "source": [
        "사전학습 모델 사용시 주의 사항\n",
        "- 반드시 로드한 가중치는 변경되지 않도록 한다\n",
        "- VGG16 모델 중 FC 이전까지의 파라미터를 고정한다"
      ]
    },
    {
      "cell_type": "code",
      "metadata": {
        "id": "GtOogg90J5zK"
      },
      "source": [
        "# .required_grad = False : 가중치 갱신x(파라미터 고정)\n",
        "# = True : 가중치 갱신(학습 중)\n",
        "for parameter in vgg11.features.parameters():\n",
        "    parameter.required_grad = False"
      ],
      "execution_count": null,
      "outputs": []
    },
    {
      "cell_type": "markdown",
      "metadata": {
        "id": "MK5JMQ_Ti2QG"
      },
      "source": [
        "###모델 학습"
      ]
    },
    {
      "cell_type": "markdown",
      "metadata": {
        "id": "YrdiSU_IPW07"
      },
      "source": [
        "Cross Entropy Loss & SGD"
      ]
    },
    {
      "cell_type": "code",
      "metadata": {
        "id": "zBgoB1miMRaG"
      },
      "source": [
        "loss = nn.CrossEntropyLoss().to(device)\n",
        "optimizer = optim.SGD(vgg16.classifier.parameters(), lr = learning_rate, momentum = 0.9)"
      ],
      "execution_count": null,
      "outputs": []
    },
    {
      "cell_type": "markdown",
      "metadata": {
        "id": "t50izj_wM3I2"
      },
      "source": [
        "Training Functinon"
      ]
    },
    {
      "cell_type": "code",
      "metadata": {
        "id": "xtppSL4YM53E"
      },
      "source": [
        "def train(model, train_data_lodaer):\n",
        "    model.train()\n",
        "\n",
        "    train_running_loss = 0.0\n",
        "    train_running_correct = 0\n",
        "\n",
        "    for i, data in enumerate(train_data_lodaer):\n",
        "        data, target = data[0].to(device), data[1].to(device)\n",
        "\n",
        "        # Gradient Initialization\n",
        "        optimizer.zero_grad()\n",
        "\n",
        "        # Forward 계산\n",
        "        hypothesis = model(data)\n",
        "\n",
        "        # Cost : Error 계산\n",
        "        cost = loss(hypothesis, target)\n",
        "\n",
        "        # Backpropagation\n",
        "        cost.backward()\n",
        "\n",
        "        # Cost로 가중치(W, b) 갱신\n",
        "        optimizer.step()\n",
        "\n",
        "        train_running_loss += cost.item()\n",
        "        _, preds = torch.max(hypothesis.data, 1)\n",
        "        train_running_correct += (preds == target).sum().item()\n",
        "\n",
        "    train_loss = train_running_loss/len(train_data_lodaer.dataset)\n",
        "    train_accuracy = 100. * train_running_correct/len(train_data_lodaer.dataset)\n",
        "      \n",
        "    print(f'Train Loss: {train_loss:.4f}, Train Acc: {train_accuracy:.2f}')\n",
        "    \n",
        "    return train_loss, train_accuracy"
      ],
      "execution_count": null,
      "outputs": []
    },
    {
      "cell_type": "markdown",
      "metadata": {
        "id": "z7N9NXfiMuA5"
      },
      "source": [
        "Validation Function"
      ]
    },
    {
      "cell_type": "code",
      "metadata": {
        "id": "CFWOrMfsMq1I"
      },
      "source": [
        "def validate(model, test_data_loader):\n",
        "    model.eval()\n",
        "\n",
        "    val_running_loss = 0.0\n",
        "    val_running_correct = 0\n",
        "\n",
        "    for int, data in enumerate(test_data_loader):\n",
        "        data, target = data[0].to(device), data[1].to(device)\n",
        "\n",
        "        # Forward 계산\n",
        "        hypothesis = model(data)\n",
        "\n",
        "        # Cost : Error 계산\n",
        "        cost = loss(hypothesis, target)\n",
        "\n",
        "        val_running_loss += cost.item()\n",
        "        _, preds = torch.max(hypothesis.data, 1)\n",
        "        val_running_correct += (preds == target).sum().item()\n",
        "    \n",
        "    val_loss = val_running_loss / len(test_data_loader.dataset)\n",
        "    val_accuracy = 100. * val_running_correct / len(test_data_loader.dataset)\n",
        "\n",
        "    return val_loss, val_accuracy"
      ],
      "execution_count": null,
      "outputs": []
    },
    {
      "cell_type": "markdown",
      "metadata": {
        "id": "QJ_KBn3KU3kN"
      },
      "source": [
        "모델 학습"
      ]
    },
    {
      "cell_type": "code",
      "metadata": {
        "id": "iDv2gsiaUVJh"
      },
      "source": [
        "train_loss, train_accuracy = [], []\n",
        "val_loss, val_accuracy = [], []\n",
        "\n",
        "start = time.time()\n",
        "for epoch in range(training_epochs):\n",
        "    # Train\n",
        "    train_epoch_loss, train_epoch_accuracy = train(vgg11, train_loader)\n",
        "\n",
        "    train_loss.append(train_epoch_loss)\n",
        "    train_accuracy.append(train_epoch_accuracy)\n",
        "\n",
        "    # Validate\n",
        "    val_epoch_loss, val_epoch_accuracy = validate(vgg11, test_loader)\n",
        "\n",
        "    val_loss.append(val_epoch_loss)\n",
        "    val_accuracy.append(val_epoch_accuracy)\n",
        "\n",
        "    print(train_accuracy, val_accuracy)\n",
        "\n",
        "end = time.time()\n",
        "print((end - start)/60, 'minute')"
      ],
      "execution_count": null,
      "outputs": []
    },
    {
      "cell_type": "markdown",
      "metadata": {
        "id": "SJa85CjapKpl"
      },
      "source": [
        "##6. 결과 분석"
      ]
    },
    {
      "cell_type": "markdown",
      "metadata": {
        "id": "mRtiJ0JZeQC7"
      },
      "source": [
        "Accuracy"
      ]
    },
    {
      "cell_type": "code",
      "metadata": {
        "id": "fA2f4bf5WH_7"
      },
      "source": [
        "plt.figure(figsize = (10, 7))\n",
        "plt.plot(train_accuracy, color = 'green', label = 'train accuracy')\n",
        "plt.plot(val_accuracy, color = 'blue', label = 'validation accuracy')\n",
        "plt.legend()\n",
        "plt.savefid('accuracy.png')\n",
        "plt.show()"
      ],
      "execution_count": null,
      "outputs": []
    },
    {
      "cell_type": "markdown",
      "metadata": {
        "id": "xxCnbb0ueRU4"
      },
      "source": [
        "Loss"
      ]
    },
    {
      "cell_type": "code",
      "metadata": {
        "id": "AxpPErY9X-V2"
      },
      "source": [
        "plt.figure(figsize = (10, 7))\n",
        "plt.plot(train_loss, color = 'orange', label = 'train loss')\n",
        "plt.plot(val_loss, color = 'red', label = 'validation loss')\n",
        "plt.legend()\n",
        "plt.savefid('loss.png')\n",
        "plt.show()"
      ],
      "execution_count": null,
      "outputs": []
    }
  ]
}