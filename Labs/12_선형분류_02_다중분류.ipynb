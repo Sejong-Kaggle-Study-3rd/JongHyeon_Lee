{
  "nbformat": 4,
  "nbformat_minor": 0,
  "metadata": {
    "colab": {
      "name": "12_선형분류_02_다중분류",
      "provenance": [],
      "collapsed_sections": []
    },
    "kernelspec": {
      "name": "python3",
      "display_name": "Python 3"
    },
    "language_info": {
      "name": "python"
    }
  },
  "cells": [
    {
      "cell_type": "markdown",
      "metadata": {
        "id": "sdTKPFECPyKw"
      },
      "source": [
        "#12_선형분류_다중분류"
      ]
    },
    {
      "cell_type": "markdown",
      "metadata": {
        "id": "vXIKbwjSGY_o"
      },
      "source": [
        "### ML/DL 라이브러리 불러오기"
      ]
    },
    {
      "cell_type": "code",
      "metadata": {
        "colab": {
          "base_uri": "https://localhost:8080/"
        },
        "id": "0Lixf0PLPWsC",
        "outputId": "984c520a-1024-410e-c651-e6db12360311"
      },
      "source": [
        "import torch\n",
        "import torch.optim as optim\n",
        "# random Seed 고정하기\n",
        "torch.manual_seed(1)"
      ],
      "execution_count": 1,
      "outputs": [
        {
          "output_type": "execute_result",
          "data": {
            "text/plain": [
              "<torch._C.Generator at 0x7f84bec78b30>"
            ]
          },
          "metadata": {
            "tags": []
          },
          "execution_count": 1
        }
      ]
    },
    {
      "cell_type": "markdown",
      "metadata": {
        "id": "QRBHVo8SesEv"
      },
      "source": [
        "##1. 데이터셋불러오기"
      ]
    },
    {
      "cell_type": "code",
      "metadata": {
        "id": "z6GQE8EbPr8G"
      },
      "source": [
        "x_train = [[1, 2, 1, 1],\n",
        "           [2, 1, 3, 2],\n",
        "           [3, 1, 3, 4],\n",
        "           [4, 1, 5, 5],\n",
        "           [1, 7, 5, 5],\n",
        "           [1, 2, 5, 6],\n",
        "           [1, 6, 6, 6],\n",
        "           [1, 7, 7, 7]]\n",
        "y_train = [2, 2, 2, 1, 1, 1, 0, 0]"
      ],
      "execution_count": 2,
      "outputs": []
    },
    {
      "cell_type": "code",
      "metadata": {
        "id": "REtQg3pGo3IN"
      },
      "source": [
        "x_train = torch.FloatTensor(x_train)\n",
        "y_train = torch.LongTensor(y_train)"
      ],
      "execution_count": 3,
      "outputs": []
    },
    {
      "cell_type": "code",
      "metadata": {
        "colab": {
          "base_uri": "https://localhost:8080/"
        },
        "id": "lPXpGVRwpBoR",
        "outputId": "6a401923-83d9-44cb-8cee-294acaa5d11b"
      },
      "source": [
        "print(x_train[:5])\n",
        "print(y_train[:5])"
      ],
      "execution_count": 4,
      "outputs": [
        {
          "output_type": "stream",
          "text": [
            "tensor([[1., 2., 1., 1.],\n",
            "        [2., 1., 3., 2.],\n",
            "        [3., 1., 3., 4.],\n",
            "        [4., 1., 5., 5.],\n",
            "        [1., 7., 5., 5.]])\n",
            "tensor([2, 2, 2, 1, 1])\n"
          ],
          "name": "stdout"
        }
      ]
    },
    {
      "cell_type": "markdown",
      "metadata": {
        "id": "KKtlHyr1sNUR"
      },
      "source": [
        "정답 데이터"
      ]
    },
    {
      "cell_type": "code",
      "metadata": {
        "colab": {
          "base_uri": "https://localhost:8080/"
        },
        "id": "yZt_u5pFpF45",
        "outputId": "29f4ddff-a080-48ab-f30b-b09c06a6eab0"
      },
      "source": [
        "print(y_train)\n",
        "print(y_train.unsqueeze(1))"
      ],
      "execution_count": 5,
      "outputs": [
        {
          "output_type": "stream",
          "text": [
            "tensor([2, 2, 2, 1, 1, 1, 0, 0])\n",
            "tensor([[2],\n",
            "        [2],\n",
            "        [2],\n",
            "        [1],\n",
            "        [1],\n",
            "        [1],\n",
            "        [0],\n",
            "        [0]])\n"
          ],
          "name": "stdout"
        }
      ]
    },
    {
      "cell_type": "markdown",
      "metadata": {
        "id": "Taw9ceZgsRw7"
      },
      "source": [
        "One-hot Encoding: 정답 데이터"
      ]
    },
    {
      "cell_type": "code",
      "metadata": {
        "colab": {
          "base_uri": "https://localhost:8080/"
        },
        "id": "x4_QI4PLr2TB",
        "outputId": "2993cff6-030d-4dc0-e054-e566e3f6bcb7"
      },
      "source": [
        "nb_class = 3\n",
        "nb_data = len(y_train)\n",
        "y_one_hot = torch.zeros(nb_data, nb_class)\n",
        "y_one_hot.scatter_(1, y_train.unsqueeze(1), 1)\n",
        "\n",
        "print(y_one_hot)"
      ],
      "execution_count": 6,
      "outputs": [
        {
          "output_type": "stream",
          "text": [
            "tensor([[0., 0., 1.],\n",
            "        [0., 0., 1.],\n",
            "        [0., 0., 1.],\n",
            "        [0., 1., 0.],\n",
            "        [0., 1., 0.],\n",
            "        [0., 1., 0.],\n",
            "        [1., 0., 0.],\n",
            "        [1., 0., 0.]])\n"
          ],
          "name": "stdout"
        }
      ]
    },
    {
      "cell_type": "markdown",
      "metadata": {
        "id": "onCXvnxXfTu2"
      },
      "source": [
        "##5. 모델 학습: Softmax"
      ]
    },
    {
      "cell_type": "code",
      "metadata": {
        "id": "8bBVj_WuqQWS"
      },
      "source": [
        "# Softmax, Cross-entropy\n",
        "import torch.nn.functional as F"
      ],
      "execution_count": 7,
      "outputs": []
    },
    {
      "cell_type": "code",
      "metadata": {
        "id": "cAnCh116qWRD"
      },
      "source": [
        "nb_class = 3\n",
        "nb_data = len(y_train)"
      ],
      "execution_count": 8,
      "outputs": []
    },
    {
      "cell_type": "markdown",
      "metadata": {
        "id": "2vPG37F9hj3E"
      },
      "source": [
        "###1. Full Code with Softmax & One-hot Encoding"
      ]
    },
    {
      "cell_type": "code",
      "metadata": {
        "colab": {
          "base_uri": "https://localhost:8080/"
        },
        "id": "VCI3wurvqzYX",
        "outputId": "b5243527-742e-445e-b6af-5f7563b693c3"
      },
      "source": [
        "# Initialization: W and b\n",
        "W = torch.zeros((4, nb_class), requires_grad = True)\n",
        "b = torch.zeros(1, requires_grad = True)\n",
        "\n",
        "# Opimizer\n",
        "optimizer = optim.SGD([W, b], lr = 0.01)\n",
        "\n",
        "# 파라미커 100번 갱신 반복하기\n",
        "nb_epochs = 1000\n",
        "for epoch in range(nb_epochs + 1):\n",
        "\n",
        "  # Softmax Hypothesis\n",
        "  hypothesis = F.softmax(x_train.matmul(W)+b, dim = 1)\n",
        "\n",
        "  # One-hot Encoding\n",
        "  y_one_hot = torch.zeros(nb_data, nb_class)\n",
        "  y_one_hot.scatter_(1, y_train.unsqueeze(1), 1)\n",
        "\n",
        "  # Cost\n",
        "  cost = (y_one_hot * -torch.log(F.softmax(hypothesis, dim = 1))).sum(dim = 1).mean()\n",
        "\n",
        "  # Cost로 파라미터 W, b 갱신\n",
        "  optimizer.zero_grad() # Optimizer의 gradient 0으로 초기화\n",
        "  cost.backward() # Cost로 Optimizer 알고리즘 수행\n",
        "  optimizer.step() # W, b 갱신\n",
        "\n",
        "  #100번마다 갱신 상황 출력\n",
        "  if epoch % 100 == 0:\n",
        "    print('Epoch {:4d}/{} Cost: {:.6f}'.format(epoch, nb_epochs, cost.item()))"
      ],
      "execution_count": 9,
      "outputs": [
        {
          "output_type": "stream",
          "text": [
            "Epoch    0/1000 Cost: 1.098612\n",
            "Epoch  100/1000 Cost: 1.036919\n",
            "Epoch  200/1000 Cost: 1.010905\n",
            "Epoch  300/1000 Cost: 0.991541\n",
            "Epoch  400/1000 Cost: 0.974942\n",
            "Epoch  500/1000 Cost: 0.959928\n",
            "Epoch  600/1000 Cost: 0.946149\n",
            "Epoch  700/1000 Cost: 0.933492\n",
            "Epoch  800/1000 Cost: 0.921898\n",
            "Epoch  900/1000 Cost: 0.911302\n",
            "Epoch 1000/1000 Cost: 0.901625\n"
          ],
          "name": "stdout"
        }
      ]
    },
    {
      "cell_type": "markdown",
      "metadata": {
        "id": "tmbLO7g-uqtQ"
      },
      "source": [
        "#### 2. Full Code with Softmax & Cross-Entropy"
      ]
    },
    {
      "cell_type": "code",
      "metadata": {
        "colab": {
          "base_uri": "https://localhost:8080/"
        },
        "id": "HMlHRPt-tfXw",
        "outputId": "13e790c7-0f45-4f9a-83ec-3cc8ebb66e01"
      },
      "source": [
        "# Initialization: W and b\n",
        "W = torch.zeros((4, nb_class), requires_grad = True)\n",
        "b = torch.zeros(1, requires_grad = True)\n",
        "\n",
        "# Opimizer\n",
        "optimizer = optim.SGD([W, b], lr = 0.01)\n",
        "\n",
        "nb_epochs = 1000\n",
        "for epoch in range(nb_epochs + 1):\n",
        "\n",
        "  # Softmax Hypothesis\n",
        "  hypothesis = F.softmax(x_train.matmul(W)+b, dim = 1)\n",
        "\n",
        "  # Cost with Cross-entropy: One-hot Encoding 필요 없다\n",
        "  cost = F.cross_entropy((x_train.matmul(W) + b), y_train)\n",
        "\n",
        "  # Cost로 파라미터 W, b 갱신\n",
        "  optimizer.zero_grad() # Optimizer의 gradient 0으로 초기화\n",
        "  cost.backward() # Cost로 Optimizer 알고리즘 수행\n",
        "  optimizer.step() # W, b 갱신\n",
        "\n",
        "  #100번마다 갱신 상황 출력\n",
        "  if epoch % 100 == 0:\n",
        "    print('Epoch {:4d}/{} Cost: {:.6f}'.format(epoch, nb_epochs, cost.item()))"
      ],
      "execution_count": 10,
      "outputs": [
        {
          "output_type": "stream",
          "text": [
            "Epoch    0/1000 Cost: 1.098612\n",
            "Epoch  100/1000 Cost: 0.850816\n",
            "Epoch  200/1000 Cost: 0.784908\n",
            "Epoch  300/1000 Cost: 0.744590\n",
            "Epoch  400/1000 Cost: 0.714646\n",
            "Epoch  500/1000 Cost: 0.690688\n",
            "Epoch  600/1000 Cost: 0.670780\n",
            "Epoch  700/1000 Cost: 0.653828\n",
            "Epoch  800/1000 Cost: 0.639125\n",
            "Epoch  900/1000 Cost: 0.626180\n",
            "Epoch 1000/1000 Cost: 0.614640\n"
          ],
          "name": "stdout"
        }
      ]
    },
    {
      "cell_type": "markdown",
      "metadata": {
        "id": "c1PzCitkuw6W"
      },
      "source": [
        "## 6. 결과 분석"
      ]
    },
    {
      "cell_type": "markdown",
      "metadata": {
        "id": "VFPxJheyxHZJ"
      },
      "source": [
        "Softmax Hypothesis"
      ]
    },
    {
      "cell_type": "code",
      "metadata": {
        "colab": {
          "base_uri": "https://localhost:8080/"
        },
        "id": "5M-D4fJQu0vO",
        "outputId": "e462532e-fc99-481f-f937-3d9d54dd422d"
      },
      "source": [
        "hypothesis = F.softmax(x_train.matmul(W) + b, dim = 1)\n",
        "\n",
        "print(hypothesis)"
      ],
      "execution_count": 11,
      "outputs": [
        {
          "output_type": "stream",
          "text": [
            "tensor([[0.1417, 0.2281, 0.6302],\n",
            "        [0.0747, 0.3657, 0.5596],\n",
            "        [0.0181, 0.4477, 0.5343],\n",
            "        [0.0088, 0.4927, 0.4986],\n",
            "        [0.6136, 0.2927, 0.0937],\n",
            "        [0.2573, 0.7295, 0.0132],\n",
            "        [0.5776, 0.3942, 0.0282],\n",
            "        [0.6400, 0.3469, 0.0130]], grad_fn=<SoftmaxBackward>)\n"
          ],
          "name": "stdout"
        }
      ]
    },
    {
      "cell_type": "markdown",
      "metadata": {
        "id": "iGJGDlOHxB2D"
      },
      "source": [
        "argmax를 이용한 예측"
      ]
    },
    {
      "cell_type": "code",
      "metadata": {
        "colab": {
          "base_uri": "https://localhost:8080/"
        },
        "id": "EjEW6jggvD3B",
        "outputId": "55b714a2-05dc-4146-b0a7-2f35b36d0939"
      },
      "source": [
        "# argmax: 가장 큰 값의 인덱스 반환\n",
        "predict = torch.argmax(hypothesis, dim = 1)\n",
        "\n",
        "print(predict)"
      ],
      "execution_count": 12,
      "outputs": [
        {
          "output_type": "stream",
          "text": [
            "tensor([2, 2, 2, 2, 0, 1, 0, 0])\n"
          ],
          "name": "stdout"
        }
      ]
    },
    {
      "cell_type": "markdown",
      "metadata": {
        "id": "Ah92OTCQw_fC"
      },
      "source": [
        "정답"
      ]
    },
    {
      "cell_type": "code",
      "metadata": {
        "colab": {
          "base_uri": "https://localhost:8080/"
        },
        "id": "UsR31RJ3vOkW",
        "outputId": "b2820936-489f-47e4-c8d0-32e8d5e887ca"
      },
      "source": [
        "print(y_train)"
      ],
      "execution_count": 13,
      "outputs": [
        {
          "output_type": "stream",
          "text": [
            "tensor([2, 2, 2, 1, 1, 1, 0, 0])\n"
          ],
          "name": "stdout"
        }
      ]
    },
    {
      "cell_type": "markdown",
      "metadata": {
        "id": "_qSFc3LZw9Xh"
      },
      "source": [
        "채점"
      ]
    },
    {
      "cell_type": "code",
      "metadata": {
        "colab": {
          "base_uri": "https://localhost:8080/"
        },
        "id": "cNhozS4avXxG",
        "outputId": "d758a4c6-d82d-48c6-98b1-02fd32c83d5b"
      },
      "source": [
        "correct_prediction = predict.float() == y_train\n",
        "\n",
        "print(correct_prediction)"
      ],
      "execution_count": 14,
      "outputs": [
        {
          "output_type": "stream",
          "text": [
            "tensor([ True,  True,  True, False, False,  True,  True,  True])\n"
          ],
          "name": "stdout"
        }
      ]
    },
    {
      "cell_type": "markdown",
      "metadata": {
        "id": "UWFeAIwXw7pu"
      },
      "source": [
        "정확도"
      ]
    },
    {
      "cell_type": "code",
      "metadata": {
        "colab": {
          "base_uri": "https://localhost:8080/"
        },
        "id": "L4UCFOANwKvG",
        "outputId": "b8cd597e-cec2-4789-ca7b-415e8d0f4027"
      },
      "source": [
        "accuracy = correct_prediction.sum().item() / len(correct_prediction)\n",
        "\n",
        "print('The model has an accuracy of {:2.2f}% for the training set.'.format(accuracy * 100))"
      ],
      "execution_count": 15,
      "outputs": [
        {
          "output_type": "stream",
          "text": [
            "The model has an accuracy of 75.00% for the training set.\n"
          ],
          "name": "stdout"
        }
      ]
    }
  ]
}