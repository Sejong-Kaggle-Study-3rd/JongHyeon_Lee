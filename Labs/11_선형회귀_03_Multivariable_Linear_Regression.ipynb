{
  "nbformat": 4,
  "nbformat_minor": 0,
  "metadata": {
    "colab": {
      "name": "11_선형회귀_03_Multivariable Linear Regression",
      "provenance": []
    },
    "kernelspec": {
      "name": "python3",
      "display_name": "Python 3"
    },
    "language_info": {
      "name": "python"
    }
  },
  "cells": [
    {
      "cell_type": "markdown",
      "metadata": {
        "id": "pAJD3N6A7OyT"
      },
      "source": [
        "#11_선형회귀_Multivariable Linear Regression"
      ]
    },
    {
      "cell_type": "markdown",
      "metadata": {
        "id": "LeVkhRY37_lZ"
      },
      "source": [
        "### ML/DL 라이브러리 불러오기"
      ]
    },
    {
      "cell_type": "markdown",
      "metadata": {
        "id": "f3NRA4yE8Dog"
      },
      "source": [
        "PyTorch"
      ]
    },
    {
      "cell_type": "code",
      "metadata": {
        "colab": {
          "base_uri": "https://localhost:8080/"
        },
        "id": "aKrf9Ji-7Nml",
        "outputId": "b16b1157-5841-4d80-f303-8fb2f052fa2b"
      },
      "source": [
        "import torch\n",
        "import torch.optim as optim\n",
        "\n",
        "torch.manual_seed(1)"
      ],
      "execution_count": 1,
      "outputs": [
        {
          "output_type": "execute_result",
          "data": {
            "text/plain": [
              "<torch._C.Generator at 0x7f63e8a4faf0>"
            ]
          },
          "metadata": {
            "tags": []
          },
          "execution_count": 1
        }
      ]
    },
    {
      "cell_type": "markdown",
      "metadata": {
        "id": "a21VPdGMAujz"
      },
      "source": [
        "##Matrix 없이 다중선형회귀"
      ]
    },
    {
      "cell_type": "markdown",
      "metadata": {
        "id": "evoEMVnf8N74"
      },
      "source": [
        "###1. 데이터셋 불러오기"
      ]
    },
    {
      "cell_type": "code",
      "metadata": {
        "id": "4DhKeenr8Nk7"
      },
      "source": [
        "x1_train = torch.FloatTensor([[73], [93], [89], [96], [73]])\n",
        "x2_train = torch.FloatTensor([[80], [88], [91], [98], [66]])\n",
        "x3_train = torch.FloatTensor([[75], [93], [90], [100], [70]])\n",
        "y_train = torch.FloatTensor([[152], [185], [180], [196], [142]])"
      ],
      "execution_count": 2,
      "outputs": []
    },
    {
      "cell_type": "markdown",
      "metadata": {
        "id": "7S7Od_wm8YGA"
      },
      "source": [
        "###5. 모델추정: Full Code without Matrix"
      ]
    },
    {
      "cell_type": "markdown",
      "metadata": {
        "id": "gvQ48gMR9-3c"
      },
      "source": [
        "lr를 너무 크게 하면 발산하여 nan이 뜬다"
      ]
    },
    {
      "cell_type": "code",
      "metadata": {
        "colab": {
          "base_uri": "https://localhost:8080/"
        },
        "id": "G497ouOR8WR2",
        "outputId": "e97fc09f-ec0e-4471-8749-1f4e5a419728"
      },
      "source": [
        "# 모델 초기화\n",
        "w1 = torch.zeros(1, requires_grad=True)\n",
        "w2 = torch.zeros(1, requires_grad=True)\n",
        "w3 = torch.zeros(1, requires_grad=True)\n",
        "b = torch.zeros(1, requires_grad=True)\n",
        "\n",
        "# Optimizer 설정\n",
        "optimizer = optim.SGD([w1, w2, w3, b], lr = 1e-5)\n",
        "\n",
        "# 파라미터 갱신 1000번 반복\n",
        "nb_epochs = 1000\n",
        "for epoch in range(nb_epochs + 1):\n",
        "\n",
        "  # Hypothesis\n",
        "  hypothesis = x1_train * w1 + x2_train * w2 + x3_train * w3 + b\n",
        "\n",
        "  # Cost\n",
        "  cost = torch.mean((hypothesis - y_train) ** 2)\n",
        "\n",
        "  # Cost로 파라미터 갱신\n",
        "  optimizer.zero_grad()\n",
        "  cost.backward()\n",
        "  optimizer.step()\n",
        "\n",
        "  # 100번마다 갱신 상황 출력\n",
        "  if epoch % 100 == 0:\n",
        "    print('Epoch {:4d}/{}, w1: {:.3f}, w2: {:.3f}, w3: {:.3f}, b: {:.3f}, Cost: {:.6f}'.format(\n",
        "        epoch, nb_epochs, w1.item(), w2.item(), w3.item(), b.item(), cost.item()))"
      ],
      "execution_count": 3,
      "outputs": [
        {
          "output_type": "stream",
          "text": [
            "Epoch    0/1000, w1: 0.294, w2: 0.294, w3: 0.297, b: 0.003, Cost: 29661.800781\n",
            "Epoch  100/1000, w1: 0.674, w2: 0.661, w3: 0.676, b: 0.008, Cost: 1.563628\n",
            "Epoch  200/1000, w1: 0.679, w2: 0.655, w3: 0.677, b: 0.008, Cost: 1.497595\n",
            "Epoch  300/1000, w1: 0.684, w2: 0.649, w3: 0.677, b: 0.008, Cost: 1.435044\n",
            "Epoch  400/1000, w1: 0.689, w2: 0.643, w3: 0.678, b: 0.008, Cost: 1.375726\n",
            "Epoch  500/1000, w1: 0.694, w2: 0.638, w3: 0.678, b: 0.009, Cost: 1.319507\n",
            "Epoch  600/1000, w1: 0.699, w2: 0.633, w3: 0.679, b: 0.009, Cost: 1.266222\n",
            "Epoch  700/1000, w1: 0.704, w2: 0.627, w3: 0.679, b: 0.009, Cost: 1.215703\n",
            "Epoch  800/1000, w1: 0.709, w2: 0.622, w3: 0.679, b: 0.009, Cost: 1.167810\n",
            "Epoch  900/1000, w1: 0.713, w2: 0.617, w3: 0.680, b: 0.009, Cost: 1.122429\n",
            "Epoch 1000/1000, w1: 0.718, w2: 0.613, w3: 0.680, b: 0.009, Cost: 1.079390\n"
          ],
          "name": "stdout"
        }
      ]
    },
    {
      "cell_type": "markdown",
      "metadata": {
        "id": "XhkuCHrNA2li"
      },
      "source": [
        "##Matrix로 다중선형회귀"
      ]
    },
    {
      "cell_type": "markdown",
      "metadata": {
        "id": "PvU78mbw-QBG"
      },
      "source": [
        "###1. 데이터셋 불러오기"
      ]
    },
    {
      "cell_type": "code",
      "metadata": {
        "id": "HbJTKMUy90eP"
      },
      "source": [
        "x_train = torch.FloatTensor([[73, 80, 75],\n",
        "                             [93, 88, 93],\n",
        "                             [89, 91, 90],\n",
        "                             [96, 98, 100],\n",
        "                             [73, 66, 70]])\n",
        "y_train = torch.FloatTensor([[152], [185], [180], [196], [142]])"
      ],
      "execution_count": 5,
      "outputs": []
    },
    {
      "cell_type": "code",
      "metadata": {
        "colab": {
          "base_uri": "https://localhost:8080/"
        },
        "id": "LoOkRhZx-cJo",
        "outputId": "3307a4aa-2167-4352-8881-77427242bc24"
      },
      "source": [
        "print(x_train.shape)\n",
        "print(y_train.shape)"
      ],
      "execution_count": 6,
      "outputs": [
        {
          "output_type": "stream",
          "text": [
            "torch.Size([5, 3])\n",
            "torch.Size([5, 1])\n"
          ],
          "name": "stdout"
        }
      ]
    },
    {
      "cell_type": "markdown",
      "metadata": {
        "id": "ICpUqjXy-WUN"
      },
      "source": [
        "###5. 모델 추정: Full Code with Matrix"
      ]
    },
    {
      "cell_type": "code",
      "metadata": {
        "colab": {
          "base_uri": "https://localhost:8080/"
        },
        "id": "YWwXi3vU-jOL",
        "outputId": "362a745b-117c-4f28-af84-13f2a8978552"
      },
      "source": [
        "#모델 초기화\n",
        "W = torch.zeros((3, 1), requires_grad = True)\n",
        "b = torch.zeros(1, requires_grad = True)\n",
        "\n",
        "# Optimizer 설정\n",
        "optimizer = optim.SGD([W, b], lr = 1e-5)\n",
        "\n",
        "# 파라미터 갱신 1000번 반복\n",
        "nb_epochs = 1000\n",
        "for epoch in range(nb_epochs + 1):\n",
        "\n",
        "  # Hypothesis: Matrix 연산 matmul()\n",
        "  hypothesis = x_train.matmul(W) + b\n",
        "\n",
        "  # Cost\n",
        "  cost = torch.mean((hypothesis - y_train) ** 2)\n",
        "\n",
        "  #  Cost로 파라미터 갱신\n",
        "  optimizer.zero_grad()\n",
        "  cost.backward()\n",
        "  optimizer.step()\n",
        "\n",
        "  # 100번마다 갱신 상황 출력\n",
        "  if epoch % 100 == 0:\n",
        "   print('Epoch {:4d}/{} hypothesis: {} Cost: {:.6f}'.format(epoch, nb_epochs, hypothesis.squeeze().detach(), cost.item()))\n",
        "\n",
        "#최종 W, b\n",
        "print(W)\n",
        "print(b)"
      ],
      "execution_count": 10,
      "outputs": [
        {
          "output_type": "stream",
          "text": [
            "Epoch    0/1000 hypothesis: tensor([0., 0., 0., 0., 0.]) Cost: 29661.800781\n",
            "Epoch  100/1000 hypothesis: tensor([152.7691, 183.6985, 180.9591, 197.0627, 140.1336]) Cost: 1.563628\n",
            "Epoch  200/1000 hypothesis: tensor([152.7273, 183.7273, 180.9465, 197.0517, 140.1731]) Cost: 1.497595\n",
            "Epoch  300/1000 hypothesis: tensor([152.6866, 183.7554, 180.9343, 197.0409, 140.2116]) Cost: 1.435044\n",
            "Epoch  400/1000 hypothesis: tensor([152.6470, 183.7827, 180.9224, 197.0304, 140.2491]) Cost: 1.375726\n",
            "Epoch  500/1000 hypothesis: tensor([152.6085, 183.8093, 180.9108, 197.0201, 140.2856]) Cost: 1.319507\n",
            "Epoch  600/1000 hypothesis: tensor([152.5711, 183.8352, 180.8996, 197.0101, 140.3211]) Cost: 1.266222\n",
            "Epoch  700/1000 hypothesis: tensor([152.5346, 183.8604, 180.8887, 197.0003, 140.3557]) Cost: 1.215703\n",
            "Epoch  800/1000 hypothesis: tensor([152.4992, 183.8849, 180.8780, 196.9908, 140.3895]) Cost: 1.167810\n",
            "Epoch  900/1000 hypothesis: tensor([152.4647, 183.9087, 180.8677, 196.9814, 140.4223]) Cost: 1.122429\n",
            "Epoch 1000/1000 hypothesis: tensor([152.4312, 183.9319, 180.8577, 196.9723, 140.4543]) Cost: 1.079390\n",
            "tensor([[0.7179],\n",
            "        [0.6125],\n",
            "        [0.6801]], requires_grad=True)\n",
            "tensor([0.0092], requires_grad=True)\n"
          ],
          "name": "stdout"
        }
      ]
    }
  ]
}